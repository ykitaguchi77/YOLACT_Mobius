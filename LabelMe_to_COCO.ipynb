{
  "nbformat": 4,
  "nbformat_minor": 0,
  "metadata": {
    "colab": {
      "provenance": [],
      "authorship_tag": "ABX9TyNajgHSwwTfysA+UxSHlA5b",
      "include_colab_link": true
    },
    "kernelspec": {
      "name": "python3",
      "display_name": "Python 3"
    },
    "language_info": {
      "name": "python"
    }
  },
  "cells": [
    {
      "cell_type": "markdown",
      "metadata": {
        "id": "view-in-github",
        "colab_type": "text"
      },
      "source": [
        "<a href=\"https://colab.research.google.com/github/ykitaguchi77/YOLACT_Mobius/blob/main/LabelMe_to_COCO.ipynb\" target=\"_parent\"><img src=\"https://colab.research.google.com/assets/colab-badge.svg\" alt=\"Open In Colab\"/></a>"
      ]
    },
    {
      "cell_type": "markdown",
      "source": [
        "#**Convert labelme-json to coco-format-json**\n",
        "\n",
        "Coco-formatへの変換\n",
        "https://github.com/fcakyon/labelme2coco\n",
        "\n",
        "labelmeの使い方https://qiita.com/kotaxtech/items/f4afe24c6c033f77e10a\n"
      ],
      "metadata": {
        "id": "XewfQjcBrRKX"
      }
    },
    {
      "cell_type": "code",
      "execution_count": 9,
      "metadata": {
        "colab": {
          "base_uri": "https://localhost:8080/"
        },
        "id": "Tvh-jiedqjt8",
        "outputId": "ff6ed26f-2798-4705-d32d-921b56eb58f5"
      },
      "outputs": [
        {
          "output_type": "stream",
          "name": "stdout",
          "text": [
            "Drive already mounted at /content/drive; to attempt to forcibly remount, call drive.mount(\"/content/drive\", force_remount=True).\n",
            "Requirement already satisfied: labelme2coco in /usr/local/lib/python3.10/dist-packages (0.2.4)\n",
            "Requirement already satisfied: sahi>=0.8.19 in /usr/local/lib/python3.10/dist-packages (from labelme2coco) (0.11.15)\n",
            "Requirement already satisfied: jsonschema>=2.6.0 in /usr/local/lib/python3.10/dist-packages (from labelme2coco) (4.19.2)\n",
            "Requirement already satisfied: attrs>=22.2.0 in /usr/local/lib/python3.10/dist-packages (from jsonschema>=2.6.0->labelme2coco) (23.2.0)\n",
            "Requirement already satisfied: jsonschema-specifications>=2023.03.6 in /usr/local/lib/python3.10/dist-packages (from jsonschema>=2.6.0->labelme2coco) (2023.12.1)\n",
            "Requirement already satisfied: referencing>=0.28.4 in /usr/local/lib/python3.10/dist-packages (from jsonschema>=2.6.0->labelme2coco) (0.32.1)\n",
            "Requirement already satisfied: rpds-py>=0.7.1 in /usr/local/lib/python3.10/dist-packages (from jsonschema>=2.6.0->labelme2coco) (0.17.1)\n",
            "Requirement already satisfied: opencv-python<=4.8 in /usr/local/lib/python3.10/dist-packages (from sahi>=0.8.19->labelme2coco) (4.7.0.72)\n",
            "Requirement already satisfied: shapely>=1.8.0 in /usr/local/lib/python3.10/dist-packages (from sahi>=0.8.19->labelme2coco) (2.0.2)\n",
            "Requirement already satisfied: tqdm>=4.48.2 in /usr/local/lib/python3.10/dist-packages (from sahi>=0.8.19->labelme2coco) (4.66.1)\n",
            "Requirement already satisfied: pillow>=8.2.0 in /usr/local/lib/python3.10/dist-packages (from sahi>=0.8.19->labelme2coco) (9.4.0)\n",
            "Requirement already satisfied: pybboxes==0.1.6 in /usr/local/lib/python3.10/dist-packages (from sahi>=0.8.19->labelme2coco) (0.1.6)\n",
            "Requirement already satisfied: pyyaml in /usr/local/lib/python3.10/dist-packages (from sahi>=0.8.19->labelme2coco) (6.0.1)\n",
            "Requirement already satisfied: fire in /usr/local/lib/python3.10/dist-packages (from sahi>=0.8.19->labelme2coco) (0.5.0)\n",
            "Requirement already satisfied: terminaltables in /usr/local/lib/python3.10/dist-packages (from sahi>=0.8.19->labelme2coco) (3.1.10)\n",
            "Requirement already satisfied: requests in /usr/local/lib/python3.10/dist-packages (from sahi>=0.8.19->labelme2coco) (2.31.0)\n",
            "Requirement already satisfied: click in /usr/local/lib/python3.10/dist-packages (from sahi>=0.8.19->labelme2coco) (8.1.7)\n",
            "Requirement already satisfied: numpy in /usr/local/lib/python3.10/dist-packages (from pybboxes==0.1.6->sahi>=0.8.19->labelme2coco) (1.23.5)\n",
            "Requirement already satisfied: six in /usr/local/lib/python3.10/dist-packages (from fire->sahi>=0.8.19->labelme2coco) (1.16.0)\n",
            "Requirement already satisfied: termcolor in /usr/local/lib/python3.10/dist-packages (from fire->sahi>=0.8.19->labelme2coco) (2.4.0)\n",
            "Requirement already satisfied: charset-normalizer<4,>=2 in /usr/local/lib/python3.10/dist-packages (from requests->sahi>=0.8.19->labelme2coco) (3.3.2)\n",
            "Requirement already satisfied: idna<4,>=2.5 in /usr/local/lib/python3.10/dist-packages (from requests->sahi>=0.8.19->labelme2coco) (3.6)\n",
            "Requirement already satisfied: urllib3<3,>=1.21.1 in /usr/local/lib/python3.10/dist-packages (from requests->sahi>=0.8.19->labelme2coco) (2.0.7)\n",
            "Requirement already satisfied: certifi>=2017.4.17 in /usr/local/lib/python3.10/dist-packages (from requests->sahi>=0.8.19->labelme2coco) (2023.11.17)\n"
          ]
        }
      ],
      "source": [
        "from google.colab import drive\n",
        "drive.mount('/content/drive')\n",
        "\n",
        "!pip install labelme2coco\n",
        "import labelme2coco"
      ]
    },
    {
      "cell_type": "code",
      "source": [
        "# set directory that contains labelme annotations and image files\n",
        "labelme_folder = \"/content/drive/MyDrive/Deep_learning/YOLACT_Mobius_ocular_dataset/labelme/labelme\" #変換ファイルの保存元\n",
        "\n",
        "# set export dir\n",
        "export_dir = \"/content/drive/MyDrive/Deep_learning/YOLACT_Mobius_ocular_dataset/labelme/coco_format\" #保存先"
      ],
      "metadata": {
        "id": "eM683rWUryo1"
      },
      "execution_count": 7,
      "outputs": []
    },
    {
      "cell_type": "code",
      "source": [
        "# set train split rate\n",
        "train_split_rate = 0.85 #これを設定することにより、train.jsonとval.jsonに自動的に仕分けてくれる\n",
        "\n",
        "# convert labelme annotations to coco\n",
        "labelme2coco.convert(labelme_folder, export_dir, train_split_rate)"
      ],
      "metadata": {
        "colab": {
          "base_uri": "https://localhost:8080/"
        },
        "id": "gh_F9GRksEeV",
        "outputId": "d38dc6fe-f7a0-444e-c6d6-88dd7fd4118e"
      },
      "execution_count": 8,
      "outputs": [
        {
          "output_type": "stream",
          "name": "stdout",
          "text": [
            "Requirement already satisfied: labelme2coco in /usr/local/lib/python3.10/dist-packages (0.2.4)\n",
            "Requirement already satisfied: sahi>=0.8.19 in /usr/local/lib/python3.10/dist-packages (from labelme2coco) (0.11.15)\n",
            "Requirement already satisfied: jsonschema>=2.6.0 in /usr/local/lib/python3.10/dist-packages (from labelme2coco) (4.19.2)\n",
            "Requirement already satisfied: attrs>=22.2.0 in /usr/local/lib/python3.10/dist-packages (from jsonschema>=2.6.0->labelme2coco) (23.2.0)\n",
            "Requirement already satisfied: jsonschema-specifications>=2023.03.6 in /usr/local/lib/python3.10/dist-packages (from jsonschema>=2.6.0->labelme2coco) (2023.12.1)\n",
            "Requirement already satisfied: referencing>=0.28.4 in /usr/local/lib/python3.10/dist-packages (from jsonschema>=2.6.0->labelme2coco) (0.32.1)\n",
            "Requirement already satisfied: rpds-py>=0.7.1 in /usr/local/lib/python3.10/dist-packages (from jsonschema>=2.6.0->labelme2coco) (0.17.1)\n",
            "Requirement already satisfied: opencv-python<=4.8 in /usr/local/lib/python3.10/dist-packages (from sahi>=0.8.19->labelme2coco) (4.7.0.72)\n",
            "Requirement already satisfied: shapely>=1.8.0 in /usr/local/lib/python3.10/dist-packages (from sahi>=0.8.19->labelme2coco) (2.0.2)\n",
            "Requirement already satisfied: tqdm>=4.48.2 in /usr/local/lib/python3.10/dist-packages (from sahi>=0.8.19->labelme2coco) (4.66.1)\n",
            "Requirement already satisfied: pillow>=8.2.0 in /usr/local/lib/python3.10/dist-packages (from sahi>=0.8.19->labelme2coco) (9.4.0)\n",
            "Requirement already satisfied: pybboxes==0.1.6 in /usr/local/lib/python3.10/dist-packages (from sahi>=0.8.19->labelme2coco) (0.1.6)\n",
            "Requirement already satisfied: pyyaml in /usr/local/lib/python3.10/dist-packages (from sahi>=0.8.19->labelme2coco) (6.0.1)\n",
            "Requirement already satisfied: fire in /usr/local/lib/python3.10/dist-packages (from sahi>=0.8.19->labelme2coco) (0.5.0)\n",
            "Requirement already satisfied: terminaltables in /usr/local/lib/python3.10/dist-packages (from sahi>=0.8.19->labelme2coco) (3.1.10)\n",
            "Requirement already satisfied: requests in /usr/local/lib/python3.10/dist-packages (from sahi>=0.8.19->labelme2coco) (2.31.0)\n",
            "Requirement already satisfied: click in /usr/local/lib/python3.10/dist-packages (from sahi>=0.8.19->labelme2coco) (8.1.7)\n",
            "Requirement already satisfied: numpy in /usr/local/lib/python3.10/dist-packages (from pybboxes==0.1.6->sahi>=0.8.19->labelme2coco) (1.23.5)\n",
            "Requirement already satisfied: six in /usr/local/lib/python3.10/dist-packages (from fire->sahi>=0.8.19->labelme2coco) (1.16.0)\n",
            "Requirement already satisfied: termcolor in /usr/local/lib/python3.10/dist-packages (from fire->sahi>=0.8.19->labelme2coco) (2.4.0)\n",
            "Requirement already satisfied: charset-normalizer<4,>=2 in /usr/local/lib/python3.10/dist-packages (from requests->sahi>=0.8.19->labelme2coco) (3.3.2)\n",
            "Requirement already satisfied: idna<4,>=2.5 in /usr/local/lib/python3.10/dist-packages (from requests->sahi>=0.8.19->labelme2coco) (3.6)\n",
            "Requirement already satisfied: urllib3<3,>=1.21.1 in /usr/local/lib/python3.10/dist-packages (from requests->sahi>=0.8.19->labelme2coco) (2.0.7)\n",
            "Requirement already satisfied: certifi>=2017.4.17 in /usr/local/lib/python3.10/dist-packages (from requests->sahi>=0.8.19->labelme2coco) (2023.11.17)\n",
            "There are 3 listed files in folder labelme.\n"
          ]
        },
        {
          "output_type": "stream",
          "name": "stderr",
          "text": [
            "Converting labelme annotations to COCO format: 100%|██████████| 3/3 [00:01<00:00,  1.84it/s]\n"
          ]
        }
      ]
    }
  ]
}