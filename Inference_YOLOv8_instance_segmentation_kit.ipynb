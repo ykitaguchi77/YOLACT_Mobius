{
  "nbformat": 4,
  "nbformat_minor": 0,
  "metadata": {
    "colab": {
      "provenance": [],
      "gpuType": "T4",
      "include_colab_link": true
    },
    "kernelspec": {
      "name": "python3",
      "display_name": "Python 3"
    },
    "language_info": {
      "name": "python"
    },
    "accelerator": "GPU"
  },
  "cells": [
    {
      "cell_type": "markdown",
      "metadata": {
        "id": "view-in-github",
        "colab_type": "text"
      },
      "source": [
        "<a href=\"https://colab.research.google.com/github/ykitaguchi77/YOLACT_Mobius/blob/main/Inference_YOLOv8_instance_segmentation_kit.ipynb\" target=\"_parent\"><img src=\"https://colab.research.google.com/assets/colab-badge.svg\" alt=\"Open In Colab\"/></a>"
      ]
    },
    {
      "cell_type": "code",
      "source": [
        "import cv2\n",
        "from google.colab import drive\n",
        "import shutil\n",
        "import os\n",
        "\n",
        "#driveのマウント\n",
        "drive.mount('/content/drive')\n",
        "\n",
        "!git clone https://github.com/ultralytics/ultralytics\n",
        "%cd ultralytics\n",
        "\n",
        "#yolov8\n",
        "from ultralytics import YOLO\n",
        "model = YOLO(\"/content/drive/MyDrive/Deep_learning/YOLACT_Mobius_ocular_dataset/sample_dataset_for_YOLOv8/last.pt\")"
      ],
      "metadata": {
        "colab": {
          "base_uri": "https://localhost:8080/"
        },
        "id": "VuNkk3_Og-eI",
        "outputId": "bdce1c06-7a4c-4b4f-9331-a3ac2647d9b4"
      },
      "execution_count": 7,
      "outputs": [
        {
          "output_type": "stream",
          "name": "stdout",
          "text": [
            "Drive already mounted at /content/drive; to attempt to forcibly remount, call drive.mount(\"/content/drive\", force_remount=True).\n",
            "fatal: destination path 'ultralytics' already exists and is not an empty directory.\n",
            "/content/ultralytics/ultralytics\n"
          ]
        }
      ]
    },
    {
      "cell_type": "code",
      "source": [
        "\n"
      ],
      "metadata": {
        "id": "XcO7FcXSaxZc",
        "colab": {
          "base_uri": "https://localhost:8080/"
        },
        "outputId": "06128a31-503a-48a0-b6b7-b30a994adc61"
      },
      "execution_count": 3,
      "outputs": [
        {
          "output_type": "stream",
          "name": "stdout",
          "text": [
            "\n",
            "image 1/1 /content/drive/MyDrive/Deep_learning/YOLACT_Mobius_ocular_dataset/sample_dataset_for_YOLOv8/images/val/1_1i_Lu_2.jpg: 384x640 1 eyelid, 1 iris, 1 pupil, 113.4ms\n",
            "Speed: 14.7ms preprocess, 113.4ms inference, 1298.8ms postprocess per image at shape (1, 3, 384, 640)\n",
            "Results saved to \u001b[1m/content/ultralytics/runs/segment/predict\u001b[0m\n"
          ]
        }
      ]
    },
    {
      "cell_type": "code",
      "source": [
        "# ディレクトリパスを設定\n",
        "image_dir = \"/content/drive/MyDrive/Deep_learning/YOLACT_Mobius_ocular_dataset/sample_dataset_for_YOLOv8/images/val\"\n",
        "\n",
        "# ディレクトリ内の画像ファイルを取得\n",
        "image_files = [os.path.join(image_dir, f) for f in os.listdir(image_dir) if f.endswith(('.jpg', '.jpeg', '.png'))]\n",
        "\n",
        "img_path = image_files[14]\n",
        "results = model(img_path, save=True)  # predict on an image"
      ],
      "metadata": {
        "id": "NDbmZKV20l4k",
        "outputId": "b0e03c4d-eeb1-4ee4-d56a-eb74aee15e82",
        "colab": {
          "base_uri": "https://localhost:8080/"
        }
      },
      "execution_count": 14,
      "outputs": [
        {
          "output_type": "stream",
          "name": "stdout",
          "text": [
            "\n",
            "image 1/1 /content/drive/MyDrive/Deep_learning/YOLACT_Mobius_ocular_dataset/sample_dataset_for_YOLOv8/images/val/3_1n_Ll_1.jpg: 384x640 1 eyelid, 1 iris, 1 pupil, 21.0ms\n",
            "Speed: 3.3ms preprocess, 21.0ms inference, 3.3ms postprocess per image at shape (1, 3, 384, 640)\n",
            "Results saved to \u001b[1m/content/ultralytics/runs/segment/predict2\u001b[0m\n"
          ]
        }
      ]
    },
    {
      "cell_type": "code",
      "source": [
        "import cv2\n",
        "import numpy as np\n",
        "import matplotlib.pyplot as plt\n",
        "\n",
        "# 画像を読み込む\n",
        "img = cv2.imread(img_path)\n",
        "img = cv2.cvtColor(img, cv2.COLOR_BGR2RGB)\n",
        "\n",
        "# 結果を取得\n",
        "result = results[0]\n",
        "\n",
        "# マスクとボックスを取得\n",
        "masks = result.masks.data.cpu().numpy()\n",
        "boxes = result.boxes.data.cpu().numpy()\n",
        "\n",
        "# 各クラスに対して異なる色を設定\n",
        "colors = [(255, 0, 0), (0, 255, 0), (0, 0, 255)]  # 赤、緑、青\n",
        "\n",
        "# セグメンテーションマスクを重ねる\n",
        "for i, mask in enumerate(masks):\n",
        "    color = colors[int(boxes[i, 5]) % len(colors)]\n",
        "    mask = mask.astype(np.uint8) * 255\n",
        "\n",
        "    # マスクを元の画像のサイズにリサイズ\n",
        "    mask = cv2.resize(mask, (img.shape[1], img.shape[0]))\n",
        "\n",
        "    colored_mask = np.zeros((img.shape[0], img.shape[1], 3), dtype=np.uint8)\n",
        "    colored_mask[mask > 0] = color\n",
        "\n",
        "    # マスクを画像にブレンド (50%の透過度)\n",
        "    img = cv2.addWeighted(img, 1, colored_mask, 0.5, 0)\n",
        "\n",
        "# バウンディングボックスを描画\n",
        "for box in boxes:\n",
        "    x1, y1, x2, y2 = map(int, box[:4])\n",
        "    cls = int(box[5])\n",
        "    cv2.rectangle(img, (x1, y1), (x2, y2), colors[cls % len(colors)], 2)\n",
        "\n",
        "# 結果を表示\n",
        "plt.figure(figsize=(12, 8))\n",
        "plt.imshow(img)\n",
        "plt.axis('off')\n",
        "plt.title('YOLOv8 Segmentation Result')\n",
        "plt.show()"
      ],
      "metadata": {
        "id": "FgWgjqoPzL92"
      },
      "execution_count": null,
      "outputs": []
    },
    {
      "cell_type": "code",
      "source": [],
      "metadata": {
        "id": "Fs0GbmpPzL_q"
      },
      "execution_count": null,
      "outputs": []
    },
    {
      "cell_type": "code",
      "source": [],
      "metadata": {
        "id": "pB3JrZlAzMBu"
      },
      "execution_count": null,
      "outputs": []
    },
    {
      "cell_type": "code",
      "source": [],
      "metadata": {
        "id": "yvhhGcHEzMDs"
      },
      "execution_count": null,
      "outputs": []
    },
    {
      "cell_type": "code",
      "source": [],
      "metadata": {
        "id": "R2M7u1JWRy6m"
      },
      "execution_count": null,
      "outputs": []
    }
  ]
}