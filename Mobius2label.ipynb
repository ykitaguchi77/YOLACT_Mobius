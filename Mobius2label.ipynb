{
  "nbformat": 4,
  "nbformat_minor": 0,
  "metadata": {
    "colab": {
      "provenance": [],
      "gpuType": "T4",
      "include_colab_link": true
    },
    "kernelspec": {
      "name": "python3",
      "display_name": "Python 3"
    },
    "language_info": {
      "name": "python"
    },
    "accelerator": "GPU"
  },
  "cells": [
    {
      "cell_type": "markdown",
      "metadata": {
        "id": "view-in-github",
        "colab_type": "text"
      },
      "source": [
        "<a href=\"https://colab.research.google.com/github/ykitaguchi77/YOLACT_Mobius/blob/main/Mobius2label.ipynb\" target=\"_parent\"><img src=\"https://colab.research.google.com/assets/colab-badge.svg\" alt=\"Open In Colab\"/></a>"
      ]
    },
    {
      "cell_type": "markdown",
      "source": [
        "#**Mobius2label**\n",
        "\n",
        "Mobiusのカラーマスク→ YOLOv8 instance trainingトレーニング用の座標に\n",
        "\n",
        "研究室配属 鈴木くんより"
      ],
      "metadata": {
        "id": "9blZigcjE8wT"
      }
    },
    {
      "cell_type": "code",
      "source": [
        "#@title #ライブラリのインストール\n",
        "#@markdown [shift]+[Enter]を押して起動してください\n",
        "from google.colab import drive\n",
        "drive.mount('/content/drive')\n",
        "import os\n",
        "import cv2\n",
        "import numpy as np\n",
        "import matplotlib.pyplot as plt\n",
        "from skimage import measure\n",
        "import json\n",
        "from tqdm import tqdm  # tqdmをインポート\n",
        "import os\n",
        "import matplotlib"
      ],
      "metadata": {
        "colab": {
          "base_uri": "https://localhost:8080/"
        },
        "id": "AzE4onOM4m7s",
        "outputId": "87174bad-f0d7-4e03-b18a-44156f8b5b8a"
      },
      "execution_count": 1,
      "outputs": [
        {
          "output_type": "stream",
          "name": "stdout",
          "text": [
            "Mounted at /content/drive\n"
          ]
        }
      ]
    },
    {
      "cell_type": "code",
      "source": [
        "#@title #ディレクトリと座標の個数\n",
        "#@markdown 指定を終えてから、[shift]+[Enter]を押して起動してください。\n",
        "#@markdown <br> 学習に適切な個数が分からなかったので、変更できるようにしました。\n",
        "\n",
        "# 入力ディレクトリと出力ディレクトリを指定してください\n",
        "input_dir = \"/content/drive/MyDrive/Deep_learning/Eyelid_segmentation/MOBIUS/Masks/1\"\n",
        "output_dir = \"/content\"\n",
        "\n",
        "# eyelid, iris, pupilごとに座標の個数を指定してください。\n",
        "num_points_eyelid = 24\n",
        "num_points_iris = 16\n",
        "num_points_pupil = 12"
      ],
      "metadata": {
        "id": "etU9h_4o45ks"
      },
      "execution_count": 3,
      "outputs": []
    },
    {
      "cell_type": "code",
      "source": [
        "#@title #Mobius to label起動\n",
        "#@markdown 　[shift]+[Enter]を押して起動してください。\n",
        "#@markdown　<br>うまくいっていないラベルも存在するので、目視で確認して除外すべきかもしれません。\n",
        "def create_mask(image, color):\n",
        "    return np.all(image == color, axis=-1)\n",
        "\n",
        "def apply_mask(image, mask):\n",
        "    return np.where(mask, 255, 0)\n",
        "\n",
        "def extract_contours(img, _num_points):\n",
        "    contours = measure.find_contours(img, 0.5)\n",
        "    points_list = []\n",
        "\n",
        "    for contour in contours:\n",
        "        contour_length = len(contour)\n",
        "\n",
        "        if contour_length > _num_points:\n",
        "            step = contour_length // _num_points\n",
        "            selected_points = [contour[i * step] for i in range(_num_points)]\n",
        "        else:\n",
        "            selected_points = contour\n",
        "\n",
        "        points = [[float(point[1]), float(point[0])] for point in selected_points]\n",
        "        points_list.append(points)\n",
        "\n",
        "    return points_list\n",
        "\n",
        "def create_custom_output(points_list_blue, points_list_blue_green, points_list_all_colors, img_width, img_height, output_file):\n",
        "    with open(output_file, 'w') as f:\n",
        "        # 0: eyelid\n",
        "        f.write(\"0 \")\n",
        "        for point in points_list_all_colors[0]:\n",
        "            x = point[0] / img_width\n",
        "            y = point[1] / img_height\n",
        "            f.write(f\"{x} {y} \")\n",
        "        f.write(\"\\n\")\n",
        "\n",
        "        # 1: iris\n",
        "        f.write(\"1 \")\n",
        "        for point in points_list_blue_green[0]:\n",
        "            x = point[0] / img_width\n",
        "            y = point[1] / img_height\n",
        "            f.write(f\"{x} {y} \")\n",
        "        f.write(\"\\n\")\n",
        "\n",
        "        # 2: pupil\n",
        "        f.write(\"2 \")\n",
        "        for point in points_list_blue[0]:\n",
        "            x = point[0] / img_width\n",
        "            y = point[1] / img_height\n",
        "            f.write(f\"{x} {y} \")\n",
        "        f.write(\"\\n\")\n",
        "\n",
        "def process_image(mask_file, output_dir, num_points_eyelid, num_points_iris, num_points_pupil):\n",
        "    img = cv2.imread(mask_file, cv2.IMREAD_COLOR)\n",
        "    img_height, img_width = img.shape[:2]\n",
        "\n",
        "    mask_blue = create_mask(img, [255, 0, 0])\n",
        "    mask_green = create_mask(img, [0, 255, 0])\n",
        "    mask_red = create_mask(img, [0, 0, 255])\n",
        "\n",
        "    mask_blue_green = np.logical_or(mask_blue, mask_green)\n",
        "    mask_all_colors = np.logical_or(mask_blue_green, mask_red)\n",
        "\n",
        "    img_blue = apply_mask(img, mask_blue)\n",
        "    img_blue_green = apply_mask(img, mask_blue_green)\n",
        "    img_all_colors = apply_mask(img, mask_all_colors)\n",
        "\n",
        "    # 各ラベルごとに異なる個数の座標を抽出\n",
        "    points_list_blue = extract_contours(img_blue, num_points_pupil)\n",
        "    points_list_blue_green = extract_contours(img_blue_green, num_points_iris)\n",
        "    points_list_all_colors = extract_contours(img_all_colors, num_points_eyelid)\n",
        "\n",
        "    # 出力先ディレクトリとファイル名を設定\n",
        "    base_name = os.path.splitext(os.path.basename(mask_file))[0]\n",
        "    output_file = os.path.join(output_dir, base_name + \".txt\")\n",
        "\n",
        "    # カスタム出力\n",
        "    create_custom_output(points_list_blue, points_list_blue_green, points_list_all_colors, img_width, img_height, output_file)\n",
        "\n",
        "    # 書き換え部分\n",
        "    x_eyelid = [point[0] for point in points_list_all_colors[0]]\n",
        "    y_eyelid = [point[1] for point in points_list_all_colors[0]]\n",
        "\n",
        "    x_iris = [point[0] for point in points_list_blue_green[0]]\n",
        "    y_iris = [point[1] for point in points_list_blue_green[0]]\n",
        "\n",
        "    x_pupil = [point[0] for point in points_list_blue[0]]\n",
        "    y_pupil = [point[1] for point in points_list_blue[0]]\n",
        "\n",
        "    # 元の画像を読み込む\n",
        "    img_path = mask_file.replace(\"Masks\", \"Images\").replace(\".png\", \".jpg\")\n",
        "    img = cv2.imread(img_path, cv2.IMREAD_COLOR)\n",
        "\n",
        "    # プロット作成\n",
        "    plt.figure(figsize=(12, 6))\n",
        "\n",
        "    # 左側に元の画像を表示\n",
        "    plt.subplot(1, 2, 1)\n",
        "    plt.imshow(cv2.cvtColor(img, cv2.COLOR_BGR2RGB))\n",
        "    plt.title(base_name)  # ファイル名をタイトルに設定\n",
        "\n",
        "    # 右側に散布図を表示\n",
        "    plt.subplot(1, 2, 2)\n",
        "    plt.scatter(x_eyelid, y_eyelid, label='eyelid', color='blue')\n",
        "    plt.scatter(x_iris, y_iris, label='iris', color='green')\n",
        "    plt.scatter(x_pupil, y_pupil, label='pupil', color='red')\n",
        "    plt.title(\"Contours\")  # 輪郭\n",
        "\n",
        "    # 軸を画像の大きさに合わせて調整\n",
        "    plt.xlim([0, img_width])\n",
        "    plt.ylim([img_height, 0])  # Y軸の反転\n",
        "\n",
        "    # 縦横の比率を保つ\n",
        "    plt.gca().set_aspect('equal', adjustable='box')\n",
        "\n",
        "    # 凡例を表示する\n",
        "    plt.legend()\n",
        "\n",
        "    # レイアウトを調整して表示\n",
        "    plt.tight_layout()\n",
        "    plt.show()\n",
        "\n",
        "\n",
        "\n",
        "\n",
        "\n",
        "def process_all_images_in_directory(input_dir, output_dir, num_points_eyelid, num_points_iris, num_points_pupil):\n",
        "    # 入力ディレクトリ内のすべての.pngファイルを処理\n",
        "    png_files = [file_name for file_name in os.listdir(input_dir) if file_name.endswith(\".png\")]\n",
        "\n",
        "    # tqdmを使って進行状況を表示\n",
        "    for file_name in tqdm(png_files, desc=\"Processing images\"):\n",
        "        mask_file = os.path.join(input_dir, file_name)\n",
        "        process_image(mask_file, output_dir, num_points_eyelid, num_points_iris, num_points_pupil)\n",
        "\n",
        "\n",
        "\n",
        "if __name__ == '__main__':\n",
        "    process_all_images_in_directory(input_dir, output_dir, num_points_eyelid, num_points_iris, num_points_pupil)\n"
      ],
      "metadata": {
        "collapsed": true,
        "id": "A7I6Gx_o4qXd"
      },
      "execution_count": null,
      "outputs": []
    },
    {
      "cell_type": "markdown",
      "source": [
        "###一つだけの画像バージョン（テスト用）"
      ],
      "metadata": {
        "id": "avAj_VBsPVgB"
      }
    },
    {
      "cell_type": "markdown",
      "source": [
        "# 備考欄"
      ],
      "metadata": {
        "id": "v5js3ebr_Z1_"
      }
    },
    {
      "cell_type": "markdown",
      "source": [
        "## ラベルの構造\n",
        "\n",
        "0 x1 y1 x2 y2 x3 y3...(eyelidの座標)<br>\n",
        "1 x1 y1 x2 y2 x3 y3...(irisの座標)<br>\n",
        "2 x1 y1 x2 y2 x3 y3...(pupilの座標)"
      ],
      "metadata": {
        "id": "oHkx2EFPAzZJ"
      }
    },
    {
      "cell_type": "markdown",
      "source": [
        "#**YOLOv8 instance segmentation training**\n",
        "\n",
        "To do：\n",
        "\n",
        "Mobiusのマスク画像をYOLOv8形式のテキストファイルに\n",
        "\n",
        "マスク画像がない画像を除外\n",
        "\n",
        "Not goodの画像を除外\n",
        "\n",
        "YOLOv8用のフォルダ構成に\n",
        "\n",
        "Yolov8のtraining\n",
        "\n",
        "マスク画像がない画像をinference\n",
        "\n",
        "手動で選別しOKのものを追加し再学習"
      ],
      "metadata": {
        "id": "48cGBe5aKAul"
      }
    },
    {
      "cell_type": "code",
      "source": [
        "\"\"\"\n",
        "project/\n",
        "│\n",
        "├── data/\n",
        "│   ├── train/\n",
        "│   │   ├── images/\n",
        "│   │   └── labels/\n",
        "│   │\n",
        "│   ├── val/\n",
        "│   │   ├── images/\n",
        "│   │   └── labels/\n",
        "│   │\n",
        "│   └── test/  (オプション)\n",
        "│       ├── images/\n",
        "│       └── labels/\n",
        "│\n",
        "│\n",
        "├── dataset.yaml\n",
        "│\n",
        "├── models/\n",
        "│\n",
        "└── runs/  (トレーニング結果が保存される)\n",
        "\"\"\""
      ],
      "metadata": {
        "id": "iYJi9U7SKMZp"
      },
      "execution_count": null,
      "outputs": []
    },
    {
      "cell_type": "markdown",
      "source": [
        "###Mask2label preprocessing\n",
        "\n"
      ],
      "metadata": {
        "id": "vIKzNC6JGyWC"
      }
    },
    {
      "cell_type": "code",
      "source": [
        "from google.colab import drive\n",
        "drive.mount('/content/drive')"
      ],
      "metadata": {
        "colab": {
          "base_uri": "https://localhost:8080/"
        },
        "id": "4tU2k3FcSXV0",
        "outputId": "7bcae5d3-0ec8-401d-a7dc-b6a1c7d44ad5"
      },
      "execution_count": null,
      "outputs": [
        {
          "output_type": "stream",
          "name": "stdout",
          "text": [
            "Mounted at /content/drive\n"
          ]
        }
      ]
    },
    {
      "cell_type": "code",
      "source": [
        "\"\"\"\n",
        "このスクリプトは、Mobiusデータセットの画像とマスクをYOLOv8形式に変換します。\n",
        "\n",
        "主な機能：\n",
        "1. Masksディレクトリ内の全てのマスク画像を処理（フォルダ番号順）\n",
        "2. 各マスクに対応するYOLOv8形式のラベルファイルを生成\n",
        "3. 対応する前眼部画像を指定された出力ディレクトリにコピー\n",
        "4. 処理中に画像とマスクのプロットを表示\n",
        "5. tqdmを使用して処理の進捗を表示\n",
        "6. 開始フォルダを指定可能\n",
        "\n",
        "入力ディレクトリ構造：\n",
        "- Masks: /content/drive/MyDrive/Deep_learning/Eyelid_segmentation/MOBIUS/Masks/\n",
        "  - 1/\n",
        "  - 2/\n",
        "  ...\n",
        "  - 35/\n",
        "- Images: /content/drive/MyDrive/Deep_learning/Eyelid_segmentation/MOBIUS/Images/\n",
        "  - 1/\n",
        "  - 2/\n",
        "  ...\n",
        "  - 35/\n",
        "\n",
        "出力ディレクトリ構造：\n",
        "- Labels: /content/drive/MyDrive/Deep_learning/Eyelid_segmentation/MOBIUS/YOLOv8_training/labels/\n",
        "- Images: /content/drive/MyDrive/Deep_learning/Eyelid_segmentation/MOBIUS/YOLOv8_training/images/\n",
        "\n",
        "注意：\n",
        "- 出力ディレクトリが存在しない場合は自動的に作成されます\n",
        "- マスクの色に基づいて、瞼（赤）、虹彩（緑）、瞳孔（青）を識別します\n",
        "- 各部位の座標点の数は変数で設定可能です（デフォルト：瞼24点、虹彩16点、瞳孔12点）\n",
        "- フォルダは番号順に処理されます\n",
        "- 開始フォルダ番号を指定できます\n",
        "\"\"\"\n",
        "\n",
        "import os\n",
        "import cv2\n",
        "import numpy as np\n",
        "from skimage import measure\n",
        "import matplotlib.pyplot as plt\n",
        "from tqdm import tqdm\n",
        "import shutil\n",
        "\n",
        "def create_mask(image, color):\n",
        "    \"\"\"\n",
        "    指定された色に基づいてマスクを作成します。\n",
        "\n",
        "    Args:\n",
        "    image (np.array): 入力画像\n",
        "    color (list): マスクを作成する色 [R, G, B]\n",
        "\n",
        "    Returns:\n",
        "    np.array: 指定された色に対するバイナリマスク\n",
        "    \"\"\"\n",
        "    return np.all(image == color, axis=-1)\n",
        "\n",
        "def apply_mask(image, mask):\n",
        "    \"\"\"\n",
        "    画像にマスクを適用します。\n",
        "\n",
        "    Args:\n",
        "    image (np.array): 入力画像\n",
        "    mask (np.array): バイナリマスク\n",
        "\n",
        "    Returns:\n",
        "    np.array: マスクが適用された画像\n",
        "    \"\"\"\n",
        "    return np.where(mask, 255, 0)\n",
        "\n",
        "def extract_contours(img, _num_points):\n",
        "    \"\"\"\n",
        "    画像から輪郭を抽出し、指定された数の点を選択します。\n",
        "\n",
        "    Args:\n",
        "    img (np.array): 入力画像\n",
        "    _num_points (int): 選択する点の数\n",
        "\n",
        "    Returns:\n",
        "    list: 選択された点のリスト\n",
        "    \"\"\"\n",
        "    contours = measure.find_contours(img, 0.5)\n",
        "    points_list = []\n",
        "\n",
        "    for contour in contours:\n",
        "        contour_length = len(contour)\n",
        "\n",
        "        if contour_length > _num_points:\n",
        "            step = contour_length // _num_points\n",
        "            selected_points = [contour[i * step] for i in range(_num_points)]\n",
        "        else:\n",
        "            selected_points = contour\n",
        "\n",
        "        points = [[float(point[1]), float(point[0])] for point in selected_points]\n",
        "        points_list.append(points)\n",
        "\n",
        "    return points_list\n",
        "\n",
        "def create_yolov8_output(points_list_blue, points_list_blue_green, points_list_all_colors, img_width, img_height, output_file):\n",
        "    \"\"\"\n",
        "    YOLOv8形式のラベルファイルを作成します。\n",
        "\n",
        "    Args:\n",
        "    points_list_blue (list): 瞳孔の点のリスト\n",
        "    points_list_blue_green (list): 虹彩の点のリスト\n",
        "    points_list_all_colors (list): 瞼の点のリスト\n",
        "    img_width (int): 画像の幅\n",
        "    img_height (int): 画像の高さ\n",
        "    output_file (str): 出力ファイルのパス\n",
        "    \"\"\"\n",
        "    with open(output_file, 'w') as f:\n",
        "        # 0: eyelid\n",
        "        f.write(\"0 \")\n",
        "        for point in points_list_all_colors[0]:\n",
        "            x = point[0] / img_width\n",
        "            y = point[1] / img_height\n",
        "            f.write(f\"{x:.6f} {y:.6f} \")\n",
        "        f.write(\"\\n\")\n",
        "\n",
        "        # 1: iris\n",
        "        f.write(\"1 \")\n",
        "        for point in points_list_blue_green[0]:\n",
        "            x = point[0] / img_width\n",
        "            y = point[1] / img_height\n",
        "            f.write(f\"{x:.6f} {y:.6f} \")\n",
        "        f.write(\"\\n\")\n",
        "\n",
        "        # 2: pupil\n",
        "        f.write(\"2 \")\n",
        "        for point in points_list_blue[0]:\n",
        "            x = point[0] / img_width\n",
        "            y = point[1] / img_height\n",
        "            f.write(f\"{x:.6f} {y:.6f} \")\n",
        "        f.write(\"\\n\")\n",
        "\n",
        "def process_image(mask_file, images_dir, output_labels_dir, output_images_dir, num_points_eyelid, num_points_iris, num_points_pupil):\n",
        "    \"\"\"\n",
        "    1つのマスク画像を処理し、対応するラベルファイルを生成し、元の画像をコピーします。\n",
        "\n",
        "    Args:\n",
        "    mask_file (str): マスク画像のファイルパス\n",
        "    images_dir (str): 元の画像が格納されているディレクトリ\n",
        "    output_labels_dir (str): ラベルファイルの出力ディレクトリ\n",
        "    output_images_dir (str): 画像のコピー先ディレクトリ\n",
        "    num_points_eyelid (int): 瞼の点の数\n",
        "    num_points_iris (int): 虹彩の点の数\n",
        "    num_points_pupil (int): 瞳孔の点の数\n",
        "    \"\"\"\n",
        "    img = cv2.imread(mask_file, cv2.IMREAD_COLOR)\n",
        "    img_height, img_width = img.shape[:2]\n",
        "\n",
        "    mask_blue = create_mask(img, [255, 0, 0])\n",
        "    mask_green = create_mask(img, [0, 255, 0])\n",
        "    mask_red = create_mask(img, [0, 0, 255])\n",
        "\n",
        "    mask_blue_green = np.logical_or(mask_blue, mask_green)\n",
        "    mask_all_colors = np.logical_or(mask_blue_green, mask_red)\n",
        "\n",
        "    img_blue = apply_mask(img, mask_blue)\n",
        "    img_blue_green = apply_mask(img, mask_blue_green)\n",
        "    img_all_colors = apply_mask(img, mask_all_colors)\n",
        "\n",
        "    points_list_blue = extract_contours(img_blue, num_points_pupil)\n",
        "    points_list_blue_green = extract_contours(img_blue_green, num_points_iris)\n",
        "    points_list_all_colors = extract_contours(img_all_colors, num_points_eyelid)\n",
        "\n",
        "    base_name = os.path.splitext(os.path.basename(mask_file))[0]\n",
        "    output_file = os.path.join(output_labels_dir, base_name + \".txt\")\n",
        "\n",
        "    create_yolov8_output(points_list_blue, points_list_blue_green, points_list_all_colors, img_width, img_height, output_file)\n",
        "\n",
        "    # Copy corresponding image\n",
        "    folder_number = os.path.basename(os.path.dirname(mask_file))\n",
        "    image_path = os.path.join(images_dir, folder_number, base_name + \".jpg\")\n",
        "    if os.path.exists(image_path):\n",
        "        shutil.copy(image_path, output_images_dir)\n",
        "    else:\n",
        "        print(f\"Warning: Corresponding image not found for {base_name}\")\n",
        "\n",
        "    # # Plot\n",
        "    # x_eyelid = [point[0] for point in points_list_all_colors[0]]\n",
        "    # y_eyelid = [point[1] for point in points_list_all_colors[0]]\n",
        "    # x_iris = [point[0] for point in points_list_blue_green[0]]\n",
        "    # y_iris = [point[1] for point in points_list_blue_green[0]]\n",
        "    # x_pupil = [point[0] for point in points_list_blue[0]]\n",
        "    # y_pupil = [point[1] for point in points_list_blue[0]]\n",
        "\n",
        "    # img_original = cv2.imread(image_path, cv2.IMREAD_COLOR)\n",
        "\n",
        "    # plt.figure(figsize=(12, 6))\n",
        "    # plt.subplot(1, 2, 1)\n",
        "    # plt.imshow(cv2.cvtColor(img_original, cv2.COLOR_BGR2RGB))\n",
        "    # plt.title(base_name)\n",
        "\n",
        "    # plt.subplot(1, 2, 2)\n",
        "    # plt.scatter(x_eyelid, y_eyelid, label='eyelid', color='blue')\n",
        "    # plt.scatter(x_iris, y_iris, label='iris', color='green')\n",
        "    # plt.scatter(x_pupil, y_pupil, label='pupil', color='red')\n",
        "    # plt.title(\"Contours\")\n",
        "    # plt.xlim([0, img_width])\n",
        "    # plt.ylim([img_height, 0])\n",
        "    # plt.gca().set_aspect('equal', adjustable='box')\n",
        "    # plt.legend()\n",
        "    # plt.tight_layout()\n",
        "    # plt.show()\n",
        "\n",
        "def process_all_images_in_directory(masks_dir, images_dir, output_labels_dir, output_images_dir, num_points_eyelid, num_points_iris, num_points_pupil, start_folder):\n",
        "    \"\"\"\n",
        "    指定されたディレクトリ内の全ての画像を処理します。\n",
        "\n",
        "    Args:\n",
        "    masks_dir (str): マスク画像が格納されているディレクトリ\n",
        "    images_dir (str): 元の画像が格納されているディレクトリ\n",
        "    output_labels_dir (str): ラベルファイルの出力ディレクトリ\n",
        "    output_images_dir (str): 画像のコピー先ディレクトリ\n",
        "    num_points_eyelid (int): 瞼の点の数\n",
        "    num_points_iris (int): 虹彩の点の数\n",
        "    num_points_pupil (int): 瞳孔の点の数\n",
        "    start_folder (int): 処理を開始するフォルダ番号\n",
        "    \"\"\"\n",
        "    # フォルダ名を数値としてソートするための関数\n",
        "    def folder_num(name):\n",
        "        try:\n",
        "            return int(name)\n",
        "        except ValueError:\n",
        "            return float('inf')  # 数値でないフォルダ名は最後にソートされます\n",
        "\n",
        "    # フォルダを数値順にソート\n",
        "    folders = sorted([f for f in os.listdir(masks_dir) if os.path.isdir(os.path.join(masks_dir, f))], key=folder_num)\n",
        "\n",
        "    # 開始フォルダ以降のフォルダのみを処理\n",
        "    start_index = folders.index(str(start_folder)) if str(start_folder) in folders else 0\n",
        "    folders = folders[start_index:]\n",
        "\n",
        "    for folder_name in folders:\n",
        "        folder_path = os.path.join(masks_dir, folder_name)\n",
        "        png_files = [file_name for file_name in os.listdir(folder_path) if file_name.endswith(\".png\")]\n",
        "        for file_name in tqdm(png_files, desc=f\"Processing folder {folder_name}\"):\n",
        "            mask_file = os.path.join(folder_path, file_name)\n",
        "            process_image(mask_file, images_dir, output_labels_dir, output_images_dir, num_points_eyelid, num_points_iris, num_points_pupil)\n",
        "\n",
        "if __name__ == '__main__':\n",
        "    masks_dir = \"/content/drive/MyDrive/Deep_learning/Eyelid_segmentation/MOBIUS/Masks\"\n",
        "    images_dir = \"/content/drive/MyDrive/Deep_learning/Eyelid_segmentation/MOBIUS/Images\"\n",
        "    output_labels_dir = \"/content/drive/MyDrive/Deep_learning/Eyelid_segmentation/MOBIUS/YOLOv8_training/labels\"\n",
        "    output_images_dir = \"/content/drive/MyDrive/Deep_learning/Eyelid_segmentation/MOBIUS/YOLOv8_training/images\"\n",
        "\n",
        "    # Create output directories if they don't exist\n",
        "    os.makedirs(output_labels_dir, exist_ok=True)\n",
        "    os.makedirs(output_images_dir, exist_ok=True)\n",
        "\n",
        "    num_points_eyelid = 24\n",
        "    num_points_iris = 16\n",
        "    num_points_pupil = 12\n",
        "\n",
        "    # 開始フォルダを指定（例：1番目のフォルダから開始）\n",
        "    start_folder = 2\n",
        "\n",
        "    process_all_images_in_directory(masks_dir, images_dir, output_labels_dir, output_images_dir, num_points_eyelid, num_points_iris, num_points_pupil, start_folder)"
      ],
      "metadata": {
        "id": "UMERCbniKMba"
      },
      "execution_count": null,
      "outputs": []
    },
    {
      "cell_type": "markdown",
      "source": [
        "### 形式を調整"
      ],
      "metadata": {
        "id": "FJdYfVtAHOkb"
      }
    },
    {
      "cell_type": "code",
      "source": [
        "### 枚数の確認\n",
        "\n",
        "import os\n",
        "\n",
        "def count_files(directory, include_bad=False):\n",
        "    total_count = 0\n",
        "    bad_count = 0\n",
        "    for name in os.listdir(directory):\n",
        "        if os.path.isfile(os.path.join(directory, name)):\n",
        "            total_count += 1\n",
        "            if 'bad' in name.lower():\n",
        "                bad_count += 1\n",
        "    return total_count, bad_count\n",
        "\n",
        "# ディレクトリパス\n",
        "labels_dir = \"/content/drive/MyDrive/Deep_learning/Eyelid_segmentation/MOBIUS/YOLOv8_training/labels/\"\n",
        "images_dir = \"/content/drive/MyDrive/Deep_learning/Eyelid_segmentation/MOBIUS/YOLOv8_training/images/\"\n",
        "\n",
        "# ファイル数をカウント\n",
        "labels_total, labels_bad = count_files(labels_dir)\n",
        "images_total, images_bad = count_files(images_dir)\n",
        "\n",
        "print(f\"ラベルファイル総数: {labels_total}\")\n",
        "print(f\"'bad'を含むラベルファイル数: {labels_bad}\")\n",
        "print(f\"画像ファイル総数: {images_total}\")\n",
        "print(f\"'bad'を含む画像ファイル数: {images_bad}\")\n",
        "\n",
        "if labels_total == images_total:\n",
        "    print(\"ラベルと画像の総数が一致しています。\")\n",
        "else:\n",
        "    print(\"警告: ラベルと画像の総数が一致していません。\")\n",
        "\n",
        "if labels_bad == images_bad:\n",
        "    print(\"'bad'を含むラベルと画像の数が一致しています。\")\n",
        "else:\n",
        "    print(\"警告: 'bad'を含むラベルと画像の数が一致していません。\")"
      ],
      "metadata": {
        "id": "yksBqDdgDXSz",
        "outputId": "af138bf6-9e99-43ef-c35c-563cb81d8231",
        "colab": {
          "base_uri": "https://localhost:8080/"
        }
      },
      "execution_count": null,
      "outputs": [
        {
          "output_type": "stream",
          "name": "stdout",
          "text": [
            "ラベルファイル総数: 3559\n",
            "'bad'を含むラベルファイル数: 17\n",
            "画像ファイル総数: 3559\n",
            "'bad'を含む画像ファイル数: 17\n",
            "ラベルと画像の総数が一致しています。\n",
            "'bad'を含むラベルと画像の数が一致しています。\n"
          ]
        }
      ]
    },
    {
      "cell_type": "code",
      "source": [
        "\"\"\"\n",
        "このスクリプトは以下の処理を行います：\n",
        "\n",
        "1. 指定されたソースディレクトリ（画像とラベル）からファイルを読み込みます。\n",
        "2. ファイル名に'bad'が含まれていないファイルをフィルタリングします。\n",
        "3. フィルタリングされたファイルを訓練用と検証用に分割します（デフォルトで80:20の比率）。\n",
        "4. 以下の新しい構造でディレクトリを作成し、ファイルをコピーします：\n",
        "   /content/drive/MyDrive/Deep_learning/Eyelid_segmentation/MOBIUS/YOLOv8_training/data/\n",
        "   ├── images/\n",
        "   │   ├── train/\n",
        "   │   └── val/\n",
        "   └── labels/\n",
        "       ├── train/\n",
        "       └── val/\n",
        "5. tqdmを使用して、ファイルコピーの進行状況を表示します。\n",
        "6. 処理されたファイル数を報告し、画像とラベルの数が一致しているか確認します。\n",
        "\n",
        "注意：\n",
        "- このスクリプトは既存のファイルを上書きします。実行前に出力ディレクトリの内容を確認してください。\n",
        "- 大量のファイルを扱う場合でも、tqdmにより進行状況を確認できます。\n",
        "\"\"\"\n",
        "\n",
        "import os\n",
        "import shutil\n",
        "from sklearn.model_selection import train_test_split\n",
        "from tqdm import tqdm\n",
        "\n",
        "def copy_files(src_dir, dest_dir, files):\n",
        "    os.makedirs(dest_dir, exist_ok=True)\n",
        "    for file in tqdm(files, desc=f\"Copying to {os.path.basename(dest_dir)}\", unit=\"file\"):\n",
        "        shutil.copy2(os.path.join(src_dir, file), dest_dir)\n",
        "\n",
        "def process_directory(src_dir, train_dir, val_dir, val_split=0.2):\n",
        "    print(f\"処理中のディレクトリ: {src_dir}\")\n",
        "    files = [f for f in os.listdir(src_dir) if os.path.isfile(os.path.join(src_dir, f)) and 'bad' not in f.lower()]\n",
        "\n",
        "    train_files, val_files = train_test_split(files, test_size=val_split, random_state=42)\n",
        "\n",
        "    copy_files(src_dir, train_dir, train_files)\n",
        "    copy_files(src_dir, val_dir, val_files)\n",
        "\n",
        "    return len(train_files), len(val_files)\n",
        "\n",
        "# ベースディレクトリ\n",
        "base_dir = \"/content/drive/MyDrive/Deep_learning/Eyelid_segmentation/MOBIUS/YOLOv8_training\"\n",
        "\n",
        "# ソースディレクトリ\n",
        "src_images_dir = os.path.join(base_dir, \"images\")\n",
        "src_labels_dir = os.path.join(base_dir, \"labels\")\n",
        "\n",
        "# 新しい出力ディレクトリ構造\n",
        "output_dir = os.path.join(base_dir, \"data\")\n",
        "images_dir = os.path.join(output_dir, \"images\")\n",
        "labels_dir = os.path.join(output_dir, \"labels\")\n",
        "\n",
        "# 新しいディレクトリ構造の作成\n",
        "train_images_dir = os.path.join(images_dir, \"train\")\n",
        "val_images_dir = os.path.join(images_dir, \"val\")\n",
        "train_labels_dir = os.path.join(labels_dir, \"train\")\n",
        "val_labels_dir = os.path.join(labels_dir, \"val\")\n",
        "\n",
        "# ファイルの処理とコピー\n",
        "print(\"処理を開始します...\")\n",
        "train_images, val_images = process_directory(src_images_dir, train_images_dir, val_images_dir)\n",
        "train_labels, val_labels = process_directory(src_labels_dir, train_labels_dir, val_labels_dir)\n",
        "\n",
        "print(f\"\\n処理完了:\")\n",
        "print(f\"訓練用画像: {train_images}\")\n",
        "print(f\"検証用画像: {val_images}\")\n",
        "print(f\"訓練用ラベル: {train_labels}\")\n",
        "print(f\"検証用ラベル: {val_labels}\")\n",
        "\n",
        "if train_images == train_labels and val_images == val_labels:\n",
        "    print(\"画像とラベルの数が一致しています。\")\n",
        "else:\n",
        "    print(\"警告: 画像とラベルの数が一致していません。\")\n",
        "\n",
        "print(f\"\\n新しいデータセットの場所: {output_dir}\")\n",
        "print(\"新しいディレクトリ構造:\")\n",
        "print(f\"{output_dir}/\")\n",
        "print(\"├── images/\")\n",
        "print(\"│   ├── train/\")\n",
        "print(\"│   └── val/\")\n",
        "print(\"└── labels/\")\n",
        "print(\"    ├── train/\")\n",
        "print(\"    └── val/\")"
      ],
      "metadata": {
        "id": "xAxxHqzpKMdd",
        "outputId": "1b24d244-900e-4a2c-c53f-0cc7e6a8af0b",
        "colab": {
          "base_uri": "https://localhost:8080/"
        }
      },
      "execution_count": null,
      "outputs": [
        {
          "output_type": "stream",
          "name": "stdout",
          "text": [
            "処理を開始します...\n",
            "Processing directory: /content/drive/MyDrive/Deep_learning/Eyelid_segmentation/MOBIUS/YOLOv8_training/images\n"
          ]
        },
        {
          "output_type": "stream",
          "name": "stderr",
          "text": [
            "Copying to images: 100%|██████████| 2833/2833 [01:43<00:00, 27.26file/s]\n",
            "Copying to images: 100%|██████████| 709/709 [00:18<00:00, 39.15file/s]\n"
          ]
        },
        {
          "output_type": "stream",
          "name": "stdout",
          "text": [
            "Processing directory: /content/drive/MyDrive/Deep_learning/Eyelid_segmentation/MOBIUS/YOLOv8_training/labels\n"
          ]
        },
        {
          "output_type": "stream",
          "name": "stderr",
          "text": [
            "Copying to labels: 100%|██████████| 2833/2833 [02:11<00:00, 21.56file/s]\n",
            "Copying to labels: 100%|██████████| 709/709 [00:15<00:00, 45.35file/s]"
          ]
        },
        {
          "output_type": "stream",
          "name": "stdout",
          "text": [
            "\n",
            "処理完了:\n",
            "訓練用画像: 2833\n",
            "検証用画像: 709\n",
            "訓練用ラベル: 2833\n",
            "検証用ラベル: 709\n",
            "画像とラベルの数が一致しています。\n",
            "\n",
            "新しいデータセットの場所: /content/drive/MyDrive/Deep_learning/Eyelid_segmentation/MOBIUS/YOLOv8_training/filtered_data\n"
          ]
        },
        {
          "output_type": "stream",
          "name": "stderr",
          "text": [
            "\n"
          ]
        }
      ]
    },
    {
      "cell_type": "code",
      "source": [
        "\"\"\"\n",
        "このスクリプトは以下の処理を行います：\n",
        "\n",
        "1. 指定されたベースディレクトリ内の 'images' と 'labels' フォルダを削除します。\n",
        "2. 削除前にユーザーに確認を求めます。\n",
        "3. 削除処理の結果を報告します。\n",
        "\n",
        "注意：\n",
        "- このスクリプトは元のデータを完全に削除します。実行前に十分注意し、必要なデータのバックアップを確保してください。\n",
        "- 削除操作は取り消せません。確認プロンプトには慎重に回答してください。\n",
        "\"\"\"\n",
        "\n",
        "import os\n",
        "import shutil\n",
        "\n",
        "def remove_directory(dir_path):\n",
        "    try:\n",
        "        shutil.rmtree(dir_path)\n",
        "        print(f\"削除完了: {dir_path}\")\n",
        "    except Exception as e:\n",
        "        print(f\"エラー: {dir_path}の削除中に問題が発生しました。\\n{str(e)}\")\n",
        "\n",
        "# ベースディレクトリ\n",
        "base_dir = \"/content/drive/MyDrive/Deep_learning/Eyelid_segmentation/MOBIUS/YOLOv8_training\"\n",
        "\n",
        "# ソースディレクトリ\n",
        "src_images_dir = os.path.join(base_dir, \"images\")\n",
        "src_labels_dir = os.path.join(base_dir, \"labels\")\n",
        "\n",
        "print(f\"削除対象のディレクトリ:\")\n",
        "print(f\"1. {src_images_dir}\")\n",
        "print(f\"2. {src_labels_dir}\")\n",
        "\n",
        "# 削除の確認\n",
        "confirm = input(\"\\n上記のフォルダを削除しますか？ この操作は取り消せません。(y/n): \")\n",
        "\n",
        "if confirm.lower() == 'y':\n",
        "    remove_directory(src_images_dir)\n",
        "    remove_directory(src_labels_dir)\n",
        "    print(\"\\n指定されたフォルダの削除が完了しました。\")\n",
        "else:\n",
        "    print(\"\\n削除操作がキャンセルされました。フォルダは削除されていません。\")"
      ],
      "metadata": {
        "id": "XJCW3ha4KMfe",
        "outputId": "65c0687e-7f50-4f6a-bd92-0907b5e8869c",
        "colab": {
          "base_uri": "https://localhost:8080/"
        }
      },
      "execution_count": null,
      "outputs": [
        {
          "output_type": "stream",
          "name": "stdout",
          "text": [
            "削除対象のディレクトリ:\n",
            "1. /content/drive/MyDrive/Deep_learning/Eyelid_segmentation/MOBIUS/YOLOv8_training/images\n",
            "2. /content/drive/MyDrive/Deep_learning/Eyelid_segmentation/MOBIUS/YOLOv8_training/labels\n",
            "\n",
            "上記のフォルダを削除しますか？ この操作は取り消せません。(y/n): y\n",
            "削除完了: /content/drive/MyDrive/Deep_learning/Eyelid_segmentation/MOBIUS/YOLOv8_training/images\n",
            "削除完了: /content/drive/MyDrive/Deep_learning/Eyelid_segmentation/MOBIUS/YOLOv8_training/labels\n",
            "\n",
            "指定されたフォルダの削除が完了しました。\n"
          ]
        }
      ]
    },
    {
      "cell_type": "code",
      "source": [
        "# YAMLファイルの作成\n",
        "\n",
        "%%writefile /content/drive/MyDrive/Deep_learning/Eyelid_segmentation/MOBIUS/YOLOv8_training/eye_segmentation.yaml\n",
        "# Train/val/test sets as 1) dir: path/to/imgs, 2) file: path/to/imgs.txt, or 3) list: [path/to/imgs1, path/to/imgs2, ..]\n",
        "path: /content/drive/MyDrive/Deep_learning/Eyelid_segmentation/MOBIUS/YOLOv8_training/data  # dataset root dir\n",
        "train: images/train  # train images (relative to 'path')\n",
        "val: images/val  # val images (relative to 'path')\n",
        "test: images/val # test images (optional)\n",
        "\n",
        "# Classes\n",
        "names:\n",
        "  0: eyelid\n",
        "  1: iris\n",
        "  2: pupil\n",
        "\n",
        "# Download script/URL (optional)\n",
        "download: https://ultralytics.com/assets/coco128-seg.zip"
      ],
      "metadata": {
        "id": "hDU1asQ-KMhd",
        "colab": {
          "base_uri": "https://localhost:8080/"
        },
        "outputId": "0bd38f08-5024-42a4-ec31-1a029425eab9"
      },
      "execution_count": 7,
      "outputs": [
        {
          "output_type": "stream",
          "name": "stdout",
          "text": [
            "Writing /content/drive/MyDrive/Deep_learning/Eyelid_segmentation/MOBIUS/YOLOv8_training/eye_segmentation.yaml\n"
          ]
        }
      ]
    },
    {
      "cell_type": "markdown",
      "source": [
        "#**YOLOv8 training**"
      ],
      "metadata": {
        "id": "o1bgPIwSW5GM"
      }
    },
    {
      "cell_type": "code",
      "source": [
        "from google.colab import drive\n",
        "drive.mount('/content/drive')"
      ],
      "metadata": {
        "colab": {
          "base_uri": "https://localhost:8080/"
        },
        "id": "bVAglgbzaf6R",
        "outputId": "131c14a2-eb44-47db-c321-efe4c38f3cc6"
      },
      "execution_count": 1,
      "outputs": [
        {
          "output_type": "stream",
          "name": "stdout",
          "text": [
            "Mounted at /content/drive\n"
          ]
        }
      ]
    },
    {
      "cell_type": "code",
      "source": [
        "%cd /content/drive/MyDrive/Deep_learning/Eyelid_segmentation/MOBIUS/YOLOv8_training\n",
        "!git clone https://github.com/ultralytics/ultralytics\n",
        "%cd ultralytics\n",
        "#yolov8"
      ],
      "metadata": {
        "colab": {
          "base_uri": "https://localhost:8080/"
        },
        "id": "If515-y7RB38",
        "outputId": "56e99dd3-dae4-42ea-d329-51ace2297b49"
      },
      "execution_count": 2,
      "outputs": [
        {
          "output_type": "stream",
          "name": "stdout",
          "text": [
            "/content/drive/MyDrive/Deep_learning/Eyelid_segmentation/MOBIUS/YOLOv8_training\n",
            "fatal: destination path 'ultralytics' already exists and is not an empty directory.\n",
            "/content/drive/MyDrive/Deep_learning/Eyelid_segmentation/MOBIUS/YOLOv8_training/ultralytics\n"
          ]
        }
      ]
    },
    {
      "cell_type": "code",
      "source": [
        "from ultralytics import YOLO\n",
        "#本体\n",
        "#nc = 3に変更\n",
        "# Load a model\n",
        "model = YOLO('yolov8n-seg.yaml').load('yolov8n-seg.pt')  # build from YAML and transfer weights"
      ],
      "metadata": {
        "colab": {
          "base_uri": "https://localhost:8080/"
        },
        "id": "Oj8aU-FxQ_xV",
        "outputId": "b4ae7fd7-0206-45a6-c5da-79f0d81b36b3"
      },
      "execution_count": 3,
      "outputs": [
        {
          "output_type": "stream",
          "name": "stdout",
          "text": [
            "Transferred 417/417 items from pretrained weights\n"
          ]
        }
      ]
    },
    {
      "cell_type": "code",
      "source": [
        "result =  model.train(data='/content/drive/MyDrive/Deep_learning/Eyelid_segmentation/MOBIUS/YOLOv8_training/eye_segmentation.yaml', epochs=30, imgsz=640)"
      ],
      "metadata": {
        "colab": {
          "base_uri": "https://localhost:8080/"
        },
        "id": "SQrC2QfdZXj2",
        "outputId": "3e653851-8036-4c61-f489-bd9e293a23bb"
      },
      "execution_count": null,
      "outputs": [
        {
          "output_type": "stream",
          "name": "stdout",
          "text": [
            "Ultralytics YOLOv8.2.93 🚀 Python-3.10.12 torch-2.4.0+cu121 CUDA:0 (Tesla T4, 15102MiB)\n",
            "\u001b[34m\u001b[1mengine/trainer: \u001b[0mtask=segment, mode=train, model=yolov8n-seg.yaml, data=/content/drive/MyDrive/Deep_learning/Eyelid_segmentation/MOBIUS/YOLOv8_training/eye_segmentation.yaml, epochs=30, time=None, patience=100, batch=16, imgsz=640, save=True, save_period=-1, cache=False, device=None, workers=8, project=None, name=train2, exist_ok=False, pretrained=yolov8n-seg.pt, optimizer=auto, verbose=True, seed=0, deterministic=True, single_cls=False, rect=False, cos_lr=False, close_mosaic=10, resume=False, amp=True, fraction=1.0, profile=False, freeze=None, multi_scale=False, overlap_mask=True, mask_ratio=4, dropout=0.0, val=True, split=val, save_json=False, save_hybrid=False, conf=None, iou=0.7, max_det=300, half=False, dnn=False, plots=True, source=None, vid_stride=1, stream_buffer=False, visualize=False, augment=False, agnostic_nms=False, classes=None, retina_masks=False, embed=None, show=False, save_frames=False, save_txt=False, save_conf=False, save_crop=False, show_labels=True, show_conf=True, show_boxes=True, line_width=None, format=torchscript, keras=False, optimize=False, int8=False, dynamic=False, simplify=False, opset=None, workspace=4, nms=False, lr0=0.01, lrf=0.01, momentum=0.937, weight_decay=0.0005, warmup_epochs=3.0, warmup_momentum=0.8, warmup_bias_lr=0.1, box=7.5, cls=0.5, dfl=1.5, pose=12.0, kobj=1.0, label_smoothing=0.0, nbs=64, hsv_h=0.015, hsv_s=0.7, hsv_v=0.4, degrees=0.0, translate=0.1, scale=0.5, shear=0.0, perspective=0.0, flipud=0.0, fliplr=0.5, bgr=0.0, mosaic=1.0, mixup=0.0, copy_paste=0.0, auto_augment=randaugment, erasing=0.4, crop_fraction=1.0, cfg=None, tracker=botsort.yaml, save_dir=/content/drive/MyDrive/Deep_learning/Eyelid_segmentation/MOBIUS/YOLOv8_training/ultralytics/runs/segment/train2\n",
            "Downloading https://ultralytics.com/assets/Arial.ttf to '/root/.config/Ultralytics/Arial.ttf'...\n"
          ]
        },
        {
          "output_type": "stream",
          "name": "stderr",
          "text": [
            "100%|██████████| 755k/755k [00:00<00:00, 22.2MB/s]\n"
          ]
        },
        {
          "output_type": "stream",
          "name": "stdout",
          "text": [
            "Overriding model.yaml nc=80 with nc=3\n",
            "\n",
            "                   from  n    params  module                                       arguments                     \n",
            "  0                  -1  1       464  ultralytics.nn.modules.conv.Conv             [3, 16, 3, 2]                 \n",
            "  1                  -1  1      4672  ultralytics.nn.modules.conv.Conv             [16, 32, 3, 2]                \n",
            "  2                  -1  1      7360  ultralytics.nn.modules.block.C2f             [32, 32, 1, True]             \n",
            "  3                  -1  1     18560  ultralytics.nn.modules.conv.Conv             [32, 64, 3, 2]                \n",
            "  4                  -1  2     49664  ultralytics.nn.modules.block.C2f             [64, 64, 2, True]             \n",
            "  5                  -1  1     73984  ultralytics.nn.modules.conv.Conv             [64, 128, 3, 2]               \n",
            "  6                  -1  2    197632  ultralytics.nn.modules.block.C2f             [128, 128, 2, True]           \n",
            "  7                  -1  1    295424  ultralytics.nn.modules.conv.Conv             [128, 256, 3, 2]              \n",
            "  8                  -1  1    460288  ultralytics.nn.modules.block.C2f             [256, 256, 1, True]           \n",
            "  9                  -1  1    164608  ultralytics.nn.modules.block.SPPF            [256, 256, 5]                 \n",
            " 10                  -1  1         0  torch.nn.modules.upsampling.Upsample         [None, 2, 'nearest']          \n",
            " 11             [-1, 6]  1         0  ultralytics.nn.modules.conv.Concat           [1]                           \n",
            " 12                  -1  1    148224  ultralytics.nn.modules.block.C2f             [384, 128, 1]                 \n",
            " 13                  -1  1         0  torch.nn.modules.upsampling.Upsample         [None, 2, 'nearest']          \n",
            " 14             [-1, 4]  1         0  ultralytics.nn.modules.conv.Concat           [1]                           \n",
            " 15                  -1  1     37248  ultralytics.nn.modules.block.C2f             [192, 64, 1]                  \n",
            " 16                  -1  1     36992  ultralytics.nn.modules.conv.Conv             [64, 64, 3, 2]                \n",
            " 17            [-1, 12]  1         0  ultralytics.nn.modules.conv.Concat           [1]                           \n",
            " 18                  -1  1    123648  ultralytics.nn.modules.block.C2f             [192, 128, 1]                 \n",
            " 19                  -1  1    147712  ultralytics.nn.modules.conv.Conv             [128, 128, 3, 2]              \n",
            " 20             [-1, 9]  1         0  ultralytics.nn.modules.conv.Concat           [1]                           \n",
            " 21                  -1  1    493056  ultralytics.nn.modules.block.C2f             [384, 256, 1]                 \n",
            " 22        [15, 18, 21]  1   1004665  ultralytics.nn.modules.head.Segment          [3, 32, 64, [64, 128, 256]]   \n",
            "YOLOv8n-seg summary: 261 layers, 3,264,201 parameters, 3,264,185 gradients\n",
            "\n",
            "Transferred 381/417 items from pretrained weights\n",
            "\u001b[34m\u001b[1mTensorBoard: \u001b[0mStart with 'tensorboard --logdir /content/drive/MyDrive/Deep_learning/Eyelid_segmentation/MOBIUS/YOLOv8_training/ultralytics/runs/segment/train2', view at http://localhost:6006/\n",
            "Freezing layer 'model.22.dfl.conv.weight'\n",
            "\u001b[34m\u001b[1mAMP: \u001b[0mrunning Automatic Mixed Precision (AMP) checks with YOLOv8n...\n",
            "Downloading https://github.com/ultralytics/assets/releases/download/v8.2.0/yolov8n.pt to 'yolov8n.pt'...\n"
          ]
        },
        {
          "output_type": "stream",
          "name": "stderr",
          "text": [
            "100%|██████████| 6.25M/6.25M [00:00<00:00, 58.1MB/s]\n"
          ]
        },
        {
          "output_type": "stream",
          "name": "stdout",
          "text": [
            "\u001b[34m\u001b[1mAMP: \u001b[0mchecks passed ✅\n"
          ]
        },
        {
          "output_type": "stream",
          "name": "stderr",
          "text": [
            "\u001b[34m\u001b[1mtrain: \u001b[0mScanning /content/drive/MyDrive/Deep_learning/Eyelid_segmentation/MOBIUS/YOLOv8_training/data/labels/train... 2833 images, 0 backgrounds, 0 corrupt: 100%|██████████| 2833/2833 [21:28<00:00,  2.20it/s]\n"
          ]
        },
        {
          "output_type": "stream",
          "name": "stdout",
          "text": [
            "\u001b[34m\u001b[1mtrain: \u001b[0mNew cache created: /content/drive/MyDrive/Deep_learning/Eyelid_segmentation/MOBIUS/YOLOv8_training/data/labels/train.cache\n",
            "\u001b[34m\u001b[1malbumentations: \u001b[0mBlur(p=0.01, blur_limit=(3, 7)), MedianBlur(p=0.01, blur_limit=(3, 7)), ToGray(p=0.01), CLAHE(p=0.01, clip_limit=(1, 4.0), tile_grid_size=(8, 8))\n"
          ]
        },
        {
          "output_type": "stream",
          "name": "stderr",
          "text": [
            "/usr/local/lib/python3.10/dist-packages/albumentations/__init__.py:13: UserWarning: A new version of Albumentations is available: 1.4.15 (you have 1.4.14). Upgrade using: pip install -U albumentations. To disable automatic update checks, set the environment variable NO_ALBUMENTATIONS_UPDATE to 1.\n",
            "  check_for_updates()\n",
            "/usr/lib/python3.10/multiprocessing/popen_fork.py:66: RuntimeWarning: os.fork() was called. os.fork() is incompatible with multithreaded code, and JAX is multithreaded, so this will likely lead to a deadlock.\n",
            "  self.pid = os.fork()\n",
            "\u001b[34m\u001b[1mval: \u001b[0mScanning /content/drive/MyDrive/Deep_learning/Eyelid_segmentation/MOBIUS/YOLOv8_training/data/labels/val... 709 images, 0 backgrounds, 0 corrupt: 100%|██████████| 709/709 [04:53<00:00,  2.42it/s]\n"
          ]
        },
        {
          "output_type": "stream",
          "name": "stdout",
          "text": [
            "\u001b[34m\u001b[1mval: \u001b[0mNew cache created: /content/drive/MyDrive/Deep_learning/Eyelid_segmentation/MOBIUS/YOLOv8_training/data/labels/val.cache\n",
            "Plotting labels to /content/drive/MyDrive/Deep_learning/Eyelid_segmentation/MOBIUS/YOLOv8_training/ultralytics/runs/segment/train2/labels.jpg... \n",
            "\u001b[34m\u001b[1moptimizer:\u001b[0m 'optimizer=auto' found, ignoring 'lr0=0.01' and 'momentum=0.937' and determining best 'optimizer', 'lr0' and 'momentum' automatically... \n",
            "\u001b[34m\u001b[1moptimizer:\u001b[0m AdamW(lr=0.001429, momentum=0.9) with parameter groups 66 weight(decay=0.0), 77 weight(decay=0.0005), 76 bias(decay=0.0)\n",
            "\u001b[34m\u001b[1mTensorBoard: \u001b[0mmodel graph visualization added ✅\n",
            "Image sizes 640 train, 640 val\n",
            "Using 2 dataloader workers\n",
            "Logging results to \u001b[1m/content/drive/MyDrive/Deep_learning/Eyelid_segmentation/MOBIUS/YOLOv8_training/ultralytics/runs/segment/train2\u001b[0m\n",
            "Starting training for 30 epochs...\n",
            "\n",
            "      Epoch    GPU_mem   box_loss   seg_loss   cls_loss   dfl_loss  Instances       Size\n"
          ]
        },
        {
          "output_type": "stream",
          "name": "stderr",
          "text": [
            "       1/30      3.07G       1.14      2.503      1.476      1.287          6        640: 100%|██████████| 178/178 [02:56<00:00,  1.01it/s]\n",
            "                 Class     Images  Instances      Box(P          R      mAP50  mAP50-95)     Mask(P          R      mAP50  mAP50-95): 100%|██████████| 23/23 [00:23<00:00,  1.03s/it]\n"
          ]
        },
        {
          "output_type": "stream",
          "name": "stdout",
          "text": [
            "                   all        709       2127       0.94      0.866      0.915      0.651      0.914      0.838      0.883      0.506\n",
            "\n",
            "      Epoch    GPU_mem   box_loss   seg_loss   cls_loss   dfl_loss  Instances       Size\n"
          ]
        },
        {
          "output_type": "stream",
          "name": "stderr",
          "text": [
            "       2/30      2.98G      1.029      1.934       0.86        1.2          6        640: 100%|██████████| 178/178 [02:15<00:00,  1.31it/s]\n",
            "                 Class     Images  Instances      Box(P          R      mAP50  mAP50-95)     Mask(P          R      mAP50  mAP50-95): 100%|██████████| 23/23 [00:22<00:00,  1.04it/s]\n"
          ]
        },
        {
          "output_type": "stream",
          "name": "stdout",
          "text": [
            "                   all        709       2127      0.919      0.867      0.908       0.64      0.887      0.817      0.855      0.465\n",
            "\n",
            "      Epoch    GPU_mem   box_loss   seg_loss   cls_loss   dfl_loss  Instances       Size\n"
          ]
        },
        {
          "output_type": "stream",
          "name": "stderr",
          "text": [
            "       3/30      2.95G      1.017      1.895     0.7702      1.197          6        640: 100%|██████████| 178/178 [02:17<00:00,  1.29it/s]\n",
            "                 Class     Images  Instances      Box(P          R      mAP50  mAP50-95)     Mask(P          R      mAP50  mAP50-95): 100%|██████████| 23/23 [00:21<00:00,  1.06it/s]\n"
          ]
        },
        {
          "output_type": "stream",
          "name": "stdout",
          "text": [
            "                   all        709       2127      0.923      0.866      0.915       0.67      0.901      0.837      0.882      0.532\n",
            "\n",
            "      Epoch    GPU_mem   box_loss   seg_loss   cls_loss   dfl_loss  Instances       Size\n"
          ]
        },
        {
          "output_type": "stream",
          "name": "stderr",
          "text": [
            "       4/30      3.06G      0.993      1.847     0.6868      1.175          3        640: 100%|██████████| 178/178 [02:19<00:00,  1.28it/s]\n",
            "                 Class     Images  Instances      Box(P          R      mAP50  mAP50-95)     Mask(P          R      mAP50  mAP50-95): 100%|██████████| 23/23 [00:21<00:00,  1.07it/s]\n"
          ]
        },
        {
          "output_type": "stream",
          "name": "stdout",
          "text": [
            "                   all        709       2127      0.954      0.879      0.933      0.679       0.93       0.85      0.906      0.568\n",
            "\n",
            "      Epoch    GPU_mem   box_loss   seg_loss   cls_loss   dfl_loss  Instances       Size\n"
          ]
        },
        {
          "output_type": "stream",
          "name": "stderr",
          "text": [
            "       5/30      2.97G     0.9745      1.799      0.646      1.164         12        640: 100%|██████████| 178/178 [02:14<00:00,  1.32it/s]\n",
            "                 Class     Images  Instances      Box(P          R      mAP50  mAP50-95)     Mask(P          R      mAP50  mAP50-95): 100%|██████████| 23/23 [00:20<00:00,  1.12it/s]"
          ]
        },
        {
          "output_type": "stream",
          "name": "stdout",
          "text": [
            "                   all        709       2127       0.95      0.906      0.941      0.708       0.94      0.894      0.928      0.592\n"
          ]
        },
        {
          "output_type": "stream",
          "name": "stderr",
          "text": [
            "\n"
          ]
        },
        {
          "output_type": "stream",
          "name": "stdout",
          "text": [
            "\n",
            "      Epoch    GPU_mem   box_loss   seg_loss   cls_loss   dfl_loss  Instances       Size\n"
          ]
        },
        {
          "output_type": "stream",
          "name": "stderr",
          "text": [
            "       6/30      2.89G     0.9498      1.804     0.6173      1.156          3        640: 100%|██████████| 178/178 [02:17<00:00,  1.29it/s]\n",
            "                 Class     Images  Instances      Box(P          R      mAP50  mAP50-95)     Mask(P          R      mAP50  mAP50-95): 100%|██████████| 23/23 [00:25<00:00,  1.10s/it]\n"
          ]
        },
        {
          "output_type": "stream",
          "name": "stdout",
          "text": [
            "                   all        709       2127      0.949      0.892      0.937      0.706       0.92      0.868      0.914      0.582\n",
            "\n",
            "      Epoch    GPU_mem   box_loss   seg_loss   cls_loss   dfl_loss  Instances       Size\n"
          ]
        },
        {
          "output_type": "stream",
          "name": "stderr",
          "text": [
            "       7/30         3G     0.9311      1.736     0.5929      1.142          4        640: 100%|██████████| 178/178 [02:17<00:00,  1.30it/s]\n",
            "                 Class     Images  Instances      Box(P          R      mAP50  mAP50-95)     Mask(P          R      mAP50  mAP50-95): 100%|██████████| 23/23 [00:23<00:00,  1.02s/it]"
          ]
        },
        {
          "output_type": "stream",
          "name": "stdout",
          "text": [
            "                   all        709       2127      0.956      0.892      0.935      0.716      0.931      0.879       0.92       0.59\n"
          ]
        },
        {
          "output_type": "stream",
          "name": "stderr",
          "text": [
            "\n"
          ]
        },
        {
          "output_type": "stream",
          "name": "stdout",
          "text": [
            "\n",
            "      Epoch    GPU_mem   box_loss   seg_loss   cls_loss   dfl_loss  Instances       Size\n"
          ]
        },
        {
          "output_type": "stream",
          "name": "stderr",
          "text": [
            "       8/30      2.97G     0.9205      1.726     0.5712      1.143          3        640: 100%|██████████| 178/178 [02:15<00:00,  1.31it/s]\n",
            "                 Class     Images  Instances      Box(P          R      mAP50  mAP50-95)     Mask(P          R      mAP50  mAP50-95): 100%|██████████| 23/23 [00:20<00:00,  1.11it/s]"
          ]
        },
        {
          "output_type": "stream",
          "name": "stdout",
          "text": [
            "                   all        709       2127      0.955      0.895      0.939      0.717      0.941      0.881       0.93      0.607\n"
          ]
        },
        {
          "output_type": "stream",
          "name": "stderr",
          "text": [
            "\n"
          ]
        },
        {
          "output_type": "stream",
          "name": "stdout",
          "text": [
            "\n",
            "      Epoch    GPU_mem   box_loss   seg_loss   cls_loss   dfl_loss  Instances       Size\n"
          ]
        },
        {
          "output_type": "stream",
          "name": "stderr",
          "text": [
            "       9/30      2.97G     0.9169      1.706      0.566      1.137          3        640: 100%|██████████| 178/178 [02:21<00:00,  1.26it/s]\n",
            "                 Class     Images  Instances      Box(P          R      mAP50  mAP50-95)     Mask(P          R      mAP50  mAP50-95):  83%|████████▎ | 19/23 [00:22<00:04,  1.22s/it]"
          ]
        }
      ]
    },
    {
      "cell_type": "code",
      "source": [
        "## 続きからトレーニングする場合\n",
        "from ultralytics import YOLO\n",
        "#本体\n",
        "#nc = 3に変更\n",
        "# Load a model\n",
        "model = YOLO('yolov8n-seg.yaml').load('yolov8n-seg.pt')  # build from YAML and transfer weights\n",
        "\n",
        "result = model.train(data='/content/drive/MyDrive/Deep_learning/Eyelid_segmentation/MOBIUS/YOLOv8_training/eye_segmentation.yaml',\n",
        "                     epochs=30,\n",
        "                     imgsz=640,\n",
        "                     resume='/content/drive/MyDrive/Deep_learning/Eyelid_segmentation/MOBIUS/YOLOv8_training/ultralytics/runs/segment/train2/weights/last.pt')  # チェックポイントファイルのパスを指定"
      ],
      "metadata": {
        "id": "xxQ7zw94dPN7"
      },
      "execution_count": null,
      "outputs": []
    },
    {
      "cell_type": "markdown",
      "source": [
        "## [試作品段階のコード](https://colab.research.google.com/drive/16fyns7E-PEstRELygVeMyLE5gbmVhyPe#scrollTo=NYNAK-r12mPz)"
      ],
      "metadata": {
        "id": "Bid8nbRQ_fKI"
      }
    },
    {
      "cell_type": "markdown",
      "source": [
        "念のために共有します。"
      ],
      "metadata": {
        "id": "Lh8_-mEi_54J"
      }
    }
  ]
}