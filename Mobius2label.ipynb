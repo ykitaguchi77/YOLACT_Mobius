{
  "nbformat": 4,
  "nbformat_minor": 0,
  "metadata": {
    "colab": {
      "provenance": [],
      "include_colab_link": true
    },
    "kernelspec": {
      "name": "python3",
      "display_name": "Python 3"
    },
    "language_info": {
      "name": "python"
    }
  },
  "cells": [
    {
      "cell_type": "markdown",
      "metadata": {
        "id": "view-in-github",
        "colab_type": "text"
      },
      "source": [
        "<a href=\"https://colab.research.google.com/github/ykitaguchi77/YOLACT_Mobius/blob/main/Mobius2label.ipynb\" target=\"_parent\"><img src=\"https://colab.research.google.com/assets/colab-badge.svg\" alt=\"Open In Colab\"/></a>"
      ]
    },
    {
      "cell_type": "markdown",
      "source": [
        "#**Mobius2label**\n",
        "\n",
        "Mobiusのカラーマスク→ YOLOv8 instance trainingトレーニング用の座標に\n",
        "\n",
        "研究室配属 鈴木くんより"
      ],
      "metadata": {
        "id": "9blZigcjE8wT"
      }
    },
    {
      "cell_type": "code",
      "source": [
        "#@title #ライブラリのインストール\n",
        "#@markdown [shift]+[Enter]を押して起動してください\n",
        "from google.colab import drive\n",
        "drive.mount('/content/drive')\n",
        "import os\n",
        "import cv2\n",
        "import numpy as np\n",
        "import matplotlib.pyplot as plt\n",
        "from skimage import measure\n",
        "import json\n",
        "from tqdm import tqdm  # tqdmをインポート\n",
        "import os\n",
        "import matplotlib"
      ],
      "metadata": {
        "colab": {
          "base_uri": "https://localhost:8080/"
        },
        "id": "AzE4onOM4m7s",
        "outputId": "46ebadbb-cfdb-4ef8-97ee-0cf9d379ad70"
      },
      "execution_count": 3,
      "outputs": [
        {
          "output_type": "stream",
          "name": "stdout",
          "text": [
            "Drive already mounted at /content/drive; to attempt to forcibly remount, call drive.mount(\"/content/drive\", force_remount=True).\n"
          ]
        }
      ]
    },
    {
      "cell_type": "code",
      "source": [
        "#@title #ディレクトリと座標の個数\n",
        "#@markdown 指定を終えてから、[shift]+[Enter]を押して起動してください。\n",
        "#@markdown <br> 学習に適切な個数が分からなかったので、変更できるようにしました。\n",
        "\n",
        "# 入力ディレクトリと出力ディレクトリを指定してください\n",
        "input_dir = \"/content/drive/MyDrive/Deep_learning/Eyelid_segmentation/MOBIUS/Masks/1\"\n",
        "output_dir = \"/content\"\n",
        "\n",
        "# eyelid, iris, pupilごとに座標の個数を指定してください。\n",
        "num_points_eyelid = 24\n",
        "num_points_iris = 16\n",
        "num_points_pupil = 12"
      ],
      "metadata": {
        "id": "etU9h_4o45ks"
      },
      "execution_count": null,
      "outputs": []
    },
    {
      "cell_type": "code",
      "source": [
        "#@title #Mobius to label起動\n",
        "#@markdown 　[shift]+[Enter]を押して起動してください。\n",
        "#@markdown　<br>うまくいっていないラベルも存在するので、目視で確認して除外すべきかもしれません。\n",
        "def create_mask(image, color):\n",
        "    return np.all(image == color, axis=-1)\n",
        "\n",
        "def apply_mask(image, mask):\n",
        "    return np.where(mask, 255, 0)\n",
        "\n",
        "def extract_contours(img, _num_points):\n",
        "    contours = measure.find_contours(img, 0.5)\n",
        "    points_list = []\n",
        "\n",
        "    for contour in contours:\n",
        "        contour_length = len(contour)\n",
        "\n",
        "        if contour_length > _num_points:\n",
        "            step = contour_length // _num_points\n",
        "            selected_points = [contour[i * step] for i in range(_num_points)]\n",
        "        else:\n",
        "            selected_points = contour\n",
        "\n",
        "        points = [[float(point[1]), float(point[0])] for point in selected_points]\n",
        "        points_list.append(points)\n",
        "\n",
        "    return points_list\n",
        "\n",
        "def create_custom_output(points_list_blue, points_list_blue_green, points_list_all_colors, img_width, img_height, output_file):\n",
        "    with open(output_file, 'w') as f:\n",
        "        # 0: eyelid\n",
        "        f.write(\"0 \")\n",
        "        for point in points_list_all_colors[0]:\n",
        "            x = point[0] / img_width\n",
        "            y = point[1] / img_height\n",
        "            f.write(f\"{x} {y} \")\n",
        "        f.write(\"\\n\")\n",
        "\n",
        "        # 1: iris\n",
        "        f.write(\"1 \")\n",
        "        for point in points_list_blue_green[0]:\n",
        "            x = point[0] / img_width\n",
        "            y = point[1] / img_height\n",
        "            f.write(f\"{x} {y} \")\n",
        "        f.write(\"\\n\")\n",
        "\n",
        "        # 2: pupil\n",
        "        f.write(\"2 \")\n",
        "        for point in points_list_blue[0]:\n",
        "            x = point[0] / img_width\n",
        "            y = point[1] / img_height\n",
        "            f.write(f\"{x} {y} \")\n",
        "        f.write(\"\\n\")\n",
        "\n",
        "def process_image(mask_file, output_dir, num_points_eyelid, num_points_iris, num_points_pupil):\n",
        "    img = cv2.imread(mask_file, cv2.IMREAD_COLOR)\n",
        "    img_height, img_width = img.shape[:2]\n",
        "\n",
        "    mask_blue = create_mask(img, [255, 0, 0])\n",
        "    mask_green = create_mask(img, [0, 255, 0])\n",
        "    mask_red = create_mask(img, [0, 0, 255])\n",
        "\n",
        "    mask_blue_green = np.logical_or(mask_blue, mask_green)\n",
        "    mask_all_colors = np.logical_or(mask_blue_green, mask_red)\n",
        "\n",
        "    img_blue = apply_mask(img, mask_blue)\n",
        "    img_blue_green = apply_mask(img, mask_blue_green)\n",
        "    img_all_colors = apply_mask(img, mask_all_colors)\n",
        "\n",
        "    # 各ラベルごとに異なる個数の座標を抽出\n",
        "    points_list_blue = extract_contours(img_blue, num_points_pupil)\n",
        "    points_list_blue_green = extract_contours(img_blue_green, num_points_iris)\n",
        "    points_list_all_colors = extract_contours(img_all_colors, num_points_eyelid)\n",
        "\n",
        "    # 出力先ディレクトリとファイル名を設定\n",
        "    base_name = os.path.splitext(os.path.basename(mask_file))[0]\n",
        "    output_file = os.path.join(output_dir, base_name + \".txt\")\n",
        "\n",
        "    # カスタム出力\n",
        "    create_custom_output(points_list_blue, points_list_blue_green, points_list_all_colors, img_width, img_height, output_file)\n",
        "\n",
        "    # 書き換え部分\n",
        "    x_eyelid = [point[0] for point in points_list_all_colors[0]]\n",
        "    y_eyelid = [point[1] for point in points_list_all_colors[0]]\n",
        "\n",
        "    x_iris = [point[0] for point in points_list_blue_green[0]]\n",
        "    y_iris = [point[1] for point in points_list_blue_green[0]]\n",
        "\n",
        "    x_pupil = [point[0] for point in points_list_blue[0]]\n",
        "    y_pupil = [point[1] for point in points_list_blue[0]]\n",
        "\n",
        "    # 元の画像を読み込む\n",
        "    img_path = mask_file.replace(\"Masks\", \"Images\").replace(\".png\", \".jpg\")\n",
        "    img = cv2.imread(img_path, cv2.IMREAD_COLOR)\n",
        "\n",
        "    # プロット作成\n",
        "    plt.figure(figsize=(12, 6))\n",
        "\n",
        "    # 左側に元の画像を表示\n",
        "    plt.subplot(1, 2, 1)\n",
        "    plt.imshow(cv2.cvtColor(img, cv2.COLOR_BGR2RGB))\n",
        "    plt.title(base_name)  # ファイル名をタイトルに設定\n",
        "\n",
        "    # 右側に散布図を表示\n",
        "    plt.subplot(1, 2, 2)\n",
        "    plt.scatter(x_eyelid, y_eyelid, label='eyelid', color='blue')\n",
        "    plt.scatter(x_iris, y_iris, label='iris', color='green')\n",
        "    plt.scatter(x_pupil, y_pupil, label='pupil', color='red')\n",
        "    plt.title(\"Contours\")  # 輪郭\n",
        "\n",
        "    # 軸を画像の大きさに合わせて調整\n",
        "    plt.xlim([0, img_width])\n",
        "    plt.ylim([img_height, 0])  # Y軸の反転\n",
        "\n",
        "    # 縦横の比率を保つ\n",
        "    plt.gca().set_aspect('equal', adjustable='box')\n",
        "\n",
        "    # 凡例を表示する\n",
        "    plt.legend()\n",
        "\n",
        "    # レイアウトを調整して表示\n",
        "    plt.tight_layout()\n",
        "    plt.show()\n",
        "\n",
        "\n",
        "\n",
        "\n",
        "\n",
        "def process_all_images_in_directory(input_dir, output_dir, num_points_eyelid, num_points_iris, num_points_pupil):\n",
        "    # 入力ディレクトリ内のすべての.pngファイルを処理\n",
        "    png_files = [file_name for file_name in os.listdir(input_dir) if file_name.endswith(\".png\")]\n",
        "\n",
        "    # tqdmを使って進行状況を表示\n",
        "    for file_name in tqdm(png_files, desc=\"Processing images\"):\n",
        "        mask_file = os.path.join(input_dir, file_name)\n",
        "        process_image(mask_file, output_dir, num_points_eyelid, num_points_iris, num_points_pupil)\n",
        "\n",
        "\n",
        "\n",
        "if __name__ == '__main__':\n",
        "    process_all_images_in_directory(input_dir, output_dir, num_points_eyelid, num_points_iris, num_points_pupil)\n"
      ],
      "metadata": {
        "collapsed": true,
        "id": "A7I6Gx_o4qXd"
      },
      "execution_count": null,
      "outputs": []
    },
    {
      "cell_type": "markdown",
      "source": [
        "###一つだけの画像バージョン（テスト用）"
      ],
      "metadata": {
        "id": "avAj_VBsPVgB"
      }
    },
    {
      "cell_type": "markdown",
      "source": [
        "# 備考欄"
      ],
      "metadata": {
        "id": "v5js3ebr_Z1_"
      }
    },
    {
      "cell_type": "markdown",
      "source": [
        "## ラベルの構造\n",
        "\n",
        "0 x1 y1 x2 y2 x3 y3...(eyelidの座標)<br>\n",
        "1 x1 y1 x2 y2 x3 y3...(irisの座標)<br>\n",
        "2 x1 y1 x2 y2 x3 y3...(pupilの座標)"
      ],
      "metadata": {
        "id": "oHkx2EFPAzZJ"
      }
    },
    {
      "cell_type": "markdown",
      "source": [
        "#**YOLOv8 instance segmentation training**\n",
        "\n",
        "To do：\n",
        "\n",
        "Mobiusのマスク画像をYOLOv8形式のテキストファイルに\n",
        "\n",
        "マスク画像がない画像を除外\n",
        "\n",
        "Not goodの画像を除外\n",
        "\n",
        "YOLOv8用のフォルダ構成に\n",
        "\n",
        "Yolov8のtraining\n",
        "\n",
        "マスク画像がない画像をinference\n",
        "\n",
        "手動で選別しOKのものを追加し再学習"
      ],
      "metadata": {
        "id": "48cGBe5aKAul"
      }
    },
    {
      "cell_type": "code",
      "source": [
        "\"\"\"\n",
        "project/\n",
        "│\n",
        "├── data/\n",
        "│   ├── train/\n",
        "│   │   ├── images/\n",
        "│   │   └── labels/\n",
        "│   │\n",
        "│   ├── val/\n",
        "│   │   ├── images/\n",
        "│   │   └── labels/\n",
        "│   │\n",
        "│   └── test/  (オプション)\n",
        "│       ├── images/\n",
        "│       └── labels/\n",
        "│\n",
        "│\n",
        "├── dataset.yaml\n",
        "│\n",
        "├── models/\n",
        "│\n",
        "└── runs/  (トレーニング結果が保存される)\n",
        "\"\"\""
      ],
      "metadata": {
        "id": "iYJi9U7SKMZp"
      },
      "execution_count": null,
      "outputs": []
    },
    {
      "cell_type": "markdown",
      "source": [
        "###Mask2label preprocessing\n",
        "\n"
      ],
      "metadata": {
        "id": "vIKzNC6JGyWC"
      }
    },
    {
      "cell_type": "code",
      "source": [
        "from google.colab import drive\n",
        "drive.mount('/content/drive')"
      ],
      "metadata": {
        "colab": {
          "base_uri": "https://localhost:8080/"
        },
        "id": "4tU2k3FcSXV0",
        "outputId": "7bcae5d3-0ec8-401d-a7dc-b6a1c7d44ad5"
      },
      "execution_count": null,
      "outputs": [
        {
          "output_type": "stream",
          "name": "stdout",
          "text": [
            "Mounted at /content/drive\n"
          ]
        }
      ]
    },
    {
      "cell_type": "code",
      "source": [
        "\"\"\"\n",
        "このスクリプトは、Mobiusデータセットの画像とマスクをYOLOv8形式に変換します。\n",
        "\n",
        "主な機能：\n",
        "1. Masksディレクトリ内の全てのマスク画像を処理（フォルダ番号順）\n",
        "2. 各マスクに対応するYOLOv8形式のラベルファイルを生成\n",
        "3. 対応する前眼部画像を指定された出力ディレクトリにコピー\n",
        "4. 処理中に画像とマスクのプロットを表示\n",
        "5. tqdmを使用して処理の進捗を表示\n",
        "6. 開始フォルダを指定可能\n",
        "\n",
        "入力ディレクトリ構造：\n",
        "- Masks: /content/drive/MyDrive/Deep_learning/Eyelid_segmentation/MOBIUS/Masks/\n",
        "  - 1/\n",
        "  - 2/\n",
        "  ...\n",
        "  - 35/\n",
        "- Images: /content/drive/MyDrive/Deep_learning/Eyelid_segmentation/MOBIUS/Images/\n",
        "  - 1/\n",
        "  - 2/\n",
        "  ...\n",
        "  - 35/\n",
        "\n",
        "出力ディレクトリ構造：\n",
        "- Labels: /content/drive/MyDrive/Deep_learning/Eyelid_segmentation/MOBIUS/YOLOv8_training/labels/\n",
        "- Images: /content/drive/MyDrive/Deep_learning/Eyelid_segmentation/MOBIUS/YOLOv8_training/images/\n",
        "\n",
        "注意：\n",
        "- 出力ディレクトリが存在しない場合は自動的に作成されます\n",
        "- マスクの色に基づいて、瞼（赤）、虹彩（緑）、瞳孔（青）を識別します\n",
        "- 各部位の座標点の数は変数で設定可能です（デフォルト：瞼24点、虹彩16点、瞳孔12点）\n",
        "- フォルダは番号順に処理されます\n",
        "- 開始フォルダ番号を指定できます\n",
        "\"\"\"\n",
        "\n",
        "import os\n",
        "import cv2\n",
        "import numpy as np\n",
        "from skimage import measure\n",
        "import matplotlib.pyplot as plt\n",
        "from tqdm import tqdm\n",
        "import shutil\n",
        "\n",
        "def create_mask(image, color):\n",
        "    \"\"\"\n",
        "    指定された色に基づいてマスクを作成します。\n",
        "\n",
        "    Args:\n",
        "    image (np.array): 入力画像\n",
        "    color (list): マスクを作成する色 [R, G, B]\n",
        "\n",
        "    Returns:\n",
        "    np.array: 指定された色に対するバイナリマスク\n",
        "    \"\"\"\n",
        "    return np.all(image == color, axis=-1)\n",
        "\n",
        "def apply_mask(image, mask):\n",
        "    \"\"\"\n",
        "    画像にマスクを適用します。\n",
        "\n",
        "    Args:\n",
        "    image (np.array): 入力画像\n",
        "    mask (np.array): バイナリマスク\n",
        "\n",
        "    Returns:\n",
        "    np.array: マスクが適用された画像\n",
        "    \"\"\"\n",
        "    return np.where(mask, 255, 0)\n",
        "\n",
        "def extract_contours(img, _num_points):\n",
        "    \"\"\"\n",
        "    画像から輪郭を抽出し、指定された数の点を選択します。\n",
        "\n",
        "    Args:\n",
        "    img (np.array): 入力画像\n",
        "    _num_points (int): 選択する点の数\n",
        "\n",
        "    Returns:\n",
        "    list: 選択された点のリスト\n",
        "    \"\"\"\n",
        "    contours = measure.find_contours(img, 0.5)\n",
        "    points_list = []\n",
        "\n",
        "    for contour in contours:\n",
        "        contour_length = len(contour)\n",
        "\n",
        "        if contour_length > _num_points:\n",
        "            step = contour_length // _num_points\n",
        "            selected_points = [contour[i * step] for i in range(_num_points)]\n",
        "        else:\n",
        "            selected_points = contour\n",
        "\n",
        "        points = [[float(point[1]), float(point[0])] for point in selected_points]\n",
        "        points_list.append(points)\n",
        "\n",
        "    return points_list\n",
        "\n",
        "def create_yolov8_output(points_list_blue, points_list_blue_green, points_list_all_colors, img_width, img_height, output_file):\n",
        "    \"\"\"\n",
        "    YOLOv8形式のラベルファイルを作成します。\n",
        "\n",
        "    Args:\n",
        "    points_list_blue (list): 瞳孔の点のリスト\n",
        "    points_list_blue_green (list): 虹彩の点のリスト\n",
        "    points_list_all_colors (list): 瞼の点のリスト\n",
        "    img_width (int): 画像の幅\n",
        "    img_height (int): 画像の高さ\n",
        "    output_file (str): 出力ファイルのパス\n",
        "    \"\"\"\n",
        "    with open(output_file, 'w') as f:\n",
        "        # 0: eyelid\n",
        "        f.write(\"0 \")\n",
        "        for point in points_list_all_colors[0]:\n",
        "            x = point[0] / img_width\n",
        "            y = point[1] / img_height\n",
        "            f.write(f\"{x:.6f} {y:.6f} \")\n",
        "        f.write(\"\\n\")\n",
        "\n",
        "        # 1: iris\n",
        "        f.write(\"1 \")\n",
        "        for point in points_list_blue_green[0]:\n",
        "            x = point[0] / img_width\n",
        "            y = point[1] / img_height\n",
        "            f.write(f\"{x:.6f} {y:.6f} \")\n",
        "        f.write(\"\\n\")\n",
        "\n",
        "        # 2: pupil\n",
        "        f.write(\"2 \")\n",
        "        for point in points_list_blue[0]:\n",
        "            x = point[0] / img_width\n",
        "            y = point[1] / img_height\n",
        "            f.write(f\"{x:.6f} {y:.6f} \")\n",
        "        f.write(\"\\n\")\n",
        "\n",
        "def process_image(mask_file, images_dir, output_labels_dir, output_images_dir, num_points_eyelid, num_points_iris, num_points_pupil):\n",
        "    \"\"\"\n",
        "    1つのマスク画像を処理し、対応するラベルファイルを生成し、元の画像をコピーします。\n",
        "\n",
        "    Args:\n",
        "    mask_file (str): マスク画像のファイルパス\n",
        "    images_dir (str): 元の画像が格納されているディレクトリ\n",
        "    output_labels_dir (str): ラベルファイルの出力ディレクトリ\n",
        "    output_images_dir (str): 画像のコピー先ディレクトリ\n",
        "    num_points_eyelid (int): 瞼の点の数\n",
        "    num_points_iris (int): 虹彩の点の数\n",
        "    num_points_pupil (int): 瞳孔の点の数\n",
        "    \"\"\"\n",
        "    img = cv2.imread(mask_file, cv2.IMREAD_COLOR)\n",
        "    img_height, img_width = img.shape[:2]\n",
        "\n",
        "    mask_blue = create_mask(img, [255, 0, 0])\n",
        "    mask_green = create_mask(img, [0, 255, 0])\n",
        "    mask_red = create_mask(img, [0, 0, 255])\n",
        "\n",
        "    mask_blue_green = np.logical_or(mask_blue, mask_green)\n",
        "    mask_all_colors = np.logical_or(mask_blue_green, mask_red)\n",
        "\n",
        "    img_blue = apply_mask(img, mask_blue)\n",
        "    img_blue_green = apply_mask(img, mask_blue_green)\n",
        "    img_all_colors = apply_mask(img, mask_all_colors)\n",
        "\n",
        "    points_list_blue = extract_contours(img_blue, num_points_pupil)\n",
        "    points_list_blue_green = extract_contours(img_blue_green, num_points_iris)\n",
        "    points_list_all_colors = extract_contours(img_all_colors, num_points_eyelid)\n",
        "\n",
        "    base_name = os.path.splitext(os.path.basename(mask_file))[0]\n",
        "    output_file = os.path.join(output_labels_dir, base_name + \".txt\")\n",
        "\n",
        "    create_yolov8_output(points_list_blue, points_list_blue_green, points_list_all_colors, img_width, img_height, output_file)\n",
        "\n",
        "    # Copy corresponding image\n",
        "    folder_number = os.path.basename(os.path.dirname(mask_file))\n",
        "    image_path = os.path.join(images_dir, folder_number, base_name + \".jpg\")\n",
        "    if os.path.exists(image_path):\n",
        "        shutil.copy(image_path, output_images_dir)\n",
        "    else:\n",
        "        print(f\"Warning: Corresponding image not found for {base_name}\")\n",
        "\n",
        "    # # Plot\n",
        "    # x_eyelid = [point[0] for point in points_list_all_colors[0]]\n",
        "    # y_eyelid = [point[1] for point in points_list_all_colors[0]]\n",
        "    # x_iris = [point[0] for point in points_list_blue_green[0]]\n",
        "    # y_iris = [point[1] for point in points_list_blue_green[0]]\n",
        "    # x_pupil = [point[0] for point in points_list_blue[0]]\n",
        "    # y_pupil = [point[1] for point in points_list_blue[0]]\n",
        "\n",
        "    # img_original = cv2.imread(image_path, cv2.IMREAD_COLOR)\n",
        "\n",
        "    # plt.figure(figsize=(12, 6))\n",
        "    # plt.subplot(1, 2, 1)\n",
        "    # plt.imshow(cv2.cvtColor(img_original, cv2.COLOR_BGR2RGB))\n",
        "    # plt.title(base_name)\n",
        "\n",
        "    # plt.subplot(1, 2, 2)\n",
        "    # plt.scatter(x_eyelid, y_eyelid, label='eyelid', color='blue')\n",
        "    # plt.scatter(x_iris, y_iris, label='iris', color='green')\n",
        "    # plt.scatter(x_pupil, y_pupil, label='pupil', color='red')\n",
        "    # plt.title(\"Contours\")\n",
        "    # plt.xlim([0, img_width])\n",
        "    # plt.ylim([img_height, 0])\n",
        "    # plt.gca().set_aspect('equal', adjustable='box')\n",
        "    # plt.legend()\n",
        "    # plt.tight_layout()\n",
        "    # plt.show()\n",
        "\n",
        "def process_all_images_in_directory(masks_dir, images_dir, output_labels_dir, output_images_dir, num_points_eyelid, num_points_iris, num_points_pupil, start_folder):\n",
        "    \"\"\"\n",
        "    指定されたディレクトリ内の全ての画像を処理します。\n",
        "\n",
        "    Args:\n",
        "    masks_dir (str): マスク画像が格納されているディレクトリ\n",
        "    images_dir (str): 元の画像が格納されているディレクトリ\n",
        "    output_labels_dir (str): ラベルファイルの出力ディレクトリ\n",
        "    output_images_dir (str): 画像のコピー先ディレクトリ\n",
        "    num_points_eyelid (int): 瞼の点の数\n",
        "    num_points_iris (int): 虹彩の点の数\n",
        "    num_points_pupil (int): 瞳孔の点の数\n",
        "    start_folder (int): 処理を開始するフォルダ番号\n",
        "    \"\"\"\n",
        "    # フォルダ名を数値としてソートするための関数\n",
        "    def folder_num(name):\n",
        "        try:\n",
        "            return int(name)\n",
        "        except ValueError:\n",
        "            return float('inf')  # 数値でないフォルダ名は最後にソートされます\n",
        "\n",
        "    # フォルダを数値順にソート\n",
        "    folders = sorted([f for f in os.listdir(masks_dir) if os.path.isdir(os.path.join(masks_dir, f))], key=folder_num)\n",
        "\n",
        "    # 開始フォルダ以降のフォルダのみを処理\n",
        "    start_index = folders.index(str(start_folder)) if str(start_folder) in folders else 0\n",
        "    folders = folders[start_index:]\n",
        "\n",
        "    for folder_name in folders:\n",
        "        folder_path = os.path.join(masks_dir, folder_name)\n",
        "        png_files = [file_name for file_name in os.listdir(folder_path) if file_name.endswith(\".png\")]\n",
        "        for file_name in tqdm(png_files, desc=f\"Processing folder {folder_name}\"):\n",
        "            mask_file = os.path.join(folder_path, file_name)\n",
        "            process_image(mask_file, images_dir, output_labels_dir, output_images_dir, num_points_eyelid, num_points_iris, num_points_pupil)\n",
        "\n",
        "if __name__ == '__main__':\n",
        "    masks_dir = \"/content/drive/MyDrive/Deep_learning/Eyelid_segmentation/MOBIUS/Masks\"\n",
        "    images_dir = \"/content/drive/MyDrive/Deep_learning/Eyelid_segmentation/MOBIUS/Images\"\n",
        "    output_labels_dir = \"/content/drive/MyDrive/Deep_learning/Eyelid_segmentation/MOBIUS/YOLOv8_training/labels\"\n",
        "    output_images_dir = \"/content/drive/MyDrive/Deep_learning/Eyelid_segmentation/MOBIUS/YOLOv8_training/images\"\n",
        "\n",
        "    # Create output directories if they don't exist\n",
        "    os.makedirs(output_labels_dir, exist_ok=True)\n",
        "    os.makedirs(output_images_dir, exist_ok=True)\n",
        "\n",
        "    num_points_eyelid = 24\n",
        "    num_points_iris = 16\n",
        "    num_points_pupil = 12\n",
        "\n",
        "    # 開始フォルダを指定（例：1番目のフォルダから開始）\n",
        "    start_folder = 2\n",
        "\n",
        "    process_all_images_in_directory(masks_dir, images_dir, output_labels_dir, output_images_dir, num_points_eyelid, num_points_iris, num_points_pupil, start_folder)"
      ],
      "metadata": {
        "id": "UMERCbniKMba"
      },
      "execution_count": null,
      "outputs": []
    },
    {
      "cell_type": "markdown",
      "source": [
        "### 形式を調整"
      ],
      "metadata": {
        "id": "FJdYfVtAHOkb"
      }
    },
    {
      "cell_type": "code",
      "source": [
        "### 枚数の確認\n",
        "\n",
        "import os\n",
        "\n",
        "def count_files(directory, include_bad=False):\n",
        "    total_count = 0\n",
        "    bad_count = 0\n",
        "    for name in os.listdir(directory):\n",
        "        if os.path.isfile(os.path.join(directory, name)):\n",
        "            total_count += 1\n",
        "            if 'bad' in name.lower():\n",
        "                bad_count += 1\n",
        "    return total_count, bad_count\n",
        "\n",
        "# ディレクトリパス\n",
        "labels_dir = \"/content/drive/MyDrive/Deep_learning/Eyelid_segmentation/MOBIUS/YOLOv8_training/labels/\"\n",
        "images_dir = \"/content/drive/MyDrive/Deep_learning/Eyelid_segmentation/MOBIUS/YOLOv8_training/images/\"\n",
        "\n",
        "# ファイル数をカウント\n",
        "labels_total, labels_bad = count_files(labels_dir)\n",
        "images_total, images_bad = count_files(images_dir)\n",
        "\n",
        "print(f\"ラベルファイル総数: {labels_total}\")\n",
        "print(f\"'bad'を含むラベルファイル数: {labels_bad}\")\n",
        "print(f\"画像ファイル総数: {images_total}\")\n",
        "print(f\"'bad'を含む画像ファイル数: {images_bad}\")\n",
        "\n",
        "if labels_total == images_total:\n",
        "    print(\"ラベルと画像の総数が一致しています。\")\n",
        "else:\n",
        "    print(\"警告: ラベルと画像の総数が一致していません。\")\n",
        "\n",
        "if labels_bad == images_bad:\n",
        "    print(\"'bad'を含むラベルと画像の数が一致しています。\")\n",
        "else:\n",
        "    print(\"警告: 'bad'を含むラベルと画像の数が一致していません。\")"
      ],
      "metadata": {
        "id": "yksBqDdgDXSz",
        "outputId": "af138bf6-9e99-43ef-c35c-563cb81d8231",
        "colab": {
          "base_uri": "https://localhost:8080/"
        }
      },
      "execution_count": 5,
      "outputs": [
        {
          "output_type": "stream",
          "name": "stdout",
          "text": [
            "ラベルファイル総数: 3559\n",
            "'bad'を含むラベルファイル数: 17\n",
            "画像ファイル総数: 3559\n",
            "'bad'を含む画像ファイル数: 17\n",
            "ラベルと画像の総数が一致しています。\n",
            "'bad'を含むラベルと画像の数が一致しています。\n"
          ]
        }
      ]
    },
    {
      "cell_type": "code",
      "source": [
        "\"\"\"\n",
        "このスクリプトは以下の処理を行います：\n",
        "\n",
        "1. 指定されたソースディレクトリ（画像とラベル）からファイルを読み込みます。\n",
        "2. ファイル名に'bad'が含まれていないファイルをフィルタリングします。\n",
        "3. フィルタリングされたファイルを訓練用と検証用に分割します（デフォルトで80:20の比率）。\n",
        "4. 以下の構造で新しいディレクトリを作成し、ファイルをコピーします：\n",
        "   /content/drive/MyDrive/Deep_learning/Eyelid_segmentation/MOBIUS/YOLOv8_training/data/\n",
        "   ├── train/\n",
        "   │   ├── images/\n",
        "   │   └── labels/\n",
        "   │\n",
        "   ├── val/\n",
        "   │   ├── images/\n",
        "   │   └── labels/\n",
        "5. tqdmを使用して、ファイルコピーの進行状況を表示します。\n",
        "6. 処理されたファイル数を報告し、画像とラベルの数が一致しているか確認します。\n",
        "\n",
        "注意：\n",
        "- このスクリプトは既存のファイルを上書きします。実行前に出力ディレクトリの内容を確認してください。\n",
        "- 大量のファイルを扱う場合でも、tqdmにより進行状況を確認できます。\n",
        "\"\"\"\n",
        "\n",
        "import os\n",
        "import shutil\n",
        "from sklearn.model_selection import train_test_split\n",
        "from tqdm import tqdm\n",
        "\n",
        "def copy_files(src_dir, dest_dir, files):\n",
        "    os.makedirs(dest_dir, exist_ok=True)\n",
        "    for file in tqdm(files, desc=f\"Copying to {os.path.basename(dest_dir)}\", unit=\"file\"):\n",
        "        shutil.copy2(os.path.join(src_dir, file), dest_dir)\n",
        "\n",
        "def process_directory(src_dir, train_dir, val_dir, val_split=0.2):\n",
        "    print(f\"Processing directory: {src_dir}\")\n",
        "    files = [f for f in os.listdir(src_dir) if os.path.isfile(os.path.join(src_dir, f)) and 'bad' not in f.lower()]\n",
        "\n",
        "    train_files, val_files = train_test_split(files, test_size=val_split, random_state=42)\n",
        "\n",
        "    copy_files(src_dir, train_dir, train_files)\n",
        "    copy_files(src_dir, val_dir, val_files)\n",
        "\n",
        "    return len(train_files), len(val_files)\n",
        "\n",
        "# ベースディレクトリ\n",
        "base_dir = \"/content/drive/MyDrive/Deep_learning/Eyelid_segmentation/MOBIUS/YOLOv8_training\"\n",
        "\n",
        "# ソースディレクトリ\n",
        "src_images_dir = os.path.join(base_dir, \"images\")\n",
        "src_labels_dir = os.path.join(base_dir, \"labels\")\n",
        "\n",
        "# 出力ディレクトリ\n",
        "output_dir = os.path.join(base_dir, \"data\")\n",
        "\n",
        "# ディレクトリ構造の作成\n",
        "train_images_dir = os.path.join(output_dir, \"train\", \"images\")\n",
        "train_labels_dir = os.path.join(output_dir, \"train\", \"labels\")\n",
        "val_images_dir = os.path.join(output_dir, \"val\", \"images\")\n",
        "val_labels_dir = os.path.join(output_dir, \"val\", \"labels\")\n",
        "\n",
        "# ファイルの処理とコピー\n",
        "print(\"処理を開始します...\")\n",
        "train_images, val_images = process_directory(src_images_dir, train_images_dir, val_images_dir)\n",
        "train_labels, val_labels = process_directory(src_labels_dir, train_labels_dir, val_labels_dir)\n",
        "\n",
        "print(f\"\\n処理完了:\")\n",
        "print(f\"訓練用画像: {train_images}\")\n",
        "print(f\"検証用画像: {val_images}\")\n",
        "print(f\"訓練用ラベル: {train_labels}\")\n",
        "print(f\"検証用ラベル: {val_labels}\")\n",
        "\n",
        "if train_images == train_labels and val_images == val_labels:\n",
        "    print(\"画像とラベルの数が一致しています。\")\n",
        "else:\n",
        "    print(\"警告: 画像とラベルの数が一致していません。\")\n",
        "\n",
        "print(f\"\\n新しいデータセットの場所: {output_dir}\")"
      ],
      "metadata": {
        "id": "xAxxHqzpKMdd",
        "outputId": "1b24d244-900e-4a2c-c53f-0cc7e6a8af0b",
        "colab": {
          "base_uri": "https://localhost:8080/"
        }
      },
      "execution_count": 7,
      "outputs": [
        {
          "output_type": "stream",
          "name": "stdout",
          "text": [
            "処理を開始します...\n",
            "Processing directory: /content/drive/MyDrive/Deep_learning/Eyelid_segmentation/MOBIUS/YOLOv8_training/images\n"
          ]
        },
        {
          "output_type": "stream",
          "name": "stderr",
          "text": [
            "Copying to images: 100%|██████████| 2833/2833 [01:43<00:00, 27.26file/s]\n",
            "Copying to images: 100%|██████████| 709/709 [00:18<00:00, 39.15file/s]\n"
          ]
        },
        {
          "output_type": "stream",
          "name": "stdout",
          "text": [
            "Processing directory: /content/drive/MyDrive/Deep_learning/Eyelid_segmentation/MOBIUS/YOLOv8_training/labels\n"
          ]
        },
        {
          "output_type": "stream",
          "name": "stderr",
          "text": [
            "Copying to labels: 100%|██████████| 2833/2833 [02:11<00:00, 21.56file/s]\n",
            "Copying to labels: 100%|██████████| 709/709 [00:15<00:00, 45.35file/s]"
          ]
        },
        {
          "output_type": "stream",
          "name": "stdout",
          "text": [
            "\n",
            "処理完了:\n",
            "訓練用画像: 2833\n",
            "検証用画像: 709\n",
            "訓練用ラベル: 2833\n",
            "検証用ラベル: 709\n",
            "画像とラベルの数が一致しています。\n",
            "\n",
            "新しいデータセットの場所: /content/drive/MyDrive/Deep_learning/Eyelid_segmentation/MOBIUS/YOLOv8_training/filtered_data\n"
          ]
        },
        {
          "output_type": "stream",
          "name": "stderr",
          "text": [
            "\n"
          ]
        }
      ]
    },
    {
      "cell_type": "code",
      "source": [
        "\"\"\"\n",
        "このスクリプトは以下の処理を行います：\n",
        "\n",
        "1. 指定されたベースディレクトリ内の 'images' と 'labels' フォルダを削除します。\n",
        "2. 削除前にユーザーに確認を求めます。\n",
        "3. 削除処理の結果を報告します。\n",
        "\n",
        "注意：\n",
        "- このスクリプトは元のデータを完全に削除します。実行前に十分注意し、必要なデータのバックアップを確保してください。\n",
        "- 削除操作は取り消せません。確認プロンプトには慎重に回答してください。\n",
        "\"\"\"\n",
        "\n",
        "import os\n",
        "import shutil\n",
        "\n",
        "def remove_directory(dir_path):\n",
        "    try:\n",
        "        shutil.rmtree(dir_path)\n",
        "        print(f\"削除完了: {dir_path}\")\n",
        "    except Exception as e:\n",
        "        print(f\"エラー: {dir_path}の削除中に問題が発生しました。\\n{str(e)}\")\n",
        "\n",
        "# ベースディレクトリ\n",
        "base_dir = \"/content/drive/MyDrive/Deep_learning/Eyelid_segmentation/MOBIUS/YOLOv8_training\"\n",
        "\n",
        "# ソースディレクトリ\n",
        "src_images_dir = os.path.join(base_dir, \"images\")\n",
        "src_labels_dir = os.path.join(base_dir, \"labels\")\n",
        "\n",
        "print(f\"削除対象のディレクトリ:\")\n",
        "print(f\"1. {src_images_dir}\")\n",
        "print(f\"2. {src_labels_dir}\")\n",
        "\n",
        "# 削除の確認\n",
        "confirm = input(\"\\n上記のフォルダを削除しますか？ この操作は取り消せません。(y/n): \")\n",
        "\n",
        "if confirm.lower() == 'y':\n",
        "    remove_directory(src_images_dir)\n",
        "    remove_directory(src_labels_dir)\n",
        "    print(\"\\n指定されたフォルダの削除が完了しました。\")\n",
        "else:\n",
        "    print(\"\\n削除操作がキャンセルされました。フォルダは削除されていません。\")"
      ],
      "metadata": {
        "id": "XJCW3ha4KMfe",
        "outputId": "65c0687e-7f50-4f6a-bd92-0907b5e8869c",
        "colab": {
          "base_uri": "https://localhost:8080/"
        }
      },
      "execution_count": 8,
      "outputs": [
        {
          "output_type": "stream",
          "name": "stdout",
          "text": [
            "削除対象のディレクトリ:\n",
            "1. /content/drive/MyDrive/Deep_learning/Eyelid_segmentation/MOBIUS/YOLOv8_training/images\n",
            "2. /content/drive/MyDrive/Deep_learning/Eyelid_segmentation/MOBIUS/YOLOv8_training/labels\n",
            "\n",
            "上記のフォルダを削除しますか？ この操作は取り消せません。(y/n): y\n",
            "削除完了: /content/drive/MyDrive/Deep_learning/Eyelid_segmentation/MOBIUS/YOLOv8_training/images\n",
            "削除完了: /content/drive/MyDrive/Deep_learning/Eyelid_segmentation/MOBIUS/YOLOv8_training/labels\n",
            "\n",
            "指定されたフォルダの削除が完了しました。\n"
          ]
        }
      ]
    },
    {
      "cell_type": "code",
      "source": [],
      "metadata": {
        "id": "hDU1asQ-KMhd"
      },
      "execution_count": null,
      "outputs": []
    },
    {
      "cell_type": "markdown",
      "source": [
        "## [試作品段階のコード](https://colab.research.google.com/drive/16fyns7E-PEstRELygVeMyLE5gbmVhyPe#scrollTo=NYNAK-r12mPz)"
      ],
      "metadata": {
        "id": "Bid8nbRQ_fKI"
      }
    },
    {
      "cell_type": "markdown",
      "source": [
        "念のために共有します。"
      ],
      "metadata": {
        "id": "Lh8_-mEi_54J"
      }
    }
  ]
}