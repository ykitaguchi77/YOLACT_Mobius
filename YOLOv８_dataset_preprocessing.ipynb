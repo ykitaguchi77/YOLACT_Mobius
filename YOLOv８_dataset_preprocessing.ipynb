{
  "nbformat": 4,
  "nbformat_minor": 0,
  "metadata": {
    "colab": {
      "provenance": [],
      "authorship_tag": "ABX9TyPLyXbC/9by0PetftOtUixa",
      "include_colab_link": true
    },
    "kernelspec": {
      "name": "python3",
      "display_name": "Python 3"
    },
    "language_info": {
      "name": "python"
    }
  },
  "cells": [
    {
      "cell_type": "markdown",
      "metadata": {
        "id": "view-in-github",
        "colab_type": "text"
      },
      "source": [
        "<a href=\"https://colab.research.google.com/github/ykitaguchi77/YOLACT_Mobius/blob/main/YOLOv%EF%BC%98_dataset_preprocessing.ipynb\" target=\"_parent\"><img src=\"https://colab.research.google.com/assets/colab-badge.svg\" alt=\"Open In Colab\"/></a>"
      ]
    },
    {
      "cell_type": "markdown",
      "source": [
        "#**Mobius_dataset --> YOLOv8 instance segmentation training**\n",
        "\n",
        "2024研究室配属（鈴木くん、北口くん）\n",
        "\n",
        "```\n",
        "To do：\n",
        "\n",
        "Mobiusのマスク画像をYOLOv8形式のテキストファイルに\n",
        "\n",
        "マスク画像がない画像を除外\n",
        "\n",
        "YOLOv8用のフォルダ構成に\n",
        "```"
      ],
      "metadata": {
        "id": "UO-YiNInXIqU"
      }
    },
    {
      "cell_type": "code",
      "execution_count": 1,
      "metadata": {
        "colab": {
          "base_uri": "https://localhost:8080/"
        },
        "id": "WqgoOYBDXINA",
        "outputId": "ec62110f-2acf-437e-b3f6-edfa24554bba"
      },
      "outputs": [
        {
          "output_type": "stream",
          "name": "stdout",
          "text": [
            "Drive already mounted at /content/drive; to attempt to forcibly remount, call drive.mount(\"/content/drive\", force_remount=True).\n"
          ]
        }
      ],
      "source": [
        "from google.colab import drive\n",
        "drive.mount('/content/drive')"
      ]
    },
    {
      "cell_type": "markdown",
      "source": [
        "##**COCO_json形式への変換**"
      ],
      "metadata": {
        "id": "KyVVyl1QgCtQ"
      }
    },
    {
      "cell_type": "code",
      "source": [
        "import cv2\n",
        "import numpy as np\n",
        "import json\n",
        "from skimage import measure\n",
        "import os\n",
        "from google.colab import drive\n",
        "import matplotlib\n",
        "from matplotlib import pyplot as plt\n",
        "\n",
        "\n",
        "def create_mask(image, color):\n",
        "    return np.all(image == color, axis=-1)\n",
        "\n",
        "\n",
        "def apply_mask(image, mask):\n",
        "    return np.where(mask, 255, 0)\n",
        "\n",
        "\n",
        "def extract_contours(img, _num_points):\n",
        "    contours = measure.find_contours(img, 0.5)\n",
        "    points_list = []\n",
        "\n",
        "    for contour in contours:\n",
        "        contour_length = len(contour)\n",
        "\n",
        "        if contour_length > _num_points:\n",
        "            step = contour_length // _num_points\n",
        "            selected_points = [contour[i * step] for i in range(_num_points)]\n",
        "        else:\n",
        "            selected_points = contour\n",
        "\n",
        "        points = [[float(point[1]), float(point[0])] for point in selected_points]\n",
        "        points_list.append(points)\n",
        "\n",
        "    return points_list\n",
        "\n",
        "\n",
        "def create_json(points_list_blue, points_list_blue_green, points_list_all_colors, json_name, img_path, img_data, img_height, img_width):\n",
        "    data = {\n",
        "        \"version\": \"5.4.1\",\n",
        "        \"flags\": {},\n",
        "        \"shapes\": [],\n",
        "        \"imagePath\": img_path,\n",
        "        \"imageData\": img_data,\n",
        "        \"imageHeight\": img_height,\n",
        "        \"imageWidth\": img_width\n",
        "    }\n",
        "\n",
        "    data[\"shapes\"].append({\n",
        "        \"label\": \"eyelid\",\n",
        "        \"points\": points_list_all_colors,\n",
        "        \"group_id\": None,\n",
        "        \"description\": \"\",\n",
        "        \"shape_type\": \"polygon\",\n",
        "        \"flags\": {},\n",
        "        \"mask\": None\n",
        "    })\n",
        "\n",
        "    data[\"shapes\"].append({\n",
        "        \"label\": \"iris\",\n",
        "        \"points\": points_list_blue_green,\n",
        "        \"group_id\": None,\n",
        "        \"description\": \"\",\n",
        "        \"shape_type\": \"polygon\",\n",
        "        \"flags\": {},\n",
        "        \"mask\": None\n",
        "    })\n",
        "\n",
        "    data[\"shapes\"].append({\n",
        "        \"label\": \"pupil\",\n",
        "        \"points\": points_list_blue,\n",
        "        \"group_id\": None,\n",
        "        \"description\": \"\",\n",
        "        \"shape_type\": \"polygon\",\n",
        "        \"flags\": {},\n",
        "        \"mask\": None\n",
        "    })\n",
        "\n",
        "    with open(json_name, 'w') as fw:\n",
        "        json.dump(data, fw, indent=2)\n",
        "\n",
        "\n",
        "def main(mask_file, json_name):\n",
        "    img = cv2.imread(mask_file, cv2.IMREAD_COLOR)\n",
        "    img_height, img_width = img.shape[:2]\n",
        "\n",
        "    mask_blue = create_mask(img, [255, 0, 0])\n",
        "    mask_green = create_mask(img, [0, 255, 0])\n",
        "    mask_red = create_mask(img, [0, 0, 255])\n",
        "\n",
        "    mask_blue_green = np.logical_or(mask_blue, mask_green)\n",
        "    mask_all_colors = np.logical_or(mask_blue_green, mask_red)\n",
        "\n",
        "    img_blue = apply_mask(img, mask_blue)\n",
        "    img_blue_green = apply_mask(img, mask_blue_green)\n",
        "    img_all_colors = apply_mask(img, mask_all_colors)\n",
        "\n",
        "    points_list_blue = extract_contours(img_blue, num_points)\n",
        "    points_list_blue_green = extract_contours(img_blue_green, num_points)\n",
        "    points_list_all_colors = extract_contours(img_all_colors, num_points)\n",
        "\n",
        "    create_json(points_list_blue, points_list_blue_green, points_list_all_colors, json_name, mask_file, \"/9\", img_height, img_width)\n",
        "\n",
        "#マスクされた画像のパスを指定してください。\n",
        "mask_file = \"/content/drive/MyDrive/Deep_learning/YOLACT_Mobius_ocular_dataset/Sample_Mobius_dataset/masks/1/1_1i_Ll_1.png\"\n",
        "json_name = \"/content/output.json\"\n",
        "\n",
        "#輪郭点の個数を指定してください。\n",
        "num_points = 24\n",
        "\n",
        "if __name__ == '__main__':\n",
        "    main(mask_file, json_name)\n",
        "\n",
        "# 元画像と輪郭の比較\n",
        "matplotlib.rcParams['axes.unicode_minus'] = False\n",
        "with open('/content/output.json') as f:\n",
        "    data = json.load(f)\n",
        "\n",
        "points_eyelid = []\n",
        "points_iris = []\n",
        "points_pupil = []\n",
        "for shape in data['shapes']:\n",
        "    if shape['label'] == 'eyelid':\n",
        "        points_eyelid += shape['points'][0]\n",
        "    elif shape['label'] == 'iris':\n",
        "        points_iris += shape['points'][0]\n",
        "    elif shape['label'] == 'pupil':\n",
        "        points_pupil += shape['points'][0]\n",
        "\n",
        "\n",
        "x_eyelid = [point[0] for point in points_eyelid]\n",
        "y_eyelid = [point[1] for point in points_eyelid]\n",
        "\n",
        "x_iris = [point[0] for point in points_iris]\n",
        "y_iris = [point[1] for point in points_iris]\n",
        "\n",
        "x_pupil = [point[0] for point in points_pupil]\n",
        "y_pupil = [point[1] for point in points_pupil]\n",
        "\n",
        "# 元の画像を読み込む\n",
        "img_path = \"/content/drive/MyDrive/Deep_learning/YOLACT_Mobius_ocular_dataset/Sample_Mobius_dataset/images/1/1_1i_Ll_1.jpg\"\n",
        "img = cv2.imread(img_path, cv2.IMREAD_COLOR)\n",
        "img_rgb = cv2.cvtColor(img, cv2.COLOR_BGR2RGB)\n",
        "\n",
        "\n",
        "# 図の左隣に元の画像を表示する\n",
        "plt.subplot(1, 2, 1)\n",
        "plt.imshow(img_rgb)\n",
        "plt.title(\"original\")\n",
        "\n",
        "# 図の右隣に散布図を表示する\n",
        "plt.subplot(1, 2, 2)\n",
        "plt.scatter(x_eyelid, y_eyelid, label='eyelid')\n",
        "plt.scatter(x_iris, y_iris, label='iris')\n",
        "plt.scatter(x_pupil, y_pupil, label='pupil')\n",
        "plt.title(\"contour\")#輪郭\n",
        "\n",
        "# 縦横の縮尺を同じにする\n",
        "plt.axis('equal')\n",
        "\n",
        "# 縦軸を降順にする\n",
        "plt.gca().invert_yaxis()\n",
        "\n",
        "# 凡例を表示する\n",
        "plt.legend()\n",
        "\n",
        "# 図を表示する\n",
        "plt.show()\n",
        "\n"
      ],
      "metadata": {
        "colab": {
          "base_uri": "https://localhost:8080/",
          "height": 452
        },
        "id": "TrryMPq_aYmb",
        "outputId": "8560d58c-13bb-42bd-94d6-fbad5b3d2c76"
      },
      "execution_count": 2,
      "outputs": [
        {
          "output_type": "display_data",
          "data": {
            "text/plain": [
              "<Figure size 640x480 with 2 Axes>"
            ],
            "image/png": "[encoded data removed]"
          },
          "metadata": {}
        }
      ]
    },
    {
      "cell_type": "code",
      "source": [
        "#保存する場合(gdrive内にあたらしくフォルダを作ってコピー\n",
        "# os.makedirs('/content/drive/MyDrive/AI_laboratory_course/YOLACT_Mobius_ocular_dataset/json/ex', exist_ok=True)\n",
        "# !cp output.json /content/drive/MyDrive/AI_laboratory_course/YOLACT_Mobius_ocular_dataset/json/ex/"
      ],
      "metadata": {
        "id": "gnja4DgrYadD"
      },
      "execution_count": null,
      "outputs": []
    },
    {
      "cell_type": "code",
      "source": [
        "import os\n",
        "from tqdm import tqdm\n",
        "\n",
        "def process_images(mask_dir, output_json_dir, num_images=10):\n",
        "    if not os.path.exists(mask_dir):\n",
        "        raise FileNotFoundError(f\"The directory {mask_dir} does not exist.\")\n",
        "\n",
        "    if not os.path.exists(output_json_dir):\n",
        "        user_input = input(f\"The directory {json_dir} does not exist. Do you want to create it? (y/n): \")\n",
        "        if user_input.lower() == 'y':\n",
        "            os.makedirs(json_dir)\n",
        "            print(f\"Created directory {json_dir}\")\n",
        "        else:\n",
        "            print(\"Directory not created. Exiting the process.\")\n",
        "            return\n",
        "    # 画像ファイルの総数を取得\n",
        "    total_images = sum([len(files) for r, d, files in os.walk(mask_dir) if files])\n",
        "\n",
        "    # tqdmを使って進捗バーを初期化\n",
        "    with tqdm(total=min(total_images, num_images)) as pbar:\n",
        "        for folder in os.listdir(mask_dir):\n",
        "            folder_path = os.path.join(mask_dir, folder)\n",
        "            if not os.path.isdir(folder_path):\n",
        "                continue\n",
        "\n",
        "            output_folder = os.path.join(output_json_dir, folder)\n",
        "            os.makedirs(output_folder, exist_ok=True)\n",
        "\n",
        "            for filename in os.listdir(folder_path):\n",
        "                if filename.endswith(\".png\"):\n",
        "                    mask_file = os.path.join(folder_path, filename)\n",
        "                    json_name = os.path.join(output_folder, filename.replace(\".png\", \".json\"))\n",
        "\n",
        "                    # ここで各画像に対する処理を行う\n",
        "                    main(mask_file, json_name)\n",
        "\n",
        "                    pbar.update(1)  # 進捗バーを更新\n",
        "                    if pbar.n >= num_images:\n",
        "                        return  # 指定された数の画像を処理したら終了\n",
        "\n",
        "# 基本ディレクトリと出力ディレクトリの設定\n",
        "mask_dir = \"/content/drive/MyDrive/Deep_learning/YOLACT_Mobius_ocular_dataset/Sample_Mobius_dataset/masks\"\n",
        "output_json_dir = \"/content/output_json\""
      ],
      "metadata": {
        "id": "4Ps2mN9fYgFc"
      },
      "execution_count": 4,
      "outputs": []
    },
    {
      "cell_type": "code",
      "source": [
        "# 最初は10枚の画像でテスト\n",
        "process_images(mask_dir, output_json_dir, num_images=10)\n",
        "\n",
        "# 問題がなければ全画像に適用\n",
        "# process_images(base_dir, output_dir, num_images=float('inf'))"
      ],
      "metadata": {
        "id": "UOYhHI09YkwO",
        "colab": {
          "base_uri": "https://localhost:8080/"
        },
        "outputId": "405af0d3-4dd6-409d-847c-fc75e957ec86"
      },
      "execution_count": 5,
      "outputs": [
        {
          "output_type": "stream",
          "name": "stderr",
          "text": [
            "100%|██████████| 10/10 [00:10<00:00,  1.03s/it]\n"
          ]
        }
      ]
    },
    {
      "cell_type": "code",
      "source": [
        "import os\n",
        "import json\n",
        "from tqdm import tqdm\n",
        "\n",
        "def process_all_json_files(json_dir, num_images=10):\n",
        "    # JSONファイルの総数を取得\n",
        "    total_files = sum([len(files) for r, d, files in os.walk(json_dir) if files])\n",
        "\n",
        "    # tqdmを使って進捗バーを初期化\n",
        "    with tqdm(total=min(total_files, num_images)) as pbar:\n",
        "        for root, dirs, files in os.walk(json_dir):\n",
        "            for file in files:\n",
        "                if file.endswith(\".json\"):\n",
        "                    json_file_path = os.path.join(root, file)\n",
        "\n",
        "                    # JSONファイルを読み込み\n",
        "                    with open(json_file_path, 'r') as json_file:\n",
        "                        data = json.load(json_file)\n",
        "\n",
        "                    # imagePathの値をファイル名のみに更新\n",
        "                    data[\"imagePath\"] = os.path.basename(data[\"imagePath\"])\n",
        "\n",
        "                    # JSONファイルに変更を保存\n",
        "                    with open(json_file_path, 'w') as json_file:\n",
        "                        json.dump(data, json_file, indent=4)\n",
        "\n",
        "                    pbar.update(1)  # 進捗バーを更新\n",
        "                    if pbar.n >= num_images:\n",
        "                        return  # 指定された数のファイルを処理したら終了\n",
        "\n",
        "# JSONディレクトリのパス\n",
        "json_dir = \"/content/output_json\"\n",
        "\n",
        "# 最初は10個のファイルでテスト\n",
        "process_all_json_files(json_dir, num_images=10)\n",
        "\n",
        "# 問題がなければ、全ファイルに適用\n",
        "#process_all_json_files(json_dir, num_images=float('inf'))\n"
      ],
      "metadata": {
        "id": "j5n3-ew1YoeG",
        "colab": {
          "base_uri": "https://localhost:8080/"
        },
        "outputId": "bbb56274-f687-469a-a3d8-f62d7699dda1"
      },
      "execution_count": 6,
      "outputs": [
        {
          "output_type": "stream",
          "name": "stderr",
          "text": [
            "100%|██████████| 10/10 [00:00<00:00, 975.62it/s]\n"
          ]
        }
      ]
    },
    {
      "cell_type": "code",
      "source": [
        "# prompt: jsonフォルダ内のフォルダに入っている全てのファイルをバラバラの状態で一つ一つ、/content/drive/MyDrive/AI_laboratory_course/MOBIUS/json_concatにコピーを作成してください\n",
        "\n",
        "import os\n",
        "import shutil\n",
        "\n",
        "source_dir = \"/content/output_json\"\n",
        "target_dir = \"/content/concat_json\"\n",
        "\n",
        "# Create the directory if it doesn't exist\n",
        "if not os.path.exists(target_dir):\n",
        "    os.makedirs(target_dir)\n",
        "    print(f\"Directory '{target_dir}' was created.\")\n",
        "\n",
        "\n",
        "for folder in os.listdir(source_dir):\n",
        "    folder_path = os.path.join(source_dir, folder)\n",
        "    print(folder_path)\n",
        "    if os.path.isdir(folder_path):\n",
        "        for file in os.listdir(folder_path):\n",
        "            file_path = os.path.join(folder_path, file)\n",
        "            print(file_path)\n",
        "            shutil.copy(file_path, target_dir)"
      ],
      "metadata": {
        "id": "M_GmoOhbb-vY",
        "colab": {
          "base_uri": "https://localhost:8080/"
        },
        "outputId": "f8417c5f-1d28-4791-f02f-d1026e251287"
      },
      "execution_count": 16,
      "outputs": [
        {
          "output_type": "stream",
          "name": "stdout",
          "text": [
            "Directory '/content/concat_json' was created.\n",
            "/content/output_json/1\n",
            "/content/output_json/1/1_1i_Rs_1.json\n",
            "/content/output_json/1/1_2i_Ru_1.json\n",
            "/content/output_json/1/1_3i_Ls_1.json\n",
            "/content/output_json/1/1_2i_Ll_1.json\n",
            "/content/output_json/1/1_2n_Ll_2.json\n",
            "/content/output_json/1/1_3i_Lr_1.json\n",
            "/content/output_json/1/1_2n_Rl_1.json\n",
            "/content/output_json/1/1_1i_Rl_2.json\n",
            "/content/output_json/1/1_1n_Ru_2.json\n",
            "/content/output_json/1/1_1n_Rs_1.json\n",
            "/content/output_json/.ipynb_checkpoints\n"
          ]
        }
      ]
    },
    {
      "cell_type": "code",
      "source": [
        "from google.colab import drive\n",
        "drive.mount('/content/drive')\n",
        "\n",
        "!pip install labelme2coco\n",
        "import labelme2coco\n",
        "\n",
        "# LabelMeアノテーションと画像ファイルが含まれるディレクトリを設定\n",
        "labelme_folder = \"/content/drive/MyDrive/AI_laboratory_course/MOBIUS/concat_json\"\n",
        "\n",
        "# エクスポートするディレクトリを設定\n",
        "export_dir = \"/content/drive/MyDrive/AI_laboratory_course/MOBIUS/coco_format\"\n",
        "\n",
        "# トレーニングデータの分割率を設定\n",
        "train_split_rate = 0.85\n",
        "\n",
        "# LabelMeアノテーションをCOCO形式に変換\n",
        "labelme2coco.convert(labelme_folder, export_dir, train_split_rate)"
      ],
      "metadata": {
        "id": "HPR155zyca9P"
      },
      "execution_count": null,
      "outputs": []
    },
    {
      "cell_type": "markdown",
      "source": [
        "ネストを減らすコード"
      ],
      "metadata": {
        "id": "0cNyhbXsd4VD"
      }
    },
    {
      "cell_type": "code",
      "source": [
        "import json\n",
        "import os\n",
        "from tqdm import tqdm\n",
        "\n",
        "def convert_points_format(json_file_path):\n",
        "    with open(json_file_path, 'r') as file:\n",
        "        data = json.load(file)\n",
        "\n",
        "    for shape in data['shapes']:\n",
        "        # ネストを1レベル減らします\n",
        "        shape['points'] = [point[0] for point in shape['points']]\n",
        "\n",
        "    with open(json_file_path, 'w') as file:\n",
        "        json.dump(data, file, indent=4)\n",
        "\n",
        "# JSONファイルが保存されているディレクトリへのパス\n",
        "json_dir = \"/content/concat_json\"\n",
        "\n",
        "# JSONファイルの総数を取得\n",
        "total_files = sum([len(files) for r, d, files in os.walk(json_dir) if files])\n",
        "\n",
        "# ディレクトリ内の全てのJSONファイルに対して上記の関数を適用（tqdmを使用）\n",
        "with tqdm(total=total_files, desc=\"Converting JSON files\") as pbar:\n",
        "    for root, dirs, files in os.walk(json_dir):\n",
        "        for file in files:\n",
        "            if file.endswith(\".json\"):\n",
        "                json_file_path = os.path.join(root, file)\n",
        "                convert_points_format(json_file_path)\n",
        "                pbar.update(1)"
      ],
      "metadata": {
        "id": "6bt34wEeckLl"
      },
      "execution_count": null,
      "outputs": []
    },
    {
      "cell_type": "code",
      "source": [
        "from google.colab import drive\n",
        "drive.mount('/content/drive')\n",
        "\n",
        "!pip install labelme2coco\n",
        "import labelme2coco\n",
        "\n",
        "# LabelMeアノテーションと画像ファイルが含まれるディレクトリを設定\n",
        "labelme_folder = \"/content/drive/MyDrive/AI_laboratory_course/MOBIUS/ex_json\"\n",
        "\n",
        "# エクスポートするディレクトリを設定\n",
        "export_dir = \"/content/drive/MyDrive/AI_laboratory_course/MOBIUS/coco_format\"\n",
        "\n",
        "# トレーニングデータの分割率を設定\n",
        "train_split_rate = 0.85\n",
        "\n",
        "# LabelMeアノテーションをCOCO形式に変換\n",
        "labelme2coco.convert(labelme_folder, export_dir, train_split_rate)"
      ],
      "metadata": {
        "id": "7o4cleqje5-W"
      },
      "execution_count": null,
      "outputs": []
    },
    {
      "cell_type": "code",
      "source": [
        "# LabelMeアノテーションと画像ファイルが含まれるディレクトリを設定\n",
        "labelme_folder = \"/content/drive/MyDrive/AI_laboratory_course/MOBIUS/concat_json\"\n",
        "\n",
        "# エクスポートするディレクトリを設定\n",
        "export_dir = \"/content/drive/MyDrive/AI_laboratory_course/MOBIUS/coco_format\"\n",
        "\n",
        "# トレーニングデータの分割率を設定\n",
        "train_split_rate = 0.85\n",
        "\n",
        "# フォルダ内のファイルリストを取得\n",
        "file_list = os.listdir(labelme_folder)\n",
        "\n",
        "# 進捗バーを表示してLabelMeアノテーションをCOCO形式に変換\n",
        "for file_name in tqdm(file_list, desc=\"Converting to COCO\"):\n",
        "    if file_name.endswith('.json'):\n",
        "        json_file_path = os.path.join(labelme_folder, file_name)\n",
        "        labelme2coco.convert(json_file_path, export_dir, train_split_rate)\n",
        "\n",
        "print(\"Conversion complete.\")"
      ],
      "metadata": {
        "id": "ltTxIjdtfCr0"
      },
      "execution_count": null,
      "outputs": []
    },
    {
      "cell_type": "markdown",
      "source": [
        "##**YOLOv8形式のアノーテーションへの変換**"
      ],
      "metadata": {
        "id": "MuqoZneUf9Bm"
      }
    },
    {
      "cell_type": "code",
      "source": [
        "import cv2\n",
        "import numpy as np\n",
        "from skimage import measure\n",
        "import os\n",
        "from google.colab import drive\n",
        "import matplotlib\n",
        "from matplotlib import pyplot as plt\n",
        "\n",
        "def create_mask(image, color):\n",
        "    return np.all(image == color, axis=-1)\n",
        "\n",
        "def apply_mask(image, mask):\n",
        "    return np.where(mask, 255, 0)\n",
        "\n",
        "def extract_contours(img, _num_points):\n",
        "    contours = measure.find_contours(img, 0.5)\n",
        "    points_list = []\n",
        "\n",
        "    for contour in contours:\n",
        "        contour_length = len(contour)\n",
        "\n",
        "        if contour_length > _num_points:\n",
        "            step = contour_length // _num_points\n",
        "            selected_points = [contour[i * step] for i in range(_num_points)]\n",
        "        else:\n",
        "            selected_points = contour\n",
        "\n",
        "        points = [[float(point[1]), float(point[0])] for point in selected_points]\n",
        "        points_list.append(points)\n",
        "\n",
        "    return points_list\n",
        "\n",
        "def normalize_coordinates(points_list, img_width, img_height):\n",
        "    normalized_points_list = []\n",
        "    for points in points_list:\n",
        "        normalized_points = [[x / img_width, y / img_height] for x, y in points]\n",
        "        normalized_points_list.append(normalized_points)\n",
        "    return normalized_points_list\n",
        "\n",
        "def write_yolov8_annotation(points_list, class_index, img_width, img_height, file):\n",
        "    for points in points_list:\n",
        "        normalized_points = normalize_coordinates([points], img_width, img_height)[0]\n",
        "        line = f\"{class_index} \" + \" \".join(f\"{x} {y}\" for x, y in normalized_points) + \"\\n\"\n",
        "        file.write(line)\n",
        "\n",
        "def create_yolov8_text(mask_file, yolov8_annotation_file, num_points):\n",
        "    img = cv2.imread(mask_file, cv2.IMREAD_COLOR)\n",
        "    img_height, img_width = img.shape[:2]\n",
        "\n",
        "    mask_blue = create_mask(img, [255, 0, 0])\n",
        "    mask_green = create_mask(img, [0, 255, 0])\n",
        "    mask_red = create_mask(img, [0, 0, 255])\n",
        "\n",
        "    mask_blue_green = np.logical_or(mask_blue, mask_green)\n",
        "    mask_all_colors = np.logical_or(mask_blue_green, mask_red)\n",
        "\n",
        "    img_blue = apply_mask(img, mask_blue)\n",
        "    img_blue_green = apply_mask(img, mask_blue_green)\n",
        "    img_all_colors = apply_mask(img, mask_all_colors)\n",
        "\n",
        "    points_list_blue = extract_contours(img_blue, num_points)\n",
        "    points_list_blue_green = extract_contours(img_blue_green, num_points)\n",
        "    points_list_all_colors = extract_contours(img_all_colors, num_points)\n",
        "\n",
        "    with open(yolov8_annotation_file, 'w') as file:\n",
        "        # クラスインデックス 0: 瞼\n",
        "        write_yolov8_annotation(points_list_blue, 0, img_width, img_height, file)\n",
        "        # クラスインデックス 1: 虹彩\n",
        "        write_yolov8_annotation(points_list_blue_green, 1, img_width, img_height, file)\n",
        "        # クラスインデックス 2: 瞳\n",
        "        write_yolov8_annotation(points_list_all_colors, 2, img_width, img_height, file)\n",
        "\n",
        "mask_file = \"/content/drive/MyDrive/Deep_learning/YOLACT_Mobius_ocular_dataset/Sample_Mobius_dataset/masks_1/1_1i_Ll_1.png\"\n",
        "yolov8_annotation_file = \"/content/yolov8_annotation.txt\"\n",
        "num_points = 24\n",
        "\n",
        "create_yolov8_text(mask_file, yolov8_annotation_file, num_points)\n"
      ],
      "metadata": {
        "id": "mMMfQUGeb4-S"
      },
      "execution_count": null,
      "outputs": []
    },
    {
      "cell_type": "code",
      "source": [
        "# YOLOv8フォーマットの確認（imgへの重ね合わせ）\n",
        "import matplotlib.pyplot as plt\n",
        "import cv2\n",
        "\n",
        "def read_yolov8_annotation(file_path, img_width, img_height):\n",
        "    annotations = []\n",
        "    with open(file_path, 'r') as file:\n",
        "        for line in file:\n",
        "            parts = line.strip().split()\n",
        "            class_index = int(parts[0])\n",
        "            points = [(float(parts[i]), float(parts[i + 1])) for i in range(1, len(parts), 2)]\n",
        "            # 正規化解除\n",
        "            points = [(x * img_width, y * img_height) for x, y in points]\n",
        "            annotations.append((class_index, points))\n",
        "    return annotations\n",
        "\n",
        "def plot_annotations(img, annotations):\n",
        "    plt.imshow(img)\n",
        "    for class_index, points in annotations:\n",
        "        xs, ys = zip(*points)\n",
        "        plt.plot(xs, ys, marker='o', markersize=2, linestyle='-')\n",
        "\n",
        "    plt.title(\"YOLOv8 Annotations\")\n",
        "    plt.show()\n",
        "\n",
        "# YOLOv8 アノーテーションファイルのパス\n",
        "yolov8_annotation_file = \"/content/yolov8_annotation.txt\"\n",
        "\n",
        "# 元の画像のパス\n",
        "img_path = \"/content/drive/MyDrive/Deep_learning/YOLACT_Mobius_ocular_dataset/Sample_Mobius_dataset/images_1/1_1i_Ll_1.jpg\"\n",
        "img = cv2.imread(img_path)\n",
        "img = cv2.cvtColor(img, cv2.COLOR_BGR2RGB)\n",
        "img_height, img_width = img.shape[:2]\n",
        "\n",
        "# アノーテーションの読み込みとプロット\n",
        "annotations = read_yolov8_annotation(yolov8_annotation_file, img_width, img_height)\n",
        "plot_annotations(img, annotations)\n"
      ],
      "metadata": {
        "id": "9nvecdzgfnbG"
      },
      "execution_count": null,
      "outputs": []
    },
    {
      "cell_type": "code",
      "source": [
        "import os\n",
        "import glob\n",
        "\n",
        "images_dir = \"/content/drive/MyDrive/Deep_learning/YOLACT_Mobius_ocular_dataset/Sample_Mobius_dataset/images_1\"\n",
        "masks_dir = \"/content/drive/MyDrive/Deep_learning/YOLACT_Mobius_ocular_dataset/Sample_Mobius_dataset/masks_1\"\n",
        "num_points = 24\n",
        "\n",
        "filename_list = [os.path.splitext(f)[0] for f in os.listdir(images_dir) if os.path.isfile(os.path.join(images_dir, f))]\n",
        "\n",
        "for img in glob.glob(f\"{images_dir}/*\")[0:5]:\n",
        "    if os.path.splitext(os.path.basename(img))[0] in filename_list:\n",
        "        print(\"true\")\n",
        "        txt_name = f\"/content/{os.path.splitext(os.path.basename(img))[0]}\"\n",
        "        create_yolov8_text(img, txt_name, num_points)\n",
        "    else:\n",
        "        print(\"false\")"
      ],
      "metadata": {
        "id": "aoRJ4HLEj2zA"
      },
      "execution_count": null,
      "outputs": []
    },
    {
      "cell_type": "code",
      "source": [
        "#################\n",
        "# 北口くんの変換コード #\n",
        "#################\n",
        "from time import monotonic#多分いらない\n",
        "#本体は以下から\n",
        "from google.colab import drive\n",
        "drive.mount('/content/drive')\n",
        "#driveのマウント\n",
        "\n",
        "import os\n",
        "import json\n",
        "import numpy as np\n",
        "\n",
        "# jsonファイルの入っているフォルダのパスを指定\n",
        "folder_path = '/content/drive/MyDrive/json-20240205T053811Z-001/json/4'\n",
        "\n",
        "\n",
        "\n",
        "# フォルダ内の全ファイルにアクセス\n",
        "for filename in os.listdir(folder_path):\n",
        "    file_path = os.path.join(folder_path, filename)\n",
        "\n",
        "    # ファイルかどうかを確認\n",
        "    if os.path.isfile(file_path):\n",
        "        # ここでファイルに対する処理を行います\n",
        "        print(f'ファイル名: {filename}, ファイルパス: {file_path}')\n",
        "\n",
        "\n",
        "        with open(file_path,'r') as json_open:\n",
        "\n",
        "            json_load = json.load(json_open)\n",
        "            height = json_load['imageHeight']\n",
        "            width = json_load['imageWidth']\n",
        "            wh = np.array([width,height]) #割るための分母配列\n",
        "            # テキストファイルを作成し、テキストを書き込む\n",
        "            txtfile_name = f'{filename[:-5]}.txt'   #拡張子(.json)を削除\n",
        "            txtfile_path = os.path.join('/content/drive/MyDrive/textfile_for_v8/4', txtfile_name)  # ファイルの名前と保存先のパスを指定\n",
        "\n",
        "            for i in range(3):#eyelid,irys,pupilの三回分\n",
        "                points = [i for sublist in json_load['shapes'][i]['points'] for i in sublist]\n",
        "                pointsnp = np.array(points)\n",
        "                res = pointsnp/wh\n",
        "                monores = [element for row in res for element in row]#次元下げ\n",
        "\n",
        "                line = ' '.join(map(str, monores))\n",
        "\n",
        "\n",
        "                text_to_write = f'{i} {line}\\n'  #書く内容\n",
        "                with open(txtfile_path, 'a') as file:\n",
        "\n",
        "                    file.write(text_to_write)\n",
        "\n",
        "\n",
        "\n",
        "                print(f'{file_path} ファイルを作成しました。{points} {wh}')#不要"
      ],
      "metadata": {
        "id": "DpEJn4jjkhaj"
      },
      "execution_count": null,
      "outputs": []
    },
    {
      "cell_type": "markdown",
      "source": [
        "#**YOLOv8のtrain (鈴木くん)**"
      ],
      "metadata": {
        "id": "TLJPf1k1fTCi"
      }
    },
    {
      "cell_type": "code",
      "source": [
        "from google.colab import drive\n",
        "drive.mount('/content/drive')\n",
        "#driveのマウント"
      ],
      "metadata": {
        "id": "KoAmfvOeK_T-"
      },
      "execution_count": null,
      "outputs": []
    },
    {
      "cell_type": "code",
      "source": [
        "!git clone https://github.com/ultralytics/ultralytics\n",
        "%cd ultralytics\n",
        "#yolov8"
      ],
      "metadata": {
        "id": "PYuPV9j0fhVF"
      },
      "execution_count": null,
      "outputs": []
    },
    {
      "cell_type": "code",
      "source": [
        "!pip install -r requirements.\n",
        "#いらないかも"
      ],
      "metadata": {
        "id": "sCOSIAbyfkp4"
      },
      "execution_count": null,
      "outputs": []
    },
    {
      "cell_type": "code",
      "source": [
        "#本体\n",
        "from ultralytics import YOLO\n",
        "model = YOLO(\"yolov8x.pt\")"
      ],
      "metadata": {
        "id": "t_UKew5lfqUU"
      },
      "execution_count": null,
      "outputs": []
    },
    {
      "cell_type": "code",
      "source": [
        "results = model(\"https://ultralytics.com/images/bus.jpg\",save=True)\n",
        "#Results saved to /content/ultralytics/runs/detect/predictの下に保存される"
      ],
      "metadata": {
        "id": "eBHcgTsBgMRD"
      },
      "execution_count": null,
      "outputs": []
    },
    {
      "cell_type": "code",
      "source": [
        "model = YOLO(\"yolov8n-seg.pt\")\n",
        "results = model('bus.jpg',save=True,task='segment')#/content/ultralytics/bus.jpgを利用\n",
        "#Results saved to /content/ultralytics/runs/segment/predictの下に保存される"
      ],
      "metadata": {
        "id": "vg-GjTEKgew0"
      },
      "execution_count": null,
      "outputs": []
    },
    {
      "cell_type": "code",
      "source": [
        "#本体\n",
        "import shutil\n",
        "\n",
        "# コピー元ファイルのパス\n",
        "source_file_path = '/content/drive/MyDrive/eyeditect-1.yaml'\n",
        "\n",
        "# コピー先フォルダのパス\n",
        "destination_folder = '/content/ultralytics/ultralytics/cfg/datasets'\n",
        "\n",
        "# shutilモジュールのcopy関数を使用してファイルをコピー\n",
        "shutil.copy(source_file_path, destination_folder)"
      ],
      "metadata": {
        "id": "LCpXut8th0y1"
      },
      "execution_count": null,
      "outputs": []
    },
    {
      "cell_type": "code",
      "source": [
        "#本体\n",
        "#nc = 3に変更\n",
        "# Load a model\n",
        "model = YOLO('yolov8n-seg.yaml').load('yolov8n.pt')  # build from YAML and transfer weights"
      ],
      "metadata": {
        "id": "gE_MJLxNh1po"
      },
      "execution_count": null,
      "outputs": []
    },
    {
      "cell_type": "code",
      "source": [
        "result =  model.train(data='eyeditect-1.yaml', epochs=30, imgsz=640)"
      ],
      "metadata": {
        "id": "2BBtFTuGiJSS"
      },
      "execution_count": null,
      "outputs": []
    },
    {
      "cell_type": "markdown",
      "source": [
        "#**Inference trained model (鈴木くん)**"
      ],
      "metadata": {
        "id": "io6l7r-BiaIa"
      }
    },
    {
      "cell_type": "code",
      "source": [
        "#本体\n",
        "from ultralytics import YOLO\n",
        "# コンフィグは学習時と同じコンフィグでよい\n",
        "#model = YOLO(\"/Users/ryuka/workspace/Python/Image_AI/yolov8/ultralytics-main/ultralytics/cfg/models/v8/myyolov8.yaml\")  # build a new model from scratch\n",
        "\n",
        "# bestのモデルを使う,trainのウェイトのベストのパスを指定\n",
        "model = YOLO(\"/content/drive/MyDrive/3foldersbest.pt\")  # load a pretrained model (recommended for training)\n",
        "\n",
        "results = model(\"/content/drive/MyDrive/testset(patient)/先天性緑内障_2.jpg\",save=True)  # predict on an image"
      ],
      "metadata": {
        "id": "ZjwKVV7EifpJ"
      },
      "execution_count": null,
      "outputs": []
    },
    {
      "cell_type": "code",
      "source": [
        "result = results[0] #検出した結果をresultに格納\n",
        "idem=len(result.boxes) #検出したアイテムの数を出す\n",
        "print(idem)\n",
        "box = result.boxes[0] #検出したアイテムのNo.0のBoxの情報\n",
        "\n",
        "class_id = result.names[box.cls[0].item()]\n",
        "cords = box.xyxy[0].tolist()\n",
        "cords = [round(x) for x in cords]\n",
        "conf = round(box.conf[0].item(), 2)\n",
        "\n",
        "print(\"Object type:\", class_id)\n",
        "print(\"Coordinates:(四捨五入後の値)\", cords)\n",
        "print(\"Probability:\", conf)"
      ],
      "metadata": {
        "id": "tueGZQPdilmX"
      },
      "execution_count": null,
      "outputs": []
    },
    {
      "cell_type": "code",
      "source": [
        "result = results[0] #検出した結果をresultに格納\n",
        "idem=len(result.boxes) #検出したアイテムの数を出す\n",
        "print(idem)\n",
        "box = result.boxes[1] #検出したアイテムのNo.0のBoxの情報\n",
        "\n",
        "class_id = result.names[box.cls[0].item()]\n",
        "cords = box.xyxy[0].tolist()\n",
        "cords = [round(x) for x in cords]\n",
        "conf = round(box.conf[0].item(), 2)\n",
        "\n",
        "print(\"Object type:\", class_id)\n",
        "print(\"Coordinates:(四捨五入後の値)\", cords)\n",
        "print(\"Probability:\", conf)"
      ],
      "metadata": {
        "id": "xNWePP0Wip_f"
      },
      "execution_count": null,
      "outputs": []
    },
    {
      "cell_type": "code",
      "source": [
        "#本体\n",
        "result = results[0]\n",
        "itemnums = len(result.boxes)\n",
        "for i in range(itemnums):\n",
        "    box = result.boxes[i]\n",
        "    class_id = result.names[box.cls[0].item()]\n",
        "    cords = box.xyxy[0].tolist()\n",
        "    cords = [round(x) for x in cords]\n",
        "    if class_id == 'eyelid':\n",
        "        bunsi = cords[3]-cords[1]\n",
        "    elif class_id == 'iris':\n",
        "        bunbo = cords[2]-cords[0]\n",
        "ans = 1.2*bunsi/bunbo\n",
        "print('瞼裂径は{:.2f}'.format(ans),'㎝と予測されます！')"
      ],
      "metadata": {
        "id": "2BsigtPdiqlq"
      },
      "execution_count": null,
      "outputs": []
    },
    {
      "cell_type": "code",
      "source": [
        "from PIL import Image\n",
        "\n",
        "model =  YOLO('yolov8n-seg.pt')\n",
        "\n",
        "# Run inference on 'bus.jpg'\n",
        "results = model('/content/ultralytics/2019H-6_after_2.jpg')  # results list\n",
        "\n",
        "# Show the results\n",
        "for r in results:\n",
        "    im_array = r.plot(masks = True)  # plot a BGR numpy array of predictions\n",
        "    im = Image.fromarray(im_array[..., ::-1])  # RGB PIL image\n",
        "    im.show()  # show image\n",
        "    im.save('results2.jpg')  # save image"
      ],
      "metadata": {
        "id": "gVQK71xLiuHg"
      },
      "execution_count": null,
      "outputs": []
    }
  ]
}