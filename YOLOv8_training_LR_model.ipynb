{
  "nbformat": 4,
  "nbformat_minor": 0,
  "metadata": {
    "colab": {
      "provenance": [],
      "authorship_tag": "ABX9TyMO0BEfjfUvyio3MssJOOv3",
      "include_colab_link": true
    },
    "kernelspec": {
      "name": "python3",
      "display_name": "Python 3"
    },
    "language_info": {
      "name": "python"
    }
  },
  "cells": [
    {
      "cell_type": "markdown",
      "metadata": {
        "id": "view-in-github",
        "colab_type": "text"
      },
      "source": [
        "<a href=\"https://colab.research.google.com/github/ykitaguchi77/YOLACT_Mobius/blob/main/YOLOv8_training_LR_model.ipynb\" target=\"_parent\"><img src=\"https://colab.research.google.com/assets/colab-badge.svg\" alt=\"Open In Colab\"/></a>"
      ]
    },
    {
      "cell_type": "markdown",
      "source": [
        "#**Mobius YOLO8 training (左右判定あり)**\n",
        "\n",
        "```\n",
        "# Classes\n",
        "names:\n",
        "  0: eyelid_R\n",
        "  1: iris_R\n",
        "  2: pupil_R\n",
        "  3: eyelid_L\n",
        "  4: iris_L\n",
        "  5: pupil_L\n",
        "```"
      ],
      "metadata": {
        "id": "ea9PTEhEBYS3"
      }
    },
    {
      "cell_type": "code",
      "execution_count": null,
      "metadata": {
        "colab": {
          "base_uri": "https://localhost:8080/"
        },
        "id": "HgSyOVaKBUuU",
        "outputId": "fd3c87b5-f978-450a-ad52-cf65ba551d56"
      },
      "outputs": [
        {
          "output_type": "stream",
          "name": "stdout",
          "text": [
            "Mounted at /content/drive\n"
          ]
        }
      ],
      "source": [
        "#@title #ライブラリのインストール\n",
        "#@markdown [shift]+[Enter]を押して起動してください\n",
        "from google.colab import drive\n",
        "drive.mount('/content/drive')\n",
        "import os\n",
        "import cv2\n",
        "import numpy as np\n",
        "import matplotlib.pyplot as plt\n",
        "from skimage import measure\n",
        "import json\n",
        "from tqdm import tqdm  # tqdmをインポート\n",
        "import os\n",
        "import matplotlib"
      ]
    },
    {
      "cell_type": "code",
      "source": [
        "#@title #ディレクトリと座標の個数\n",
        "#@markdown 指定を終えてから、[shift]+[Enter]を押して起動してください。\n",
        "#@markdown <br> 学習に適切な個数が分からなかったので、変更できるようにしました。\n",
        "\n",
        "# 入力ディレクトリと出力ディレクトリを指定してください\n",
        "input_dir = \"/content/drive/MyDrive/Deep_learning/Eyelid_segmentation/MOBIUS/Masks/1\"\n",
        "output_dir = \"/content\"\n",
        "\n",
        "# eyelid, iris, pupilごとに座標の個数を指定してください。\n",
        "num_points_eyelid = 24\n",
        "num_points_iris = 16\n",
        "num_points_pupil = 12"
      ],
      "metadata": {
        "id": "aRa3aGKrB26Q"
      },
      "execution_count": null,
      "outputs": []
    },
    {
      "cell_type": "code",
      "source": [
        "#@title #Mobius to label起動\n",
        "#@markdown 　[shift]+[Enter]を押して起動してください。\n",
        "#@markdown　<br>うまくいっていないラベルも存在するので、目視で確認して除外すべきかもしれません。\n",
        "def create_mask(image, color):\n",
        "    return np.all(image == color, axis=-1)\n",
        "\n",
        "def apply_mask(image, mask):\n",
        "    return np.where(mask, 255, 0)\n",
        "\n",
        "def extract_contours(img, _num_points):\n",
        "    contours = measure.find_contours(img, 0.5)\n",
        "    points_list = []\n",
        "\n",
        "    for contour in contours:\n",
        "        contour_length = len(contour)\n",
        "\n",
        "        if contour_length > _num_points:\n",
        "            step = contour_length // _num_points\n",
        "            selected_points = [contour[i * step] for i in range(_num_points)]\n",
        "        else:\n",
        "            selected_points = contour\n",
        "\n",
        "        points = [[float(point[1]), float(point[0])] for point in selected_points]\n",
        "        points_list.append(points)\n",
        "\n",
        "    return points_list\n",
        "\n",
        "def create_custom_output(points_list_blue, points_list_blue_green, points_list_all_colors, img_width, img_height, output_file):\n",
        "    with open(output_file, 'w') as f:\n",
        "        # 0: eyelid\n",
        "        f.write(\"0 \")\n",
        "        for point in points_list_all_colors[0]:\n",
        "            x = point[0] / img_width\n",
        "            y = point[1] / img_height\n",
        "            f.write(f\"{x} {y} \")\n",
        "        f.write(\"\\n\")\n",
        "\n",
        "        # 1: iris\n",
        "        f.write(\"1 \")\n",
        "        for point in points_list_blue_green[0]:\n",
        "            x = point[0] / img_width\n",
        "            y = point[1] / img_height\n",
        "            f.write(f\"{x} {y} \")\n",
        "        f.write(\"\\n\")\n",
        "\n",
        "        # 2: pupil\n",
        "        f.write(\"2 \")\n",
        "        for point in points_list_blue[0]:\n",
        "            x = point[0] / img_width\n",
        "            y = point[1] / img_height\n",
        "            f.write(f\"{x} {y} \")\n",
        "        f.write(\"\\n\")\n",
        "\n",
        "def process_image(mask_file, output_dir, num_points_eyelid, num_points_iris, num_points_pupil):\n",
        "    img = cv2.imread(mask_file, cv2.IMREAD_COLOR)\n",
        "    img_height, img_width = img.shape[:2]\n",
        "\n",
        "    mask_blue = create_mask(img, [255, 0, 0])\n",
        "    mask_green = create_mask(img, [0, 255, 0])\n",
        "    mask_red = create_mask(img, [0, 0, 255])\n",
        "\n",
        "    mask_blue_green = np.logical_or(mask_blue, mask_green)\n",
        "    mask_all_colors = np.logical_or(mask_blue_green, mask_red)\n",
        "\n",
        "    img_blue = apply_mask(img, mask_blue)\n",
        "    img_blue_green = apply_mask(img, mask_blue_green)\n",
        "    img_all_colors = apply_mask(img, mask_all_colors)\n",
        "\n",
        "    # 各ラベルごとに異なる個数の座標を抽出\n",
        "    points_list_blue = extract_contours(img_blue, num_points_pupil)\n",
        "    points_list_blue_green = extract_contours(img_blue_green, num_points_iris)\n",
        "    points_list_all_colors = extract_contours(img_all_colors, num_points_eyelid)\n",
        "\n",
        "    # 出力先ディレクトリとファイル名を設定\n",
        "    base_name = os.path.splitext(os.path.basename(mask_file))[0]\n",
        "    output_file = os.path.join(output_dir, base_name + \".txt\")\n",
        "\n",
        "    # カスタム出力\n",
        "    create_custom_output(points_list_blue, points_list_blue_green, points_list_all_colors, img_width, img_height, output_file)\n",
        "\n",
        "    # 書き換え部分\n",
        "    x_eyelid = [point[0] for point in points_list_all_colors[0]]\n",
        "    y_eyelid = [point[1] for point in points_list_all_colors[0]]\n",
        "\n",
        "    x_iris = [point[0] for point in points_list_blue_green[0]]\n",
        "    y_iris = [point[1] for point in points_list_blue_green[0]]\n",
        "\n",
        "    x_pupil = [point[0] for point in points_list_blue[0]]\n",
        "    y_pupil = [point[1] for point in points_list_blue[0]]\n",
        "\n",
        "    # 元の画像を読み込む\n",
        "    img_path = mask_file.replace(\"Masks\", \"Images\").replace(\".png\", \".jpg\")\n",
        "    img = cv2.imread(img_path, cv2.IMREAD_COLOR)\n",
        "\n",
        "    # プロット作成\n",
        "    plt.figure(figsize=(12, 6))\n",
        "\n",
        "    # 左側に元の画像を表示\n",
        "    plt.subplot(1, 2, 1)\n",
        "    plt.imshow(cv2.cvtColor(img, cv2.COLOR_BGR2RGB))\n",
        "    plt.title(base_name)  # ファイル名をタイトルに設定\n",
        "\n",
        "    # 右側に散布図を表示\n",
        "    plt.subplot(1, 2, 2)\n",
        "    plt.scatter(x_eyelid, y_eyelid, label='eyelid', color='blue')\n",
        "    plt.scatter(x_iris, y_iris, label='iris', color='green')\n",
        "    plt.scatter(x_pupil, y_pupil, label='pupil', color='red')\n",
        "    plt.title(\"Contours\")  # 輪郭\n",
        "\n",
        "    # 軸を画像の大きさに合わせて調整\n",
        "    plt.xlim([0, img_width])\n",
        "    plt.ylim([img_height, 0])  # Y軸の反転\n",
        "\n",
        "    # 縦横の比率を保つ\n",
        "    plt.gca().set_aspect('equal', adjustable='box')\n",
        "\n",
        "    # 凡例を表示する\n",
        "    plt.legend()\n",
        "\n",
        "    # レイアウトを調整して表示\n",
        "    plt.tight_layout()\n",
        "    plt.show()\n",
        "\n",
        "\n",
        "\n",
        "\n",
        "\n",
        "def process_all_images_in_directory(input_dir, output_dir, num_points_eyelid, num_points_iris, num_points_pupil):\n",
        "    # 入力ディレクトリ内のすべての.pngファイルを処理\n",
        "    png_files = [file_name for file_name in os.listdir(input_dir) if file_name.endswith(\".png\")]\n",
        "\n",
        "    # tqdmを使って進行状況を表示\n",
        "    for file_name in tqdm(png_files, desc=\"Processing images\"):\n",
        "        mask_file = os.path.join(input_dir, file_name)\n",
        "        process_image(mask_file, output_dir, num_points_eyelid, num_points_iris, num_points_pupil)\n",
        "\n",
        "\n",
        "\n",
        "if __name__ == '__main__':\n",
        "    process_all_images_in_directory(input_dir, output_dir, num_points_eyelid, num_points_iris, num_points_pupil)\n"
      ],
      "metadata": {
        "id": "571fRkiGCY-Y"
      },
      "execution_count": null,
      "outputs": []
    },
    {
      "cell_type": "code",
      "source": [],
      "metadata": {
        "id": "P3ptXI24DsTP"
      },
      "execution_count": null,
      "outputs": []
    },
    {
      "cell_type": "code",
      "source": [],
      "metadata": {
        "id": "YGGodlvVDsUm"
      },
      "execution_count": null,
      "outputs": []
    },
    {
      "cell_type": "code",
      "source": [
        "#@title 画像名からRLを抜き出し\n",
        "import os\n",
        "\n",
        "filename = \"/21_1p_Ru_2.jpg\"\n",
        "basename = os.path.basename(filename)\n",
        "name_without_extension = os.path.splitext(basename)[0]  # 拡張子を除去\n",
        "\n",
        "parts = name_without_extension.split('_')\n",
        "print(parts)\n",
        "if len(parts) >= 2:\n",
        "    relevant_part = parts[2]  # 2番目の部分（インデックス1）を取得\n",
        "    first_char = relevant_part[0] if relevant_part else None\n",
        "\n",
        "    if first_char in ['R', 'L']:\n",
        "        print(first_char)\n",
        "    else:\n",
        "        print(\"RまたはLで始まる部分が見つかりませんでした。\")\n",
        "else:\n",
        "    print(\"ファイル名の形式が期待通りではありません。\")"
      ],
      "metadata": {
        "colab": {
          "base_uri": "https://localhost:8080/"
        },
        "id": "ZNrVhkCqDsZU",
        "outputId": "f0923511-5294-4e88-eadd-368e120b550a"
      },
      "execution_count": null,
      "outputs": [
        {
          "output_type": "stream",
          "name": "stdout",
          "text": [
            "['21', '1p', 'Ru', '2']\n",
            "R\n"
          ]
        }
      ]
    },
    {
      "cell_type": "code",
      "source": [],
      "metadata": {
        "id": "S3RJ5OB3D7Zi"
      },
      "execution_count": null,
      "outputs": []
    }
  ]
}