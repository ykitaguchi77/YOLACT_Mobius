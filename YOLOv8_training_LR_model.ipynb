{
  "nbformat": 4,
  "nbformat_minor": 0,
  "metadata": {
    "colab": {
      "provenance": [],
      "authorship_tag": "ABX9TyOCiUmtW5UrjRer2aA6VyHF",
      "include_colab_link": true
    },
    "kernelspec": {
      "name": "python3",
      "display_name": "Python 3"
    },
    "language_info": {
      "name": "python"
    }
  },
  "cells": [
    {
      "cell_type": "markdown",
      "metadata": {
        "id": "view-in-github",
        "colab_type": "text"
      },
      "source": [
        "<a href=\"https://colab.research.google.com/github/ykitaguchi77/YOLACT_Mobius/blob/main/YOLOv8_training_LR_model.ipynb\" target=\"_parent\"><img src=\"https://colab.research.google.com/assets/colab-badge.svg\" alt=\"Open In Colab\"/></a>"
      ]
    },
    {
      "cell_type": "markdown",
      "source": [
        "#**Mobius YOLO8 training (左右判定あり)**\n",
        "\n",
        "```\n",
        "# Classes\n",
        "names:\n",
        "  0: eyelid_R\n",
        "  1: iris_R\n",
        "  2: pupil_R\n",
        "  3: eyelid_L\n",
        "  4: iris_L\n",
        "  5: pupil_L\n",
        "```"
      ],
      "metadata": {
        "id": "ea9PTEhEBYS3"
      }
    },
    {
      "cell_type": "code",
      "execution_count": 12,
      "metadata": {
        "colab": {
          "base_uri": "https://localhost:8080/"
        },
        "id": "HgSyOVaKBUuU",
        "outputId": "8d4bb23c-f1e2-4e79-dc93-9827ae64190b"
      },
      "outputs": [
        {
          "output_type": "stream",
          "name": "stdout",
          "text": [
            "Drive already mounted at /content/drive; to attempt to forcibly remount, call drive.mount(\"/content/drive\", force_remount=True).\n"
          ]
        }
      ],
      "source": [
        "#@title #ライブラリのインストール\n",
        "#@markdown [shift]+[Enter]を押して起動してください\n",
        "from google.colab import drive\n",
        "drive.mount('/content/drive')\n",
        "import os\n",
        "import cv2\n",
        "import numpy as np\n",
        "import matplotlib.pyplot as plt\n",
        "from skimage import measure\n",
        "import json\n",
        "from tqdm import tqdm  # tqdmをインポート\n",
        "import os\n",
        "import matplotlib"
      ]
    },
    {
      "cell_type": "code",
      "source": [
        "#@title #ディレクトリと座標の個数\n",
        "#@markdown 指定を終えてから、[shift]+[Enter]を押して起動してください。\n",
        "#@markdown <br> 学習に適切な個数が分からなかったので、変更できるようにしました。\n",
        "\n",
        "# 入力ディレクトリと出力ディレクトリを指定してください\n",
        "input_dir = \"/content/drive/MyDrive/Deep_learning/Eyelid_segmentation/MOBIUS/Masks/1\"\n",
        "output_dir = \"/content\"\n",
        "\n",
        "# eyelid, iris, pupilごとに座標の個数を指定してください。\n",
        "num_points_eyelid = 24\n",
        "num_points_iris = 16\n",
        "num_points_pupil = 12"
      ],
      "metadata": {
        "id": "aRa3aGKrB26Q"
      },
      "execution_count": null,
      "outputs": []
    },
    {
      "cell_type": "code",
      "source": [
        "#@title #Mobius to label起動\n",
        "#@markdown 　[shift]+[Enter]を押して起動してください。\n",
        "#@markdown　<br>うまくいっていないラベルも存在するので、目視で確認して除外すべきかもしれません。\n",
        "def create_mask(image, color):\n",
        "    return np.all(image == color, axis=-1)\n",
        "\n",
        "def apply_mask(image, mask):\n",
        "    return np.where(mask, 255, 0)\n",
        "\n",
        "def extract_contours(img, _num_points):\n",
        "    contours = measure.find_contours(img, 0.5)\n",
        "    points_list = []\n",
        "\n",
        "    for contour in contours:\n",
        "        contour_length = len(contour)\n",
        "\n",
        "        if contour_length > _num_points:\n",
        "            step = contour_length // _num_points\n",
        "            selected_points = [contour[i * step] for i in range(_num_points)]\n",
        "        else:\n",
        "            selected_points = contour\n",
        "\n",
        "        points = [[float(point[1]), float(point[0])] for point in selected_points]\n",
        "        points_list.append(points)\n",
        "\n",
        "    return points_list\n",
        "\n",
        "def create_custom_output(points_list_blue, points_list_blue_green, points_list_all_colors, img_width, img_height, output_file):\n",
        "    with open(output_file, 'w') as f:\n",
        "        # 0: eyelid\n",
        "        f.write(\"0 \")\n",
        "        for point in points_list_all_colors[0]:\n",
        "            x = point[0] / img_width\n",
        "            y = point[1] / img_height\n",
        "            f.write(f\"{x} {y} \")\n",
        "        f.write(\"\\n\")\n",
        "\n",
        "        # 1: iris\n",
        "        f.write(\"1 \")\n",
        "        for point in points_list_blue_green[0]:\n",
        "            x = point[0] / img_width\n",
        "            y = point[1] / img_height\n",
        "            f.write(f\"{x} {y} \")\n",
        "        f.write(\"\\n\")\n",
        "\n",
        "        # 2: pupil\n",
        "        f.write(\"2 \")\n",
        "        for point in points_list_blue[0]:\n",
        "            x = point[0] / img_width\n",
        "            y = point[1] / img_height\n",
        "            f.write(f\"{x} {y} \")\n",
        "        f.write(\"\\n\")\n",
        "\n",
        "def process_image(mask_file, output_dir, num_points_eyelid, num_points_iris, num_points_pupil):\n",
        "    img = cv2.imread(mask_file, cv2.IMREAD_COLOR)\n",
        "    img_height, img_width = img.shape[:2]\n",
        "\n",
        "    mask_blue = create_mask(img, [255, 0, 0])\n",
        "    mask_green = create_mask(img, [0, 255, 0])\n",
        "    mask_red = create_mask(img, [0, 0, 255])\n",
        "\n",
        "    mask_blue_green = np.logical_or(mask_blue, mask_green)\n",
        "    mask_all_colors = np.logical_or(mask_blue_green, mask_red)\n",
        "\n",
        "    img_blue = apply_mask(img, mask_blue)\n",
        "    img_blue_green = apply_mask(img, mask_blue_green)\n",
        "    img_all_colors = apply_mask(img, mask_all_colors)\n",
        "\n",
        "    # 各ラベルごとに異なる個数の座標を抽出\n",
        "    points_list_blue = extract_contours(img_blue, num_points_pupil)\n",
        "    points_list_blue_green = extract_contours(img_blue_green, num_points_iris)\n",
        "    points_list_all_colors = extract_contours(img_all_colors, num_points_eyelid)\n",
        "\n",
        "    # 出力先ディレクトリとファイル名を設定\n",
        "    base_name = os.path.splitext(os.path.basename(mask_file))[0]\n",
        "    output_file = os.path.join(output_dir, base_name + \".txt\")\n",
        "\n",
        "    # カスタム出力\n",
        "    create_custom_output(points_list_blue, points_list_blue_green, points_list_all_colors, img_width, img_height, output_file)\n",
        "\n",
        "    # 書き換え部分\n",
        "    x_eyelid = [point[0] for point in points_list_all_colors[0]]\n",
        "    y_eyelid = [point[1] for point in points_list_all_colors[0]]\n",
        "\n",
        "    x_iris = [point[0] for point in points_list_blue_green[0]]\n",
        "    y_iris = [point[1] for point in points_list_blue_green[0]]\n",
        "\n",
        "    x_pupil = [point[0] for point in points_list_blue[0]]\n",
        "    y_pupil = [point[1] for point in points_list_blue[0]]\n",
        "\n",
        "    # 元の画像を読み込む\n",
        "    img_path = mask_file.replace(\"Masks\", \"Images\").replace(\".png\", \".jpg\")\n",
        "    img = cv2.imread(img_path, cv2.IMREAD_COLOR)\n",
        "\n",
        "    # プロット作成\n",
        "    plt.figure(figsize=(12, 6))\n",
        "\n",
        "    # 左側に元の画像を表示\n",
        "    plt.subplot(1, 2, 1)\n",
        "    plt.imshow(cv2.cvtColor(img, cv2.COLOR_BGR2RGB))\n",
        "    plt.title(base_name)  # ファイル名をタイトルに設定\n",
        "\n",
        "    # 右側に散布図を表示\n",
        "    plt.subplot(1, 2, 2)\n",
        "    plt.scatter(x_eyelid, y_eyelid, label='eyelid', color='blue')\n",
        "    plt.scatter(x_iris, y_iris, label='iris', color='green')\n",
        "    plt.scatter(x_pupil, y_pupil, label='pupil', color='red')\n",
        "    plt.title(\"Contours\")  # 輪郭\n",
        "\n",
        "    # 軸を画像の大きさに合わせて調整\n",
        "    plt.xlim([0, img_width])\n",
        "    plt.ylim([img_height, 0])  # Y軸の反転\n",
        "\n",
        "    # 縦横の比率を保つ\n",
        "    plt.gca().set_aspect('equal', adjustable='box')\n",
        "\n",
        "    # 凡例を表示する\n",
        "    plt.legend()\n",
        "\n",
        "    # レイアウトを調整して表示\n",
        "    plt.tight_layout()\n",
        "    plt.show()\n",
        "\n",
        "\n",
        "\n",
        "\n",
        "\n",
        "def process_all_images_in_directory(input_dir, output_dir, num_points_eyelid, num_points_iris, num_points_pupil):\n",
        "    # 入力ディレクトリ内のすべての.pngファイルを処理\n",
        "    png_files = [file_name for file_name in os.listdir(input_dir) if file_name.endswith(\".png\")]\n",
        "\n",
        "    # tqdmを使って進行状況を表示\n",
        "    for file_name in tqdm(png_files, desc=\"Processing images\"):\n",
        "        mask_file = os.path.join(input_dir, file_name)\n",
        "        process_image(mask_file, output_dir, num_points_eyelid, num_points_iris, num_points_pupil)\n",
        "\n",
        "\n",
        "\n",
        "if __name__ == '__main__':\n",
        "    process_all_images_in_directory(input_dir, output_dir, num_points_eyelid, num_points_iris, num_points_pupil)\n"
      ],
      "metadata": {
        "id": "571fRkiGCY-Y"
      },
      "execution_count": null,
      "outputs": []
    },
    {
      "cell_type": "code",
      "source": [],
      "metadata": {
        "id": "P3ptXI24DsTP"
      },
      "execution_count": null,
      "outputs": []
    },
    {
      "cell_type": "code",
      "source": [
        "#@title #**Mobius mask to label (LR version)**\n",
        "import os\n",
        "import cv2\n",
        "import numpy as np\n",
        "from skimage import measure\n",
        "import matplotlib.pyplot as plt\n",
        "from tqdm import tqdm\n",
        "\n",
        "def create_mask(image, color):\n",
        "    return np.all(image == color, axis=-1)\n",
        "\n",
        "def apply_mask(image, mask):\n",
        "    return np.where(mask, 255, 0)\n",
        "\n",
        "def extract_contours(img, _num_points):\n",
        "    contours = measure.find_contours(img, 0.5)\n",
        "    points_list = []\n",
        "\n",
        "    for contour in contours:\n",
        "        contour_length = len(contour)\n",
        "\n",
        "        if contour_length > _num_points:\n",
        "            step = contour_length // _num_points\n",
        "            selected_points = [contour[i * step] for i in range(_num_points)]\n",
        "        else:\n",
        "            selected_points = contour\n",
        "\n",
        "        points = [[float(point[1]), float(point[0])] for point in selected_points]\n",
        "        points_list.append(points)\n",
        "\n",
        "    return points_list\n",
        "\n",
        "def get_eye_side(filename):\n",
        "    basename = os.path.basename(filename)\n",
        "    name_without_extension = os.path.splitext(basename)[0]\n",
        "    parts = name_without_extension.split('_')\n",
        "\n",
        "    if len(parts) >= 3:\n",
        "        relevant_part = parts[2]\n",
        "        first_char = relevant_part[0] if relevant_part else None\n",
        "\n",
        "        if first_char in ['R', 'L']:\n",
        "            return first_char\n",
        "\n",
        "    return None\n",
        "\n",
        "def create_custom_output(points_list_blue, points_list_blue_green, points_list_all_colors, img_width, img_height, output_file, eye_side):\n",
        "    with open(output_file, 'w') as f:\n",
        "        # eyelid\n",
        "        label = \"0\" if eye_side == 'R' else \"3\"\n",
        "        f.write(f\"{label} \")\n",
        "        for point in points_list_all_colors[0]:\n",
        "            x = point[0] / img_width\n",
        "            y = point[1] / img_height\n",
        "            f.write(f\"{x} {y} \")\n",
        "        f.write(\"\\n\")\n",
        "\n",
        "        # iris\n",
        "        label = \"1\" if eye_side == 'R' else \"4\"\n",
        "        f.write(f\"{label} \")\n",
        "        for point in points_list_blue_green[0]:\n",
        "            x = point[0] / img_width\n",
        "            y = point[1] / img_height\n",
        "            f.write(f\"{x} {y} \")\n",
        "        f.write(\"\\n\")\n",
        "\n",
        "        # pupil\n",
        "        label = \"2\" if eye_side == 'R' else \"5\"\n",
        "        f.write(f\"{label} \")\n",
        "        for point in points_list_blue[0]:\n",
        "            x = point[0] / img_width\n",
        "            y = point[1] / img_height\n",
        "            f.write(f\"{x} {y} \")\n",
        "        f.write(\"\\n\")\n",
        "\n",
        "def process_image(mask_file, output_dir, num_points_eyelid, num_points_iris, num_points_pupil):\n",
        "    img = cv2.imread(mask_file, cv2.IMREAD_COLOR)\n",
        "    img_height, img_width = img.shape[:2]\n",
        "\n",
        "    mask_blue = create_mask(img, [255, 0, 0])\n",
        "    mask_green = create_mask(img, [0, 255, 0])\n",
        "    mask_red = create_mask(img, [0, 0, 255])\n",
        "\n",
        "    mask_blue_green = np.logical_or(mask_blue, mask_green)\n",
        "    mask_all_colors = np.logical_or(mask_blue_green, mask_red)\n",
        "\n",
        "    img_blue = apply_mask(img, mask_blue)\n",
        "    img_blue_green = apply_mask(img, mask_blue_green)\n",
        "    img_all_colors = apply_mask(img, mask_all_colors)\n",
        "\n",
        "    points_list_blue = extract_contours(img_blue, num_points_pupil)\n",
        "    points_list_blue_green = extract_contours(img_blue_green, num_points_iris)\n",
        "    points_list_all_colors = extract_contours(img_all_colors, num_points_eyelid)\n",
        "\n",
        "    base_name = os.path.splitext(os.path.basename(mask_file))[0]\n",
        "    output_file = os.path.join(output_dir, base_name + \".txt\")\n",
        "\n",
        "    eye_side = get_eye_side(mask_file)\n",
        "    if eye_side is None:\n",
        "        print(f\"Warning: Could not determine eye side for {mask_file}\")\n",
        "        eye_side = 'R'  # Default to right eye if unable to determine\n",
        "\n",
        "    create_custom_output(points_list_blue, points_list_blue_green, points_list_all_colors, img_width, img_height, output_file, eye_side)\n",
        "\n",
        "    # Visualization\n",
        "    x_eyelid = [point[0] for point in points_list_all_colors[0]]\n",
        "    y_eyelid = [point[1] for point in points_list_all_colors[0]]\n",
        "    x_iris = [point[0] for point in points_list_blue_green[0]]\n",
        "    y_iris = [point[1] for point in points_list_blue_green[0]]\n",
        "    x_pupil = [point[0] for point in points_list_blue[0]]\n",
        "    y_pupil = [point[1] for point in points_list_blue[0]]\n",
        "\n",
        "    img_path = mask_file.replace(\"Masks\", \"Images\").replace(\".png\", \".jpg\")\n",
        "    img = cv2.imread(img_path, cv2.IMREAD_COLOR)\n",
        "\n",
        "    plt.figure(figsize=(12, 6))\n",
        "    plt.subplot(1, 2, 1)\n",
        "    plt.imshow(cv2.cvtColor(img, cv2.COLOR_BGR2RGB))\n",
        "    plt.title(base_name)\n",
        "\n",
        "    plt.subplot(1, 2, 2)\n",
        "    plt.scatter(x_eyelid, y_eyelid, label='eyelid', color='blue')\n",
        "    plt.scatter(x_iris, y_iris, label='iris', color='green')\n",
        "    plt.scatter(x_pupil, y_pupil, label='pupil', color='red')\n",
        "    plt.title(\"Contours\")\n",
        "\n",
        "    plt.xlim([0, img_width])\n",
        "    plt.ylim([img_height, 0])\n",
        "    plt.gca().set_aspect('equal', adjustable='box')\n",
        "    plt.legend()\n",
        "    plt.tight_layout()\n",
        "    plt.show()\n",
        "\n",
        "def process_all_images_in_directory(input_dir, output_dir, num_points_eyelid, num_points_iris, num_points_pupil):\n",
        "    os.makedirs(output_dir, exist_ok=True)\n",
        "    png_files = [file_name for file_name in os.listdir(input_dir) if file_name.endswith(\".png\")]\n",
        "\n",
        "    for file_name in tqdm(png_files, desc=\"Processing images\"):\n",
        "        mask_file = os.path.join(input_dir, file_name)\n",
        "        process_image(mask_file, output_dir, num_points_eyelid, num_points_iris, num_points_pupil)\n",
        "\n",
        "if __name__ == '__main__':\n",
        "    # Configuration\n",
        "    input_dir = \"/content/drive/MyDrive/Deep_learning/Eyelid_segmentation/MOBIUS/Masks/1\"\n",
        "    output_dir = \"/content\"\n",
        "\n",
        "    num_points_eyelid = 24\n",
        "    num_points_iris = 16\n",
        "    num_points_pupil = 12\n",
        "\n",
        "    # Process all images\n",
        "    process_all_images_in_directory(input_dir, output_dir, num_points_eyelid, num_points_iris, num_points_pupil)\n",
        "\n",
        "    print(f\"Processing complete. Output files are saved in: {output_dir}\")"
      ],
      "metadata": {
        "id": "AdqqUbWuT2VC"
      },
      "execution_count": null,
      "outputs": []
    },
    {
      "cell_type": "markdown",
      "source": [
        "#**YOLOv8 instance segmentation training**"
      ],
      "metadata": {
        "id": "IxynDPUbAs7N"
      }
    },
    {
      "cell_type": "code",
      "source": [
        "\"\"\"\n",
        "project/\n",
        "│\n",
        "├── data/\n",
        "│   ├── train/\n",
        "│   │   ├── images/\n",
        "│   │   └── labels/\n",
        "│   │\n",
        "│   ├── val/\n",
        "│   │   ├── images/\n",
        "│   │   └── labels/\n",
        "│   │\n",
        "│   └── test/  (オプション)\n",
        "│       ├── images/\n",
        "│       └── labels/\n",
        "│\n",
        "│\n",
        "├── dataset.yaml\n",
        "│\n",
        "├── models/\n",
        "│\n",
        "└── runs/  (トレーニング結果が保存される)\n",
        "\"\"\""
      ],
      "metadata": {
        "id": "qtd5flc-Acph"
      },
      "execution_count": null,
      "outputs": []
    },
    {
      "cell_type": "markdown",
      "source": [
        "###**Create dataset**"
      ],
      "metadata": {
        "id": "1wsaMK4gFbuL"
      }
    },
    {
      "cell_type": "code",
      "source": [
        "\"\"\"\n",
        "このスクリプトは、Mobiusデータセットの画像とマスクをYOLOv8形式に変換します。\n",
        "\n",
        "主な機能：\n",
        "1. Masksディレクトリ内の全てのマスク画像を処理（フォルダ番号順）\n",
        "2. 各マスクに対応するYOLOv8形式のラベルファイルを生成\n",
        "3. 対応する前眼部画像を指定された出力ディレクトリにコピー\n",
        "4. 処理中に画像とマスクのプロットを表示\n",
        "5. tqdmを使用して処理の進捗を表示\n",
        "6. 開始フォルダを指定可能\n",
        "\n",
        "入力ディレクトリ構造：\n",
        "- Masks: /content/drive/MyDrive/Deep_learning/Eyelid_segmentation/MOBIUS/Masks/\n",
        "  - 1/\n",
        "  - 2/\n",
        "  ...\n",
        "  - 35/\n",
        "- Images: /content/drive/MyDrive/Deep_learning/Eyelid_segmentation/MOBIUS/Images/\n",
        "  - 1/\n",
        "  - 2/\n",
        "  ...\n",
        "  - 35/\n",
        "\n",
        "出力ディレクトリ構造：\n",
        "- Labels: /content/drive/MyDrive/Deep_learning/Eyelid_segmentation/MOBIUS/YOLOv8_training_LR/labels/\n",
        "- Images: /content/drive/MyDrive/Deep_learning/Eyelid_segmentation/MOBIUS/YOLOv8_training_LR/images/\n",
        "\n",
        "注意：\n",
        "- 出力ディレクトリが存在しない場合は自動的に作成されます\n",
        "- マスクの色に基づいて、瞼（赤）、虹彩（緑）、瞳孔（青）を識別します\n",
        "- 各部位の座標点の数は変数で設定可能です（デフォルト：瞼24点、虹彩16点、瞳孔12点）\n",
        "- フォルダは番号順に処理されます\n",
        "- 開始フォルダ番号を指定できます\n",
        "- 左右の目を識別し、それぞれに異なるラベルを割り当てます（右目：0,1,2、左目：3,4,5）\n",
        "\"\"\"\n",
        "\n",
        "\n",
        "import os\n",
        "import cv2\n",
        "import numpy as np\n",
        "from skimage import measure\n",
        "import matplotlib.pyplot as plt\n",
        "from tqdm import tqdm\n",
        "import shutil\n",
        "\n",
        "def create_mask(image, color):\n",
        "    return np.all(image == color, axis=-1)\n",
        "\n",
        "def apply_mask(image, mask):\n",
        "    return np.where(mask, 255, 0)\n",
        "\n",
        "def extract_contours(img, _num_points):\n",
        "    contours = measure.find_contours(img, 0.5)\n",
        "    points_list = []\n",
        "\n",
        "    for contour in contours:\n",
        "        contour_length = len(contour)\n",
        "\n",
        "        if contour_length > _num_points:\n",
        "            step = contour_length // _num_points\n",
        "            selected_points = [contour[i * step] for i in range(_num_points)]\n",
        "        else:\n",
        "            selected_points = contour\n",
        "\n",
        "        points = [[float(point[1]), float(point[0])] for point in selected_points]\n",
        "        points_list.append(points)\n",
        "\n",
        "    return points_list\n",
        "\n",
        "def get_eye_side(filename):\n",
        "    basename = os.path.basename(filename)\n",
        "    name_without_extension = os.path.splitext(basename)[0]\n",
        "    parts = name_without_extension.split('_')\n",
        "\n",
        "    if len(parts) >= 3:\n",
        "        relevant_part = parts[2]\n",
        "        first_char = relevant_part[0] if relevant_part else None\n",
        "\n",
        "        if first_char in ['R', 'L']:\n",
        "            return first_char\n",
        "\n",
        "    return None\n",
        "\n",
        "def create_custom_output(points_list_blue, points_list_blue_green, points_list_all_colors, img_width, img_height, output_file, eye_side):\n",
        "    with open(output_file, 'w') as f:\n",
        "        # eyelid\n",
        "        label = \"0\" if eye_side == 'R' else \"3\"\n",
        "        f.write(f\"{label} \")\n",
        "        for point in points_list_all_colors[0]:\n",
        "            x = point[0] / img_width\n",
        "            y = point[1] / img_height\n",
        "            f.write(f\"{x:.6f} {y:.6f} \")\n",
        "        f.write(\"\\n\")\n",
        "\n",
        "        # iris\n",
        "        label = \"1\" if eye_side == 'R' else \"4\"\n",
        "        f.write(f\"{label} \")\n",
        "        for point in points_list_blue_green[0]:\n",
        "            x = point[0] / img_width\n",
        "            y = point[1] / img_height\n",
        "            f.write(f\"{x:.6f} {y:.6f} \")\n",
        "        f.write(\"\\n\")\n",
        "\n",
        "        # pupil\n",
        "        label = \"2\" if eye_side == 'R' else \"5\"\n",
        "        f.write(f\"{label} \")\n",
        "        for point in points_list_blue[0]:\n",
        "            x = point[0] / img_width\n",
        "            y = point[1] / img_height\n",
        "            f.write(f\"{x:.6f} {y:.6f} \")\n",
        "        f.write(\"\\n\")\n",
        "\n",
        "def process_image(mask_file, images_dir, output_labels_dir, output_images_dir, num_points_eyelid, num_points_iris, num_points_pupil):\n",
        "    img = cv2.imread(mask_file, cv2.IMREAD_COLOR)\n",
        "    img_height, img_width = img.shape[:2]\n",
        "\n",
        "    mask_blue = create_mask(img, [255, 0, 0])\n",
        "    mask_green = create_mask(img, [0, 255, 0])\n",
        "    mask_red = create_mask(img, [0, 0, 255])\n",
        "\n",
        "    mask_blue_green = np.logical_or(mask_blue, mask_green)\n",
        "    mask_all_colors = np.logical_or(mask_blue_green, mask_red)\n",
        "\n",
        "    img_blue = apply_mask(img, mask_blue)\n",
        "    img_blue_green = apply_mask(img, mask_blue_green)\n",
        "    img_all_colors = apply_mask(img, mask_all_colors)\n",
        "\n",
        "    points_list_blue = extract_contours(img_blue, num_points_pupil)\n",
        "    points_list_blue_green = extract_contours(img_blue_green, num_points_iris)\n",
        "    points_list_all_colors = extract_contours(img_all_colors, num_points_eyelid)\n",
        "\n",
        "    base_name = os.path.splitext(os.path.basename(mask_file))[0]\n",
        "    output_file = os.path.join(output_labels_dir, base_name + \".txt\")\n",
        "\n",
        "    eye_side = get_eye_side(mask_file)\n",
        "    if eye_side is None:\n",
        "        print(f\"Warning: Could not determine eye side for {mask_file}\")\n",
        "        eye_side = 'R'  # Default to right eye if unable to determine\n",
        "\n",
        "    create_custom_output(points_list_blue, points_list_blue_green, points_list_all_colors, img_width, img_height, output_file, eye_side)\n",
        "\n",
        "    # Copy corresponding image\n",
        "    folder_number = os.path.basename(os.path.dirname(mask_file))\n",
        "    image_path = os.path.join(images_dir, folder_number, base_name + \".jpg\")\n",
        "    if os.path.exists(image_path):\n",
        "        shutil.copy(image_path, output_images_dir)\n",
        "    else:\n",
        "        print(f\"Warning: Corresponding image not found for {base_name}\")\n",
        "\n",
        "def process_all_images_in_directory(masks_dir, images_dir, output_labels_dir, output_images_dir, num_points_eyelid, num_points_iris, num_points_pupil, start_folder):\n",
        "    def folder_num(name):\n",
        "        try:\n",
        "            return int(name)\n",
        "        except ValueError:\n",
        "            return float('inf')\n",
        "\n",
        "    folders = sorted([f for f in os.listdir(masks_dir) if os.path.isdir(os.path.join(masks_dir, f))], key=folder_num)\n",
        "\n",
        "    start_index = folders.index(str(start_folder)) if str(start_folder) in folders else 0\n",
        "    folders = folders[start_index:]\n",
        "\n",
        "    for folder_name in folders:\n",
        "        folder_path = os.path.join(masks_dir, folder_name)\n",
        "        png_files = [file_name for file_name in os.listdir(folder_path) if file_name.endswith(\".png\")]\n",
        "        for file_name in tqdm(png_files, desc=f\"Processing folder {folder_name}\"):\n",
        "            mask_file = os.path.join(folder_path, file_name)\n",
        "            process_image(mask_file, images_dir, output_labels_dir, output_images_dir, num_points_eyelid, num_points_iris, num_points_pupil)\n",
        "\n",
        "if __name__ == '__main__':\n",
        "    masks_dir = \"/content/drive/MyDrive/Deep_learning/Eyelid_segmentation/MOBIUS/Masks\"\n",
        "    images_dir = \"/content/drive/MyDrive/Deep_learning/Eyelid_segmentation/MOBIUS/Images\"\n",
        "    output_labels_dir = \"/content/drive/MyDrive/Deep_learning/Eyelid_segmentation/MOBIUS/YOLOv8_training_LR/labels\"\n",
        "    output_images_dir = \"/content/drive/MyDrive/Deep_learning/Eyelid_segmentation/MOBIUS/YOLOv8_training_LR/images\"\n",
        "\n",
        "    os.makedirs(output_labels_dir, exist_ok=True)\n",
        "    os.makedirs(output_images_dir, exist_ok=True)\n",
        "\n",
        "    num_points_eyelid = 24\n",
        "    num_points_iris = 16\n",
        "    num_points_pupil = 12\n",
        "\n",
        "    start_folder = 0\n",
        "\n",
        "    process_all_images_in_directory(masks_dir, images_dir, output_labels_dir, output_images_dir, num_points_eyelid, num_points_iris, num_points_pupil, start_folder)"
      ],
      "metadata": {
        "colab": {
          "base_uri": "https://localhost:8080/"
        },
        "id": "opHBjqp8BWRT",
        "outputId": "1cf30387-4465-47ed-ff57-cc76d8483ab9"
      },
      "execution_count": null,
      "outputs": [
        {
          "output_type": "stream",
          "name": "stderr",
          "text": [
            "Processing folder 1: 100%|██████████| 144/144 [04:07<00:00,  1.72s/it]\n",
            "Processing folder 2: 100%|██████████| 144/144 [04:23<00:00,  1.83s/it]\n",
            "Processing folder 3: 100%|██████████| 140/140 [04:20<00:00,  1.86s/it]\n",
            "Processing folder 4: 100%|██████████| 95/95 [03:51<00:00,  2.44s/it]\n",
            "Processing folder 5: 100%|██████████| 143/143 [04:29<00:00,  1.88s/it]\n",
            "Processing folder 6: 100%|██████████| 48/48 [01:59<00:00,  2.50s/it]\n",
            "Processing folder 7: 100%|██████████| 142/142 [04:21<00:00,  1.84s/it]\n",
            "Processing folder 8: 100%|██████████| 143/143 [04:11<00:00,  1.76s/it]\n",
            "Processing folder 9: 100%|██████████| 96/96 [03:50<00:00,  2.40s/it]\n",
            "Processing folder 10: 100%|██████████| 48/48 [01:43<00:00,  2.17s/it]\n",
            "Processing folder 11: 100%|██████████| 144/144 [04:13<00:00,  1.76s/it]\n",
            "Processing folder 12: 100%|██████████| 96/96 [03:34<00:00,  2.23s/it]\n",
            "Processing folder 13: 100%|██████████| 159/159 [04:21<00:00,  1.65s/it]\n",
            "Processing folder 14: 100%|██████████| 144/144 [03:51<00:00,  1.61s/it]\n",
            "Processing folder 15: 100%|██████████| 48/48 [01:43<00:00,  2.16s/it]\n",
            "Processing folder 16: 100%|██████████| 96/96 [03:36<00:00,  2.25s/it]\n",
            "Processing folder 17: 100%|██████████| 126/126 [03:41<00:00,  1.76s/it]\n",
            "Processing folder 18: 100%|██████████| 119/119 [03:27<00:00,  1.74s/it]\n",
            "Processing folder 19: 100%|██████████| 139/139 [03:56<00:00,  1.70s/it]\n",
            "Processing folder 20: 100%|██████████| 48/48 [01:51<00:00,  2.31s/it]\n",
            "Processing folder 21: 100%|██████████| 144/144 [04:05<00:00,  1.71s/it]\n",
            "Processing folder 22: 100%|██████████| 48/48 [01:43<00:00,  2.15s/it]\n",
            "Processing folder 23: 100%|██████████| 48/48 [01:48<00:00,  2.26s/it]\n",
            "Processing folder 24: 100%|██████████| 143/143 [04:10<00:00,  1.75s/it]\n",
            "Processing folder 25: 100%|██████████| 144/144 [03:49<00:00,  1.59s/it]\n",
            "Processing folder 26: 100%|██████████| 144/144 [04:02<00:00,  1.69s/it]\n",
            "Processing folder 27: 100%|██████████| 48/48 [01:46<00:00,  2.21s/it]\n",
            "Processing folder 28: 100%|██████████| 48/48 [01:38<00:00,  2.06s/it]\n",
            "Processing folder 29: 100%|██████████| 47/47 [01:41<00:00,  2.16s/it]\n",
            "Processing folder 30: 100%|██████████| 48/48 [01:46<00:00,  2.21s/it]\n",
            "Processing folder 31: 100%|██████████| 143/143 [04:08<00:00,  1.74s/it]\n",
            "Processing folder 32: 100%|██████████| 96/96 [03:38<00:00,  2.27s/it]\n",
            "Processing folder 33: 100%|██████████| 48/48 [01:45<00:00,  2.20s/it]\n",
            "Processing folder 34: 100%|██████████| 50/50 [01:50<00:00,  2.21s/it]\n",
            "Processing folder 35: 100%|██████████| 98/98 [03:35<00:00,  2.20s/it]\n"
          ]
        }
      ]
    },
    {
      "cell_type": "markdown",
      "source": [
        "### 形式を調整"
      ],
      "metadata": {
        "id": "5MFC9K8KFaO0"
      }
    },
    {
      "cell_type": "code",
      "source": [
        "### 枚数の確認\n",
        "\n",
        "import os\n",
        "\n",
        "def count_files(directory, include_bad=False):\n",
        "    total_count = 0\n",
        "    bad_count = 0\n",
        "    for name in os.listdir(directory):\n",
        "        if os.path.isfile(os.path.join(directory, name)):\n",
        "            total_count += 1\n",
        "            if 'bad' in name.lower():\n",
        "                bad_count += 1\n",
        "    return total_count, bad_count\n",
        "\n",
        "# ディレクトリパス\n",
        "labels_dir = \"/content/drive/MyDrive/Deep_learning/Eyelid_segmentation/MOBIUS/YOLOv8_training_LR/labels/\"\n",
        "images_dir = \"/content/drive/MyDrive/Deep_learning/Eyelid_segmentation/MOBIUS/YOLOv8_training_LR/images/\"\n",
        "\n",
        "# ファイル数をカウント\n",
        "labels_total, labels_bad = count_files(labels_dir)\n",
        "images_total, images_bad = count_files(images_dir)\n",
        "\n",
        "print(f\"ラベルファイル総数: {labels_total}\")\n",
        "print(f\"'bad'を含むラベルファイル数: {labels_bad}\")\n",
        "print(f\"画像ファイル総数: {images_total}\")\n",
        "print(f\"'bad'を含む画像ファイル数: {images_bad}\")\n",
        "\n",
        "if labels_total == images_total:\n",
        "    print(\"ラベルと画像の総数が一致しています。\")\n",
        "else:\n",
        "    print(\"警告: ラベルと画像の総数が一致していません。\")\n",
        "\n",
        "if labels_bad == images_bad:\n",
        "    print(\"'bad'を含むラベルと画像の数が一致しています。\")\n",
        "else:\n",
        "    print(\"警告: 'bad'を含むラベルと画像の数が一致していません。\")"
      ],
      "metadata": {
        "id": "kc_-qakfC158",
        "colab": {
          "base_uri": "https://localhost:8080/"
        },
        "outputId": "86e30f7d-6313-47be-8ef6-8ceb5d3eb8d8"
      },
      "execution_count": 13,
      "outputs": [
        {
          "output_type": "stream",
          "name": "stdout",
          "text": [
            "ラベルファイル総数: 3559\n",
            "'bad'を含むラベルファイル数: 17\n",
            "画像ファイル総数: 3559\n",
            "'bad'を含む画像ファイル数: 17\n",
            "ラベルと画像の総数が一致しています。\n",
            "'bad'を含むラベルと画像の数が一致しています。\n"
          ]
        }
      ]
    },
    {
      "cell_type": "code",
      "source": [
        "\"\"\"\n",
        "このスクリプトは以下の処理を行います：\n",
        "\n",
        "1. 指定されたソースディレクトリ（画像とラベル）からファイルを読み込みます。\n",
        "2. ファイル名に'bad'が含まれていないファイルをフィルタリングします。\n",
        "3. フィルタリングされたファイルを訓練用と検証用に分割します（デフォルトで80:20の比率）。\n",
        "4. 以下の新しい構造でディレクトリを作成し、ファイルをコピーします：\n",
        "   /content/drive/MyDrive/Deep_learning/Eyelid_segmentation/MOBIUS/YOLOv8_training_LR/data/\n",
        "   ├── images/\n",
        "   │   ├── train/\n",
        "   │   └── val/\n",
        "   └── labels/\n",
        "       ├── train/\n",
        "       └── val/\n",
        "5. tqdmを使用して、ファイルコピーの進行状況を表示します。\n",
        "6. 処理されたファイル数を報告し、画像とラベルの数が一致しているか確認します。\n",
        "\n",
        "注意：\n",
        "- このスクリプトは既存のファイルを上書きします。実行前に出力ディレクトリの内容を確認してください。\n",
        "- 大量のファイルを扱う場合でも、tqdmにより進行状況を確認できます。\n",
        "\"\"\"\n",
        "\n",
        "import os\n",
        "import shutil\n",
        "from sklearn.model_selection import train_test_split\n",
        "from tqdm import tqdm\n",
        "\n",
        "def copy_files(src_dir, dest_dir, files):\n",
        "    os.makedirs(dest_dir, exist_ok=True)\n",
        "    for file in tqdm(files, desc=f\"Copying to {os.path.basename(dest_dir)}\", unit=\"file\"):\n",
        "        shutil.copy2(os.path.join(src_dir, file), dest_dir)\n",
        "\n",
        "def process_directory(src_dir, train_dir, val_dir, val_split=0.2):\n",
        "    print(f\"処理中のディレクトリ: {src_dir}\")\n",
        "    files = [f for f in os.listdir(src_dir) if os.path.isfile(os.path.join(src_dir, f)) and 'bad' not in f.lower()]\n",
        "\n",
        "    train_files, val_files = train_test_split(files, test_size=val_split, random_state=42)\n",
        "\n",
        "    copy_files(src_dir, train_dir, train_files)\n",
        "    copy_files(src_dir, val_dir, val_files)\n",
        "\n",
        "    return len(train_files), len(val_files)\n",
        "\n",
        "# ベースディレクトリ\n",
        "base_dir = \"/content/drive/MyDrive/Deep_learning/Eyelid_segmentation/MOBIUS/YOLOv8_training_LR\"\n",
        "\n",
        "# ソースディレクトリ\n",
        "src_images_dir = os.path.join(base_dir, \"images\")\n",
        "src_labels_dir = os.path.join(base_dir, \"labels\")\n",
        "\n",
        "# 新しい出力ディレクトリ構造\n",
        "output_dir = os.path.join(base_dir, \"data\")\n",
        "images_dir = os.path.join(output_dir, \"images\")\n",
        "labels_dir = os.path.join(output_dir, \"labels\")\n",
        "\n",
        "# 新しいディレクトリ構造の作成\n",
        "train_images_dir = os.path.join(images_dir, \"train\")\n",
        "val_images_dir = os.path.join(images_dir, \"val\")\n",
        "train_labels_dir = os.path.join(labels_dir, \"train\")\n",
        "val_labels_dir = os.path.join(labels_dir, \"val\")\n",
        "\n",
        "# ファイルの処理とコピー\n",
        "print(\"処理を開始します...\")\n",
        "train_images, val_images = process_directory(src_images_dir, train_images_dir, val_images_dir)\n",
        "train_labels, val_labels = process_directory(src_labels_dir, train_labels_dir, val_labels_dir)\n",
        "\n",
        "print(f\"\\n処理完了:\")\n",
        "print(f\"訓練用画像: {train_images}\")\n",
        "print(f\"検証用画像: {val_images}\")\n",
        "print(f\"訓練用ラベル: {train_labels}\")\n",
        "print(f\"検証用ラベル: {val_labels}\")\n",
        "\n",
        "if train_images == train_labels and val_images == val_labels:\n",
        "    print(\"画像とラベルの数が一致しています。\")\n",
        "else:\n",
        "    print(\"警告: 画像とラベルの数が一致していません。\")\n",
        "\n",
        "print(f\"\\n新しいデータセットの場所: {output_dir}\")\n",
        "print(\"新しいディレクトリ構造:\")\n",
        "print(f\"{output_dir}/\")\n",
        "print(\"├── images/\")\n",
        "print(\"│   ├── train/\")\n",
        "print(\"│   └── val/\")\n",
        "print(\"└── labels/\")\n",
        "print(\"    ├── train/\")\n",
        "print(\"    └── val/\")"
      ],
      "metadata": {
        "id": "hDNy8929Ftxa",
        "colab": {
          "base_uri": "https://localhost:8080/"
        },
        "outputId": "e531715f-42c6-4cc1-97fe-50cb978ca440"
      },
      "execution_count": 14,
      "outputs": [
        {
          "output_type": "stream",
          "name": "stdout",
          "text": [
            "処理を開始します...\n",
            "処理中のディレクトリ: /content/drive/MyDrive/Deep_learning/Eyelid_segmentation/MOBIUS/YOLOv8_training_LR/images\n"
          ]
        },
        {
          "output_type": "stream",
          "name": "stderr",
          "text": [
            "Copying to train: 100%|██████████| 2833/2833 [02:16<00:00, 20.78file/s]\n",
            "Copying to val: 100%|██████████| 709/709 [00:17<00:00, 41.38file/s]\n"
          ]
        },
        {
          "output_type": "stream",
          "name": "stdout",
          "text": [
            "処理中のディレクトリ: /content/drive/MyDrive/Deep_learning/Eyelid_segmentation/MOBIUS/YOLOv8_training_LR/labels\n"
          ]
        },
        {
          "output_type": "stream",
          "name": "stderr",
          "text": [
            "Copying to train: 100%|██████████| 2833/2833 [02:05<00:00, 22.65file/s]\n",
            "Copying to val: 100%|██████████| 709/709 [00:14<00:00, 49.23file/s]"
          ]
        },
        {
          "output_type": "stream",
          "name": "stdout",
          "text": [
            "\n",
            "処理完了:\n",
            "訓練用画像: 2833\n",
            "検証用画像: 709\n",
            "訓練用ラベル: 2833\n",
            "検証用ラベル: 709\n",
            "画像とラベルの数が一致しています。\n",
            "\n",
            "新しいデータセットの場所: /content/drive/MyDrive/Deep_learning/Eyelid_segmentation/MOBIUS/YOLOv8_training_LR/data\n",
            "新しいディレクトリ構造:\n",
            "/content/drive/MyDrive/Deep_learning/Eyelid_segmentation/MOBIUS/YOLOv8_training_LR/data/\n",
            "├── images/\n",
            "│   ├── train/\n",
            "│   └── val/\n",
            "└── labels/\n",
            "    ├── train/\n",
            "    └── val/\n"
          ]
        },
        {
          "output_type": "stream",
          "name": "stderr",
          "text": [
            "\n"
          ]
        }
      ]
    },
    {
      "cell_type": "code",
      "source": [
        "\"\"\"\n",
        "このスクリプトは以下の処理を行います：\n",
        "\n",
        "1. 指定されたベースディレクトリ内の 'images' と 'labels' フォルダを削除します。\n",
        "2. 削除前にユーザーに確認を求めます。\n",
        "3. 削除処理の結果を報告します。\n",
        "\n",
        "注意：\n",
        "- このスクリプトは元のデータを完全に削除します。実行前に十分注意し、必要なデータのバックアップを確保してください。\n",
        "- 削除操作は取り消せません。確認プロンプトには慎重に回答してください。\n",
        "\"\"\"\n",
        "\n",
        "import os\n",
        "import shutil\n",
        "\n",
        "def remove_directory(dir_path):\n",
        "    try:\n",
        "        shutil.rmtree(dir_path)\n",
        "        print(f\"削除完了: {dir_path}\")\n",
        "    except Exception as e:\n",
        "        print(f\"エラー: {dir_path}の削除中に問題が発生しました。\\n{str(e)}\")\n",
        "\n",
        "# ベースディレクトリ\n",
        "base_dir = \"/content/drive/MyDrive/Deep_learning/Eyelid_segmentation/MOBIUS/YOLOv8_training_LR\"\n",
        "\n",
        "# ソースディレクトリ\n",
        "src_images_dir = os.path.join(base_dir, \"images\")\n",
        "src_labels_dir = os.path.join(base_dir, \"labels\")\n",
        "\n",
        "print(f\"削除対象のディレクトリ:\")\n",
        "print(f\"1. {src_images_dir}\")\n",
        "print(f\"2. {src_labels_dir}\")\n",
        "\n",
        "# 削除の確認\n",
        "confirm = input(\"\\n上記のフォルダを削除しますか？ この操作は取り消せません。(y/n): \")\n",
        "\n",
        "if confirm.lower() == 'y':\n",
        "    remove_directory(src_images_dir)\n",
        "    remove_directory(src_labels_dir)\n",
        "    print(\"\\n指定されたフォルダの削除が完了しました。\")\n",
        "else:\n",
        "    print(\"\\n削除操作がキャンセルされました。フォルダは削除されていません。\")"
      ],
      "metadata": {
        "id": "x1fvUvCZGHQa",
        "colab": {
          "base_uri": "https://localhost:8080/"
        },
        "outputId": "95fdea81-a287-4ad5-d2c6-73cf5143c663"
      },
      "execution_count": 15,
      "outputs": [
        {
          "output_type": "stream",
          "name": "stdout",
          "text": [
            "削除対象のディレクトリ:\n",
            "1. /content/drive/MyDrive/Deep_learning/Eyelid_segmentation/MOBIUS/YOLOv8_training_LR/images\n",
            "2. /content/drive/MyDrive/Deep_learning/Eyelid_segmentation/MOBIUS/YOLOv8_training_LR/labels\n",
            "\n",
            "上記のフォルダを削除しますか？ この操作は取り消せません。(y/n): y\n",
            "削除完了: /content/drive/MyDrive/Deep_learning/Eyelid_segmentation/MOBIUS/YOLOv8_training_LR/images\n",
            "削除完了: /content/drive/MyDrive/Deep_learning/Eyelid_segmentation/MOBIUS/YOLOv8_training_LR/labels\n",
            "\n",
            "指定されたフォルダの削除が完了しました。\n"
          ]
        }
      ]
    },
    {
      "cell_type": "code",
      "source": [
        "# YAMLファイルの作成\n",
        "\n",
        "%%writefile /content/drive/MyDrive/Deep_learning/Eyelid_segmentation/MOBIUS/YOLOv8_training_LR/eye_segmentation.yaml\n",
        "# Train/val/test sets as 1) dir: path/to/imgs, 2) file: path/to/imgs.txt, or 3) list: [path/to/imgs1, path/to/imgs2, ..]\n",
        "path: /content/drive/MyDrive/Deep_learning/Eyelid_segmentation/MOBIUS/YOLOv8_training_LR/data  # dataset root dir\n",
        "train: images/train  # train images (relative to 'path')\n",
        "val: images/val  # val images (relative to 'path')\n",
        "test: images/val # test images (optional)\n",
        "\n",
        "# Classes\n",
        "names:\n",
        "  0: eyelid_R\n",
        "  1: iris_R\n",
        "  2: pupil_R\n",
        "  3: eyelid_L\n",
        "  4: iris_L\n",
        "  5: pupil_L\n",
        "\n",
        "# Download script/URL (optional)\n",
        "download: https://ultralytics.com/assets/coco128-seg.zip"
      ],
      "metadata": {
        "id": "Spfch9bFGQ_s",
        "colab": {
          "base_uri": "https://localhost:8080/"
        },
        "outputId": "98d57154-f567-4c23-e1aa-c4de4fd70743"
      },
      "execution_count": 16,
      "outputs": [
        {
          "output_type": "stream",
          "name": "stdout",
          "text": [
            "Writing /content/drive/MyDrive/Deep_learning/Eyelid_segmentation/MOBIUS/YOLOv8_training_LR/eye_segmentation.yaml\n"
          ]
        }
      ]
    },
    {
      "cell_type": "markdown",
      "source": [
        "#**YOLOv8 training**"
      ],
      "metadata": {
        "id": "l9I6zZp8Gj2Z"
      }
    },
    {
      "cell_type": "code",
      "source": [
        "from google.colab import drive\n",
        "drive.mount('/content/drive')"
      ],
      "metadata": {
        "id": "fjz_PROBGloR",
        "colab": {
          "base_uri": "https://localhost:8080/"
        },
        "outputId": "b78bdc3c-de77-44c7-f7d4-72ec5a88de08"
      },
      "execution_count": 1,
      "outputs": [
        {
          "output_type": "stream",
          "name": "stdout",
          "text": [
            "Mounted at /content/drive\n"
          ]
        }
      ]
    },
    {
      "cell_type": "code",
      "source": [
        "%cd /content/drive/MyDrive/Deep_learning/Eyelid_segmentation/MOBIUS/YOLOv8_training_LR\n",
        "!git clone https://github.com/ultralytics/ultralytics\n",
        "%cd ultralytics\n",
        "#yolov8"
      ],
      "metadata": {
        "id": "hdgOTI0EGvxC",
        "colab": {
          "base_uri": "https://localhost:8080/"
        },
        "outputId": "46bec635-8287-4e59-91e5-3b8c3e293384"
      },
      "execution_count": 2,
      "outputs": [
        {
          "output_type": "stream",
          "name": "stdout",
          "text": [
            "/content/drive/MyDrive/Deep_learning/Eyelid_segmentation/MOBIUS/YOLOv8_training_LR\n",
            "fatal: destination path 'ultralytics' already exists and is not an empty directory.\n",
            "/content/drive/MyDrive/Deep_learning/Eyelid_segmentation/MOBIUS/YOLOv8_training_LR/ultralytics\n"
          ]
        }
      ]
    },
    {
      "cell_type": "code",
      "source": [
        "from ultralytics import YOLO\n",
        "#本体\n",
        "#nc = 3に変更\n",
        "# Load a model\n",
        "model = YOLO('yolov8n-seg.yaml').load('yolov8n-seg.pt')  # build from YAML and transfer weights"
      ],
      "metadata": {
        "id": "KsavHvFMG1OF",
        "colab": {
          "base_uri": "https://localhost:8080/"
        },
        "outputId": "204f1aff-aa4f-4f39-ff30-7dcb8d7886db"
      },
      "execution_count": 3,
      "outputs": [
        {
          "output_type": "stream",
          "name": "stdout",
          "text": [
            "Creating new Ultralytics Settings v0.0.6 file ✅ \n",
            "View Ultralytics Settings with 'yolo settings' or at '/root/.config/Ultralytics/settings.json'\n",
            "Update Settings with 'yolo settings key=value', i.e. 'yolo settings runs_dir=path/to/dir'. For help see https://docs.ultralytics.com/quickstart/#ultralytics-settings.\n",
            "Transferred 381/453 items from pretrained weights\n"
          ]
        }
      ]
    },
    {
      "cell_type": "code",
      "source": [
        "result =  model.train(data='/content/drive/MyDrive/Deep_learning/Eyelid_segmentation/MOBIUS/YOLOv8_training/eye_segmentation.yaml', epochs=30, imgsz=640)"
      ],
      "metadata": {
        "id": "61kAqSbcHt3b",
        "colab": {
          "base_uri": "https://localhost:8080/",
          "height": 1000
        },
        "outputId": "659acb47-a0ad-4b35-8262-5faed2b539be"
      },
      "execution_count": 4,
      "outputs": [
        {
          "output_type": "stream",
          "name": "stdout",
          "text": [
            "New https://pypi.org/project/ultralytics/8.3.4 available 😃 Update with 'pip install -U ultralytics'\n",
            "Ultralytics 8.3.3 🚀 Python-3.10.12 torch-2.4.1+cu121 CPU (Intel Xeon 2.20GHz)\n",
            "\u001b[34m\u001b[1mengine/trainer: \u001b[0mtask=segment, mode=train, model=yolov8n-seg.yaml, data=/content/drive/MyDrive/Deep_learning/Eyelid_segmentation/MOBIUS/YOLOv8_training/eye_segmentation.yaml, epochs=30, time=None, patience=100, batch=16, imgsz=640, save=True, save_period=-1, cache=False, device=None, workers=8, project=None, name=train4, exist_ok=False, pretrained=yolov8n-seg.pt, optimizer=auto, verbose=True, seed=0, deterministic=True, single_cls=False, rect=False, cos_lr=False, close_mosaic=10, resume=False, amp=True, fraction=1.0, profile=False, freeze=None, multi_scale=False, overlap_mask=True, mask_ratio=4, dropout=0.0, val=True, split=val, save_json=False, save_hybrid=False, conf=None, iou=0.7, max_det=300, half=False, dnn=False, plots=True, source=None, vid_stride=1, stream_buffer=False, visualize=False, augment=False, agnostic_nms=False, classes=None, retina_masks=False, embed=None, show=False, save_frames=False, save_txt=False, save_conf=False, save_crop=False, show_labels=True, show_conf=True, show_boxes=True, line_width=None, format=torchscript, keras=False, optimize=False, int8=False, dynamic=False, simplify=True, opset=None, workspace=4, nms=False, lr0=0.01, lrf=0.01, momentum=0.937, weight_decay=0.0005, warmup_epochs=3.0, warmup_momentum=0.8, warmup_bias_lr=0.1, box=7.5, cls=0.5, dfl=1.5, pose=12.0, kobj=1.0, label_smoothing=0.0, nbs=64, hsv_h=0.015, hsv_s=0.7, hsv_v=0.4, degrees=0.0, translate=0.1, scale=0.5, shear=0.0, perspective=0.0, flipud=0.0, fliplr=0.5, bgr=0.0, mosaic=1.0, mixup=0.0, copy_paste=0.0, copy_paste_mode=flip, auto_augment=randaugment, erasing=0.4, crop_fraction=1.0, cfg=None, tracker=botsort.yaml, save_dir=/content/drive/MyDrive/Deep_learning/Eyelid_segmentation/MOBIUS/YOLOv8_training_LR/ultralytics/runs/segment/train4\n",
            "Downloading https://ultralytics.com/assets/Arial.ttf to '/root/.config/Ultralytics/Arial.ttf'...\n"
          ]
        },
        {
          "output_type": "stream",
          "name": "stderr",
          "text": [
            "100%|██████████| 755k/755k [00:00<00:00, 20.8MB/s]\n"
          ]
        },
        {
          "output_type": "stream",
          "name": "stdout",
          "text": [
            "Overriding model.yaml nc=80 with nc=3\n",
            "\n",
            "                   from  n    params  module                                       arguments                     \n",
            "  0                  -1  1       464  ultralytics.nn.modules.conv.Conv             [3, 16, 3, 2]                 \n",
            "  1                  -1  1      4672  ultralytics.nn.modules.conv.Conv             [16, 32, 3, 2]                \n",
            "  2                  -1  1      7360  ultralytics.nn.modules.block.C2f             [32, 32, 1, True]             \n",
            "  3                  -1  1     18560  ultralytics.nn.modules.conv.Conv             [32, 64, 3, 2]                \n",
            "  4                  -1  2     49664  ultralytics.nn.modules.block.C2f             [64, 64, 2, True]             \n",
            "  5                  -1  1     73984  ultralytics.nn.modules.conv.Conv             [64, 128, 3, 2]               \n",
            "  6                  -1  2    197632  ultralytics.nn.modules.block.C2f             [128, 128, 2, True]           \n",
            "  7                  -1  1    295424  ultralytics.nn.modules.conv.Conv             [128, 256, 3, 2]              \n",
            "  8                  -1  1    460288  ultralytics.nn.modules.block.C2f             [256, 256, 1, True]           \n",
            "  9                  -1  1    164608  ultralytics.nn.modules.block.SPPF            [256, 256, 5]                 \n",
            " 10                  -1  1         0  torch.nn.modules.upsampling.Upsample         [None, 2, 'nearest']          \n",
            " 11             [-1, 6]  1         0  ultralytics.nn.modules.conv.Concat           [1]                           \n",
            " 12                  -1  1    148224  ultralytics.nn.modules.block.C2f             [384, 128, 1]                 \n",
            " 13                  -1  1         0  torch.nn.modules.upsampling.Upsample         [None, 2, 'nearest']          \n",
            " 14             [-1, 4]  1         0  ultralytics.nn.modules.conv.Concat           [1]                           \n",
            " 15                  -1  1     37248  ultralytics.nn.modules.block.C2f             [192, 64, 1]                  \n",
            " 16                  -1  1     36992  ultralytics.nn.modules.conv.Conv             [64, 64, 3, 2]                \n",
            " 17            [-1, 12]  1         0  ultralytics.nn.modules.conv.Concat           [1]                           \n",
            " 18                  -1  1    123648  ultralytics.nn.modules.block.C2f             [192, 128, 1]                 \n",
            " 19                  -1  1    147712  ultralytics.nn.modules.conv.Conv             [128, 128, 3, 2]              \n",
            " 20             [-1, 9]  1         0  ultralytics.nn.modules.conv.Concat           [1]                           \n",
            " 21                  -1  1    493056  ultralytics.nn.modules.block.C2f             [384, 256, 1]                 \n",
            " 22        [15, 18, 21]  1    684025  ultralytics.nn.modules.head.Segment          [3, 32, 64, [64, 128, 256]]   \n",
            "YOLOv8n-seg summary: 285 layers, 2,943,561 parameters, 2,943,545 gradients\n",
            "\n",
            "Transferred 402/453 items from pretrained weights\n",
            "\u001b[34m\u001b[1mTensorBoard: \u001b[0mStart with 'tensorboard --logdir /content/drive/MyDrive/Deep_learning/Eyelid_segmentation/MOBIUS/YOLOv8_training_LR/ultralytics/runs/segment/train4', view at http://localhost:6006/\n",
            "Freezing layer 'model.22.dfl.conv.weight'\n"
          ]
        },
        {
          "output_type": "stream",
          "name": "stderr",
          "text": [
            "\u001b[34m\u001b[1mtrain: \u001b[0mScanning /content/drive/MyDrive/Deep_learning/Eyelid_segmentation/MOBIUS/YOLOv8_training/data/labels/train.cache... 2833 images, 0 backgrounds, 0 corrupt: 100%|██████████| 2833/2833 [00:00<?, ?it/s]\n"
          ]
        },
        {
          "output_type": "stream",
          "name": "stdout",
          "text": [
            "\u001b[34m\u001b[1malbumentations: \u001b[0mBlur(p=0.01, blur_limit=(3, 7)), MedianBlur(p=0.01, blur_limit=(3, 7)), ToGray(p=0.01, num_output_channels=3, method='weighted_average'), CLAHE(p=0.01, clip_limit=(1, 4.0), tile_grid_size=(8, 8))\n"
          ]
        },
        {
          "output_type": "stream",
          "name": "stderr",
          "text": [
            "/usr/local/lib/python3.10/dist-packages/albumentations/__init__.py:13: UserWarning: A new version of Albumentations is available: 1.4.17 (you have 1.4.15). Upgrade using: pip install -U albumentations. To disable automatic update checks, set the environment variable NO_ALBUMENTATIONS_UPDATE to 1.\n",
            "  check_for_updates()\n",
            "\u001b[34m\u001b[1mval: \u001b[0mScanning /content/drive/MyDrive/Deep_learning/Eyelid_segmentation/MOBIUS/YOLOv8_training/data/labels/val.cache... 709 images, 0 backgrounds, 0 corrupt: 100%|██████████| 709/709 [00:00<?, ?it/s]\n"
          ]
        },
        {
          "output_type": "stream",
          "name": "stdout",
          "text": [
            "Plotting labels to /content/drive/MyDrive/Deep_learning/Eyelid_segmentation/MOBIUS/YOLOv8_training_LR/ultralytics/runs/segment/train4/labels.jpg... \n",
            "\u001b[34m\u001b[1moptimizer:\u001b[0m 'optimizer=auto' found, ignoring 'lr0=0.01' and 'momentum=0.937' and determining best 'optimizer', 'lr0' and 'momentum' automatically... \n",
            "\u001b[34m\u001b[1moptimizer:\u001b[0m AdamW(lr=0.001429, momentum=0.9) with parameter groups 72 weight(decay=0.0), 83 weight(decay=0.0005), 82 bias(decay=0.0)\n",
            "\u001b[34m\u001b[1mTensorBoard: \u001b[0mmodel graph visualization added ✅\n",
            "Image sizes 640 train, 640 val\n",
            "Using 0 dataloader workers\n",
            "Logging results to \u001b[1m/content/drive/MyDrive/Deep_learning/Eyelid_segmentation/MOBIUS/YOLOv8_training_LR/ultralytics/runs/segment/train4\u001b[0m\n",
            "Starting training for 30 epochs...\n",
            "\n",
            "      Epoch    GPU_mem   box_loss   seg_loss   cls_loss   dfl_loss  Instances       Size\n"
          ]
        },
        {
          "output_type": "stream",
          "name": "stderr",
          "text": [
            "       1/30         0G      1.162      2.561      1.744      1.318         11        640: 100%|██████████| 178/178 [1:02:37<00:00, 21.11s/it]\n",
            "                 Class     Images  Instances      Box(P          R      mAP50  mAP50-95)     Mask(P          R      mAP50  mAP50-95): 100%|██████████| 23/23 [10:29<00:00, 27.37s/it]\n"
          ]
        },
        {
          "output_type": "stream",
          "name": "stdout",
          "text": [
            "                   all        709       2127      0.912      0.855      0.903      0.637      0.894      0.832      0.877      0.511\n",
            "\n",
            "      Epoch    GPU_mem   box_loss   seg_loss   cls_loss   dfl_loss  Instances       Size\n"
          ]
        },
        {
          "output_type": "stream",
          "name": "stderr",
          "text": [
            "       2/30         0G      1.041      1.957     0.9424      1.215          7        640: 100%|██████████| 178/178 [1:01:56<00:00, 20.88s/it]\n",
            "                 Class     Images  Instances      Box(P          R      mAP50  mAP50-95)     Mask(P          R      mAP50  mAP50-95): 100%|██████████| 23/23 [03:59<00:00, 10.41s/it]\n"
          ]
        },
        {
          "output_type": "stream",
          "name": "stdout",
          "text": [
            "                   all        709       2127      0.917      0.888      0.914      0.658      0.903      0.874        0.9      0.526\n",
            "\n",
            "      Epoch    GPU_mem   box_loss   seg_loss   cls_loss   dfl_loss  Instances       Size\n"
          ]
        },
        {
          "output_type": "stream",
          "name": "stderr",
          "text": [
            "       3/30         0G      1.013      1.917     0.8184      1.191          3        640: 100%|██████████| 178/178 [1:01:19<00:00, 20.67s/it]\n",
            "                 Class     Images  Instances      Box(P          R      mAP50  mAP50-95)     Mask(P          R      mAP50  mAP50-95): 100%|██████████| 23/23 [03:56<00:00, 10.27s/it]\n"
          ]
        },
        {
          "output_type": "stream",
          "name": "stdout",
          "text": [
            "                   all        709       2127      0.933      0.879      0.915      0.667       0.91      0.856      0.888      0.523\n",
            "\n",
            "      Epoch    GPU_mem   box_loss   seg_loss   cls_loss   dfl_loss  Instances       Size\n"
          ]
        },
        {
          "output_type": "stream",
          "name": "stderr",
          "text": [
            "       4/30         0G      1.001      1.868     0.7396      1.191          6        640: 100%|██████████| 178/178 [1:01:00<00:00, 20.57s/it]\n",
            "                 Class     Images  Instances      Box(P          R      mAP50  mAP50-95)     Mask(P          R      mAP50  mAP50-95): 100%|██████████| 23/23 [03:33<00:00,  9.29s/it]"
          ]
        },
        {
          "output_type": "stream",
          "name": "stdout",
          "text": [
            "                   all        709       2127      0.931      0.873       0.91      0.674      0.916      0.858      0.892      0.544\n"
          ]
        },
        {
          "output_type": "stream",
          "name": "stderr",
          "text": [
            "\n"
          ]
        },
        {
          "output_type": "stream",
          "name": "stdout",
          "text": [
            "\n",
            "      Epoch    GPU_mem   box_loss   seg_loss   cls_loss   dfl_loss  Instances       Size\n"
          ]
        },
        {
          "output_type": "stream",
          "name": "stderr",
          "text": [
            "       5/30         0G     0.9794      1.809     0.6732      1.175          3        640: 100%|██████████| 178/178 [1:01:34<00:00, 20.76s/it]\n",
            "                 Class     Images  Instances      Box(P          R      mAP50  mAP50-95)     Mask(P          R      mAP50  mAP50-95): 100%|██████████| 23/23 [03:28<00:00,  9.07s/it]"
          ]
        },
        {
          "output_type": "stream",
          "name": "stdout",
          "text": [
            "                   all        709       2127      0.903      0.843      0.903       0.63      0.854      0.795      0.846      0.498\n"
          ]
        },
        {
          "output_type": "stream",
          "name": "stderr",
          "text": [
            "\n"
          ]
        },
        {
          "output_type": "stream",
          "name": "stdout",
          "text": [
            "\n",
            "      Epoch    GPU_mem   box_loss   seg_loss   cls_loss   dfl_loss  Instances       Size\n"
          ]
        },
        {
          "output_type": "stream",
          "name": "stderr",
          "text": [
            "       6/30         0G      0.962      1.782      0.639      1.162          6        640: 100%|██████████| 178/178 [1:01:30<00:00, 20.73s/it]\n",
            "                 Class     Images  Instances      Box(P          R      mAP50  mAP50-95)     Mask(P          R      mAP50  mAP50-95): 100%|██████████| 23/23 [03:25<00:00,  8.92s/it]"
          ]
        },
        {
          "output_type": "stream",
          "name": "stdout",
          "text": [
            "                   all        709       2127      0.943      0.871       0.92      0.678      0.899      0.829      0.877      0.541\n"
          ]
        },
        {
          "output_type": "stream",
          "name": "stderr",
          "text": [
            "\n"
          ]
        },
        {
          "output_type": "stream",
          "name": "stdout",
          "text": [
            "\n",
            "      Epoch    GPU_mem   box_loss   seg_loss   cls_loss   dfl_loss  Instances       Size\n"
          ]
        },
        {
          "output_type": "stream",
          "name": "stderr",
          "text": [
            "       7/30         0G     0.9356      1.758     0.6109      1.159          7        640: 100%|██████████| 178/178 [1:01:08<00:00, 20.61s/it]\n",
            "                 Class     Images  Instances      Box(P          R      mAP50  mAP50-95)     Mask(P          R      mAP50  mAP50-95): 100%|██████████| 23/23 [03:20<00:00,  8.73s/it]"
          ]
        },
        {
          "output_type": "stream",
          "name": "stdout",
          "text": [
            "                   all        709       2127      0.947      0.895      0.935      0.705      0.938      0.885      0.927      0.596\n"
          ]
        },
        {
          "output_type": "stream",
          "name": "stderr",
          "text": [
            "\n"
          ]
        },
        {
          "output_type": "stream",
          "name": "stdout",
          "text": [
            "\n",
            "      Epoch    GPU_mem   box_loss   seg_loss   cls_loss   dfl_loss  Instances       Size\n"
          ]
        },
        {
          "output_type": "stream",
          "name": "stderr",
          "text": [
            "       8/30         0G     0.9131       1.72      0.577      1.145         10        640: 100%|██████████| 178/178 [1:00:55<00:00, 20.54s/it]\n",
            "                 Class     Images  Instances      Box(P          R      mAP50  mAP50-95)     Mask(P          R      mAP50  mAP50-95): 100%|██████████| 23/23 [03:26<00:00,  8.97s/it]"
          ]
        },
        {
          "output_type": "stream",
          "name": "stdout",
          "text": [
            "                   all        709       2127      0.944      0.901      0.942      0.715      0.934      0.884      0.929      0.607\n"
          ]
        },
        {
          "output_type": "stream",
          "name": "stderr",
          "text": [
            "\n"
          ]
        },
        {
          "output_type": "stream",
          "name": "stdout",
          "text": [
            "\n",
            "      Epoch    GPU_mem   box_loss   seg_loss   cls_loss   dfl_loss  Instances       Size\n"
          ]
        },
        {
          "output_type": "stream",
          "name": "stderr",
          "text": [
            "       9/30         0G     0.9232       1.75     0.5799      1.143          6        640: 100%|██████████| 178/178 [1:01:18<00:00, 20.67s/it]\n",
            "                 Class     Images  Instances      Box(P          R      mAP50  mAP50-95)     Mask(P          R      mAP50  mAP50-95): 100%|██████████| 23/23 [03:20<00:00,  8.72s/it]"
          ]
        },
        {
          "output_type": "stream",
          "name": "stdout",
          "text": [
            "                   all        709       2127      0.964      0.899      0.943      0.712       0.95      0.883      0.926      0.596\n"
          ]
        },
        {
          "output_type": "stream",
          "name": "stderr",
          "text": [
            "\n"
          ]
        },
        {
          "output_type": "stream",
          "name": "stdout",
          "text": [
            "\n",
            "      Epoch    GPU_mem   box_loss   seg_loss   cls_loss   dfl_loss  Instances       Size\n"
          ]
        },
        {
          "output_type": "stream",
          "name": "stderr",
          "text": [
            "      10/30         0G     0.9009      1.697     0.5505      1.136          8        640: 100%|██████████| 178/178 [1:00:40<00:00, 20.45s/it]\n",
            "                 Class     Images  Instances      Box(P          R      mAP50  mAP50-95)     Mask(P          R      mAP50  mAP50-95): 100%|██████████| 23/23 [03:19<00:00,  8.66s/it]"
          ]
        },
        {
          "output_type": "stream",
          "name": "stdout",
          "text": [
            "                   all        709       2127      0.936      0.912      0.945      0.731      0.928      0.889       0.93      0.611\n"
          ]
        },
        {
          "output_type": "stream",
          "name": "stderr",
          "text": [
            "\n"
          ]
        },
        {
          "output_type": "stream",
          "name": "stdout",
          "text": [
            "\n",
            "      Epoch    GPU_mem   box_loss   seg_loss   cls_loss   dfl_loss  Instances       Size\n"
          ]
        },
        {
          "output_type": "stream",
          "name": "stderr",
          "text": [
            "      11/30         0G     0.8965        1.7     0.5464      1.133          7        640: 100%|██████████| 178/178 [1:00:37<00:00, 20.44s/it]\n",
            "                 Class     Images  Instances      Box(P          R      mAP50  mAP50-95)     Mask(P          R      mAP50  mAP50-95): 100%|██████████| 23/23 [03:19<00:00,  8.68s/it]"
          ]
        },
        {
          "output_type": "stream",
          "name": "stdout",
          "text": [
            "                   all        709       2127      0.946      0.911      0.944      0.728      0.933        0.9      0.934      0.625\n"
          ]
        },
        {
          "output_type": "stream",
          "name": "stderr",
          "text": [
            "\n"
          ]
        },
        {
          "output_type": "stream",
          "name": "stdout",
          "text": [
            "\n",
            "      Epoch    GPU_mem   box_loss   seg_loss   cls_loss   dfl_loss  Instances       Size\n"
          ]
        },
        {
          "output_type": "stream",
          "name": "stderr",
          "text": [
            "      12/30         0G     0.9014      1.685     0.5469      1.132         98        640:  11%|█         | 19/178 [06:48<56:57, 21.49s/it]\n"
          ]
        },
        {
          "output_type": "error",
          "ename": "KeyboardInterrupt",
          "evalue": "",
          "traceback": [
            "\u001b[0;31m---------------------------------------------------------------------------\u001b[0m",
            "\u001b[0;31mKeyboardInterrupt\u001b[0m                         Traceback (most recent call last)",
            "\u001b[0;32m<ipython-input-4-b731c063dd19>\u001b[0m in \u001b[0;36m<cell line: 1>\u001b[0;34m()\u001b[0m\n\u001b[0;32m----> 1\u001b[0;31m \u001b[0mresult\u001b[0m \u001b[0;34m=\u001b[0m  \u001b[0mmodel\u001b[0m\u001b[0;34m.\u001b[0m\u001b[0mtrain\u001b[0m\u001b[0;34m(\u001b[0m\u001b[0mdata\u001b[0m\u001b[0;34m=\u001b[0m\u001b[0;34m'/content/drive/MyDrive/Deep_learning/Eyelid_segmentation/MOBIUS/YOLOv8_training/eye_segmentation.yaml'\u001b[0m\u001b[0;34m,\u001b[0m \u001b[0mepochs\u001b[0m\u001b[0;34m=\u001b[0m\u001b[0;36m30\u001b[0m\u001b[0;34m,\u001b[0m \u001b[0mimgsz\u001b[0m\u001b[0;34m=\u001b[0m\u001b[0;36m640\u001b[0m\u001b[0;34m)\u001b[0m\u001b[0;34m\u001b[0m\u001b[0;34m\u001b[0m\u001b[0m\n\u001b[0m",
            "\u001b[0;32m/content/drive/MyDrive/Deep_learning/Eyelid_segmentation/MOBIUS/YOLOv8_training_LR/ultralytics/ultralytics/engine/model.py\u001b[0m in \u001b[0;36mtrain\u001b[0;34m(self, trainer, **kwargs)\u001b[0m\n\u001b[1;32m    800\u001b[0m \u001b[0;34m\u001b[0m\u001b[0m\n\u001b[1;32m    801\u001b[0m         \u001b[0mself\u001b[0m\u001b[0;34m.\u001b[0m\u001b[0mtrainer\u001b[0m\u001b[0;34m.\u001b[0m\u001b[0mhub_session\u001b[0m \u001b[0;34m=\u001b[0m \u001b[0mself\u001b[0m\u001b[0;34m.\u001b[0m\u001b[0msession\u001b[0m  \u001b[0;31m# attach optional HUB session\u001b[0m\u001b[0;34m\u001b[0m\u001b[0;34m\u001b[0m\u001b[0m\n\u001b[0;32m--> 802\u001b[0;31m         \u001b[0mself\u001b[0m\u001b[0;34m.\u001b[0m\u001b[0mtrainer\u001b[0m\u001b[0;34m.\u001b[0m\u001b[0mtrain\u001b[0m\u001b[0;34m(\u001b[0m\u001b[0;34m)\u001b[0m\u001b[0;34m\u001b[0m\u001b[0;34m\u001b[0m\u001b[0m\n\u001b[0m\u001b[1;32m    803\u001b[0m         \u001b[0;31m# Update model and cfg after training\u001b[0m\u001b[0;34m\u001b[0m\u001b[0;34m\u001b[0m\u001b[0m\n\u001b[1;32m    804\u001b[0m         \u001b[0;32mif\u001b[0m \u001b[0mRANK\u001b[0m \u001b[0;32min\u001b[0m \u001b[0;34m{\u001b[0m\u001b[0;34m-\u001b[0m\u001b[0;36m1\u001b[0m\u001b[0;34m,\u001b[0m \u001b[0;36m0\u001b[0m\u001b[0;34m}\u001b[0m\u001b[0;34m:\u001b[0m\u001b[0;34m\u001b[0m\u001b[0;34m\u001b[0m\u001b[0m\n",
            "\u001b[0;32m/content/drive/MyDrive/Deep_learning/Eyelid_segmentation/MOBIUS/YOLOv8_training_LR/ultralytics/ultralytics/engine/trainer.py\u001b[0m in \u001b[0;36mtrain\u001b[0;34m(self)\u001b[0m\n\u001b[1;32m    205\u001b[0m \u001b[0;34m\u001b[0m\u001b[0m\n\u001b[1;32m    206\u001b[0m         \u001b[0;32melse\u001b[0m\u001b[0;34m:\u001b[0m\u001b[0;34m\u001b[0m\u001b[0;34m\u001b[0m\u001b[0m\n\u001b[0;32m--> 207\u001b[0;31m             \u001b[0mself\u001b[0m\u001b[0;34m.\u001b[0m\u001b[0m_do_train\u001b[0m\u001b[0;34m(\u001b[0m\u001b[0mworld_size\u001b[0m\u001b[0;34m)\u001b[0m\u001b[0;34m\u001b[0m\u001b[0;34m\u001b[0m\u001b[0m\n\u001b[0m\u001b[1;32m    208\u001b[0m \u001b[0;34m\u001b[0m\u001b[0m\n\u001b[1;32m    209\u001b[0m     \u001b[0;32mdef\u001b[0m \u001b[0m_setup_scheduler\u001b[0m\u001b[0;34m(\u001b[0m\u001b[0mself\u001b[0m\u001b[0;34m)\u001b[0m\u001b[0;34m:\u001b[0m\u001b[0;34m\u001b[0m\u001b[0;34m\u001b[0m\u001b[0m\n",
            "\u001b[0;32m/content/drive/MyDrive/Deep_learning/Eyelid_segmentation/MOBIUS/YOLOv8_training_LR/ultralytics/ultralytics/engine/trainer.py\u001b[0m in \u001b[0;36m_do_train\u001b[0;34m(self, world_size)\u001b[0m\n\u001b[1;32m    391\u001b[0m \u001b[0;34m\u001b[0m\u001b[0m\n\u001b[1;32m    392\u001b[0m                 \u001b[0;31m# Backward\u001b[0m\u001b[0;34m\u001b[0m\u001b[0;34m\u001b[0m\u001b[0m\n\u001b[0;32m--> 393\u001b[0;31m                 \u001b[0mself\u001b[0m\u001b[0;34m.\u001b[0m\u001b[0mscaler\u001b[0m\u001b[0;34m.\u001b[0m\u001b[0mscale\u001b[0m\u001b[0;34m(\u001b[0m\u001b[0mself\u001b[0m\u001b[0;34m.\u001b[0m\u001b[0mloss\u001b[0m\u001b[0;34m)\u001b[0m\u001b[0;34m.\u001b[0m\u001b[0mbackward\u001b[0m\u001b[0;34m(\u001b[0m\u001b[0;34m)\u001b[0m\u001b[0;34m\u001b[0m\u001b[0;34m\u001b[0m\u001b[0m\n\u001b[0m\u001b[1;32m    394\u001b[0m \u001b[0;34m\u001b[0m\u001b[0m\n\u001b[1;32m    395\u001b[0m                 \u001b[0;31m# Optimize - https://pytorch.org/docs/master/notes/amp_examples.html\u001b[0m\u001b[0;34m\u001b[0m\u001b[0;34m\u001b[0m\u001b[0m\n",
            "\u001b[0;32m/usr/local/lib/python3.10/dist-packages/torch/_tensor.py\u001b[0m in \u001b[0;36mbackward\u001b[0;34m(self, gradient, retain_graph, create_graph, inputs)\u001b[0m\n\u001b[1;32m    519\u001b[0m                 \u001b[0minputs\u001b[0m\u001b[0;34m=\u001b[0m\u001b[0minputs\u001b[0m\u001b[0;34m,\u001b[0m\u001b[0;34m\u001b[0m\u001b[0;34m\u001b[0m\u001b[0m\n\u001b[1;32m    520\u001b[0m             )\n\u001b[0;32m--> 521\u001b[0;31m         torch.autograd.backward(\n\u001b[0m\u001b[1;32m    522\u001b[0m             \u001b[0mself\u001b[0m\u001b[0;34m,\u001b[0m \u001b[0mgradient\u001b[0m\u001b[0;34m,\u001b[0m \u001b[0mretain_graph\u001b[0m\u001b[0;34m,\u001b[0m \u001b[0mcreate_graph\u001b[0m\u001b[0;34m,\u001b[0m \u001b[0minputs\u001b[0m\u001b[0;34m=\u001b[0m\u001b[0minputs\u001b[0m\u001b[0;34m\u001b[0m\u001b[0;34m\u001b[0m\u001b[0m\n\u001b[1;32m    523\u001b[0m         )\n",
            "\u001b[0;32m/usr/local/lib/python3.10/dist-packages/torch/autograd/__init__.py\u001b[0m in \u001b[0;36mbackward\u001b[0;34m(tensors, grad_tensors, retain_graph, create_graph, grad_variables, inputs)\u001b[0m\n\u001b[1;32m    287\u001b[0m     \u001b[0;31m# some Python versions print out the first line of a multi-line function\u001b[0m\u001b[0;34m\u001b[0m\u001b[0;34m\u001b[0m\u001b[0m\n\u001b[1;32m    288\u001b[0m     \u001b[0;31m# calls in the traceback and some print out the last line\u001b[0m\u001b[0;34m\u001b[0m\u001b[0;34m\u001b[0m\u001b[0m\n\u001b[0;32m--> 289\u001b[0;31m     _engine_run_backward(\n\u001b[0m\u001b[1;32m    290\u001b[0m         \u001b[0mtensors\u001b[0m\u001b[0;34m,\u001b[0m\u001b[0;34m\u001b[0m\u001b[0;34m\u001b[0m\u001b[0m\n\u001b[1;32m    291\u001b[0m         \u001b[0mgrad_tensors_\u001b[0m\u001b[0;34m,\u001b[0m\u001b[0;34m\u001b[0m\u001b[0;34m\u001b[0m\u001b[0m\n",
            "\u001b[0;32m/usr/local/lib/python3.10/dist-packages/torch/autograd/graph.py\u001b[0m in \u001b[0;36m_engine_run_backward\u001b[0;34m(t_outputs, *args, **kwargs)\u001b[0m\n\u001b[1;32m    767\u001b[0m         \u001b[0munregister_hooks\u001b[0m \u001b[0;34m=\u001b[0m \u001b[0m_register_logging_hooks_on_whole_graph\u001b[0m\u001b[0;34m(\u001b[0m\u001b[0mt_outputs\u001b[0m\u001b[0;34m)\u001b[0m\u001b[0;34m\u001b[0m\u001b[0;34m\u001b[0m\u001b[0m\n\u001b[1;32m    768\u001b[0m     \u001b[0;32mtry\u001b[0m\u001b[0;34m:\u001b[0m\u001b[0;34m\u001b[0m\u001b[0;34m\u001b[0m\u001b[0m\n\u001b[0;32m--> 769\u001b[0;31m         return Variable._execution_engine.run_backward(  # Calls into the C++ engine to run the backward pass\n\u001b[0m\u001b[1;32m    770\u001b[0m             \u001b[0mt_outputs\u001b[0m\u001b[0;34m,\u001b[0m \u001b[0;34m*\u001b[0m\u001b[0margs\u001b[0m\u001b[0;34m,\u001b[0m \u001b[0;34m**\u001b[0m\u001b[0mkwargs\u001b[0m\u001b[0;34m\u001b[0m\u001b[0;34m\u001b[0m\u001b[0m\n\u001b[1;32m    771\u001b[0m         )  # Calls into the C++ engine to run the backward pass\n",
            "\u001b[0;31mKeyboardInterrupt\u001b[0m: "
          ]
        }
      ]
    },
    {
      "cell_type": "code",
      "source": [
        "## 続きからトレーニングする場合\n",
        "from ultralytics import YOLO\n",
        "#本体\n",
        "#nc = 3に変更\n",
        "# Load a model\n",
        "model = YOLO('yolov8n-seg.yaml').load('yolov8n-seg.pt')  # build from YAML and transfer weights\n",
        "\n",
        "result = model.train(data='/content/drive/MyDrive/Deep_learning/Eyelid_segmentation/MOBIUS/YOLOv8_training/eye_segmentation.yaml',\n",
        "                     epochs=500,\n",
        "                     imgsz=640,\n",
        "                     resume='/content/drive/MyDrive/Deep_learning/Eyelid_segmentation/MOBIUS/YOLOv8_training_LR/ultralytics/runs/segment/train4/weights/last.pt')  # チェックポイントファイルのパスを指定"
      ],
      "metadata": {
        "id": "DRZAbzF0ImQc",
        "colab": {
          "base_uri": "https://localhost:8080/"
        },
        "outputId": "64905c07-db48-4aea-b7b8-e597538edbd8"
      },
      "execution_count": null,
      "outputs": [
        {
          "output_type": "stream",
          "name": "stdout",
          "text": [
            "Transferred 381/453 items from pretrained weights\n",
            "New https://pypi.org/project/ultralytics/8.3.4 available 😃 Update with 'pip install -U ultralytics'\n",
            "Ultralytics 8.3.3 🚀 Python-3.10.12 torch-2.4.1+cu121 CPU (Intel Xeon 2.20GHz)\n",
            "\u001b[34m\u001b[1mengine/trainer: \u001b[0mtask=segment, mode=train, model=yolov8n-seg.yaml, data=/content/drive/MyDrive/Deep_learning/Eyelid_segmentation/MOBIUS/YOLOv8_training/eye_segmentation.yaml, epochs=500, time=None, patience=100, batch=16, imgsz=640, save=True, save_period=-1, cache=False, device=None, workers=8, project=None, name=train5, exist_ok=False, pretrained=yolov8n-seg.pt, optimizer=auto, verbose=True, seed=0, deterministic=True, single_cls=False, rect=False, cos_lr=False, close_mosaic=10, resume=None, amp=True, fraction=1.0, profile=False, freeze=None, multi_scale=False, overlap_mask=True, mask_ratio=4, dropout=0.0, val=True, split=val, save_json=False, save_hybrid=False, conf=None, iou=0.7, max_det=300, half=False, dnn=False, plots=True, source=None, vid_stride=1, stream_buffer=False, visualize=False, augment=False, agnostic_nms=False, classes=None, retina_masks=False, embed=None, show=False, save_frames=False, save_txt=False, save_conf=False, save_crop=False, show_labels=True, show_conf=True, show_boxes=True, line_width=None, format=torchscript, keras=False, optimize=False, int8=False, dynamic=False, simplify=True, opset=None, workspace=4, nms=False, lr0=0.01, lrf=0.01, momentum=0.937, weight_decay=0.0005, warmup_epochs=3.0, warmup_momentum=0.8, warmup_bias_lr=0.1, box=7.5, cls=0.5, dfl=1.5, pose=12.0, kobj=1.0, label_smoothing=0.0, nbs=64, hsv_h=0.015, hsv_s=0.7, hsv_v=0.4, degrees=0.0, translate=0.1, scale=0.5, shear=0.0, perspective=0.0, flipud=0.0, fliplr=0.5, bgr=0.0, mosaic=1.0, mixup=0.0, copy_paste=0.0, copy_paste_mode=flip, auto_augment=randaugment, erasing=0.4, crop_fraction=1.0, cfg=None, tracker=botsort.yaml, save_dir=/content/drive/MyDrive/Deep_learning/Eyelid_segmentation/MOBIUS/YOLOv8_training_LR/ultralytics/runs/segment/train5\n",
            "Overriding model.yaml nc=80 with nc=3\n",
            "\n",
            "                   from  n    params  module                                       arguments                     \n",
            "  0                  -1  1       464  ultralytics.nn.modules.conv.Conv             [3, 16, 3, 2]                 \n",
            "  1                  -1  1      4672  ultralytics.nn.modules.conv.Conv             [16, 32, 3, 2]                \n",
            "  2                  -1  1      7360  ultralytics.nn.modules.block.C2f             [32, 32, 1, True]             \n",
            "  3                  -1  1     18560  ultralytics.nn.modules.conv.Conv             [32, 64, 3, 2]                \n",
            "  4                  -1  2     49664  ultralytics.nn.modules.block.C2f             [64, 64, 2, True]             \n",
            "  5                  -1  1     73984  ultralytics.nn.modules.conv.Conv             [64, 128, 3, 2]               \n",
            "  6                  -1  2    197632  ultralytics.nn.modules.block.C2f             [128, 128, 2, True]           \n",
            "  7                  -1  1    295424  ultralytics.nn.modules.conv.Conv             [128, 256, 3, 2]              \n",
            "  8                  -1  1    460288  ultralytics.nn.modules.block.C2f             [256, 256, 1, True]           \n",
            "  9                  -1  1    164608  ultralytics.nn.modules.block.SPPF            [256, 256, 5]                 \n",
            " 10                  -1  1         0  torch.nn.modules.upsampling.Upsample         [None, 2, 'nearest']          \n",
            " 11             [-1, 6]  1         0  ultralytics.nn.modules.conv.Concat           [1]                           \n",
            " 12                  -1  1    148224  ultralytics.nn.modules.block.C2f             [384, 128, 1]                 \n",
            " 13                  -1  1         0  torch.nn.modules.upsampling.Upsample         [None, 2, 'nearest']          \n",
            " 14             [-1, 4]  1         0  ultralytics.nn.modules.conv.Concat           [1]                           \n",
            " 15                  -1  1     37248  ultralytics.nn.modules.block.C2f             [192, 64, 1]                  \n",
            " 16                  -1  1     36992  ultralytics.nn.modules.conv.Conv             [64, 64, 3, 2]                \n",
            " 17            [-1, 12]  1         0  ultralytics.nn.modules.conv.Concat           [1]                           \n",
            " 18                  -1  1    123648  ultralytics.nn.modules.block.C2f             [192, 128, 1]                 \n",
            " 19                  -1  1    147712  ultralytics.nn.modules.conv.Conv             [128, 128, 3, 2]              \n",
            " 20             [-1, 9]  1         0  ultralytics.nn.modules.conv.Concat           [1]                           \n",
            " 21                  -1  1    493056  ultralytics.nn.modules.block.C2f             [384, 256, 1]                 \n",
            " 22        [15, 18, 21]  1    684025  ultralytics.nn.modules.head.Segment          [3, 32, 64, [64, 128, 256]]   \n",
            "YOLOv8n-seg summary: 285 layers, 2,943,561 parameters, 2,943,545 gradients\n",
            "\n",
            "Transferred 402/453 items from pretrained weights\n",
            "\u001b[34m\u001b[1mTensorBoard: \u001b[0mStart with 'tensorboard --logdir /content/drive/MyDrive/Deep_learning/Eyelid_segmentation/MOBIUS/YOLOv8_training_LR/ultralytics/runs/segment/train5', view at http://localhost:6006/\n",
            "Freezing layer 'model.22.dfl.conv.weight'\n"
          ]
        },
        {
          "output_type": "stream",
          "name": "stderr",
          "text": [
            "\u001b[34m\u001b[1mtrain: \u001b[0mScanning /content/drive/MyDrive/Deep_learning/Eyelid_segmentation/MOBIUS/YOLOv8_training/data/labels/train.cache... 2833 images, 0 backgrounds, 0 corrupt: 100%|██████████| 2833/2833 [00:00<?, ?it/s]\n"
          ]
        },
        {
          "output_type": "stream",
          "name": "stdout",
          "text": [
            "\u001b[34m\u001b[1malbumentations: \u001b[0mBlur(p=0.01, blur_limit=(3, 7)), MedianBlur(p=0.01, blur_limit=(3, 7)), ToGray(p=0.01, num_output_channels=3, method='weighted_average'), CLAHE(p=0.01, clip_limit=(1, 4.0), tile_grid_size=(8, 8))\n"
          ]
        },
        {
          "output_type": "stream",
          "name": "stderr",
          "text": [
            "\u001b[34m\u001b[1mval: \u001b[0mScanning /content/drive/MyDrive/Deep_learning/Eyelid_segmentation/MOBIUS/YOLOv8_training/data/labels/val.cache... 709 images, 0 backgrounds, 0 corrupt: 100%|██████████| 709/709 [00:00<?, ?it/s]\n"
          ]
        },
        {
          "output_type": "stream",
          "name": "stdout",
          "text": [
            "Plotting labels to /content/drive/MyDrive/Deep_learning/Eyelid_segmentation/MOBIUS/YOLOv8_training_LR/ultralytics/runs/segment/train5/labels.jpg... \n",
            "\u001b[34m\u001b[1moptimizer:\u001b[0m 'optimizer=auto' found, ignoring 'lr0=0.01' and 'momentum=0.937' and determining best 'optimizer', 'lr0' and 'momentum' automatically... \n",
            "\u001b[34m\u001b[1moptimizer:\u001b[0m SGD(lr=0.01, momentum=0.9) with parameter groups 72 weight(decay=0.0), 83 weight(decay=0.0005), 82 bias(decay=0.0)\n"
          ]
        }
      ]
    }
  ]
}