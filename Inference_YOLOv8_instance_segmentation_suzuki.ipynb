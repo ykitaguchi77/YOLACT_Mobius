{
  "nbformat": 4,
  "nbformat_minor": 0,
  "metadata": {
    "colab": {
      "provenance": [],
      "gpuType": "T4",
      "include_colab_link": true
    },
    "kernelspec": {
      "name": "python3",
      "display_name": "Python 3"
    },
    "language_info": {
      "name": "python"
    },
    "accelerator": "GPU"
  },
  "cells": [
    {
      "cell_type": "markdown",
      "metadata": {
        "id": "view-in-github",
        "colab_type": "text"
      },
      "source": [
        "<a href=\"https://colab.research.google.com/github/ykitaguchi77/YOLACT_Mobius/blob/main/Inference_YOLOv8_instance_segmentation_suzuki.ipynb\" target=\"_parent\"><img src=\"https://colab.research.google.com/assets/colab-badge.svg\" alt=\"Open In Colab\"/></a>"
      ]
    },
    {
      "cell_type": "code",
      "source": [
        "import cv2\n",
        "from google.colab import drive\n",
        "import shutil\n",
        "drive.mount('/content/drive')\n",
        "#driveのマウント\n",
        "!git clone https://github.com/ultralytics/ultralytics\n",
        "%cd ultralytics\n",
        "#yolov8\n",
        "!pip install -r requirements.\n",
        "\n",
        "from ultralytics import YOLO\n",
        "model = YOLO(\"yolov8x.pt\")"
      ],
      "metadata": {
        "colab": {
          "base_uri": "https://localhost:8080/"
        },
        "id": "VuNkk3_Og-eI",
        "outputId": "65b6266c-e971-452f-e7c4-98bc50d3812c"
      },
      "execution_count": null,
      "outputs": [
        {
          "output_type": "stream",
          "name": "stdout",
          "text": [
            "Mounted at /content/drive\n",
            "Cloning into 'ultralytics'...\n",
            "remote: Enumerating objects: 21606, done.\u001b[K\n",
            "remote: Counting objects: 100% (57/57), done.\u001b[K\n",
            "remote: Compressing objects: 100% (47/47), done.\u001b[K\n",
            "remote: Total 21606 (delta 17), reused 34 (delta 10), pack-reused 21549\u001b[K\n",
            "Receiving objects: 100% (21606/21606), 13.01 MiB | 21.63 MiB/s, done.\n",
            "Resolving deltas: 100% (15007/15007), done.\n",
            "/content/ultralytics\n",
            "\u001b[31mERROR: Could not open requirements file: [Errno 2] No such file or directory: 'requirements.'\u001b[0m\u001b[31m\n",
            "\u001b[0mDownloading https://github.com/ultralytics/assets/releases/download/v8.1.0/yolov8x.pt to 'yolov8x.pt'...\n"
          ]
        },
        {
          "output_type": "stream",
          "name": "stderr",
          "text": [
            "100%|██████████| 131M/131M [00:01<00:00, 118MB/s]\n"
          ]
        }
      ]
    },
    {
      "cell_type": "code",
      "source": [
        "\n",
        "# model = YOLO(\"yolov8n-seg.pt\")\n",
        "# results = model('bus.jpg',save=True,task='segment')#/content/ultralytics/bus.jpgを利用\n",
        "# #Results saved to /content/ultralytics/runs/segment/predictの下に保存される\n",
        "\n",
        "\n",
        "# Load a model\n",
        "model = YOLO('yolov8n-seg.yaml').load('yolov8n.pt')  # build from YAML and transfer weights\n",
        "\n",
        "#学習用\n",
        "# results = model.train(data='coco128-seg.yaml', epochs=5, imgsz=640)\n",
        "\n",
        "\n",
        "\n",
        "\n",
        "# コピー元ファイルのパス\n",
        "source_file_path = '/content/drive/MyDrive/AI_laboratory_course/武市/eyeditect-1.yaml'\n",
        "\n",
        "# コピー先フォルダのパス\n",
        "destination_folder = '/content/ultralytics/ultralytics/cfg/datasets'\n",
        "\n",
        "# shutilモジュールのcopy関数を使用してファイルをコピー\n",
        "shutil.copy(source_file_path, destination_folder)\n",
        "\n",
        "\n",
        "#nc = 3に変更\n",
        "# Load a model\n",
        "model = YOLO('yolov8n-seg.yaml').load('yolov8n.pt')  # build from YAML and transfer weights\n",
        "\n",
        "\n",
        "#学習用\n",
        "# result =  model.train(data='eyeditect-1.yaml', epochs=30, imgsz=640)\n",
        "\n",
        "\n",
        "# コンフィグは学習時と同じコンフィグでよい\n",
        "#model = YOLO(\"/Users/ryuka/workspace/Python/Image_AI/yolov8/ultralytics-main/ultralytics/cfg/models/v8/myyolov8.yaml\")  # build a new model from scratch\n",
        "\n",
        "# bestのモデルを使う,trainのウェイトのベストのパスを指定\n",
        "model = YOLO(\"/content/drive/MyDrive/AI_laboratory_course/武市/3foldersbest.pt\")  # load a pretrained model (recommended for training)\n",
        "\n",
        "\n",
        "#画像のパスを入力\n",
        "img_path = \"/content/斜視3.png\"\n",
        "results = model(img_path, save=True)  # predict on an image\n"
      ],
      "metadata": {
        "id": "XcO7FcXSaxZc",
        "colab": {
          "base_uri": "https://localhost:8080/"
        },
        "outputId": "f09a1781-86ac-4d99-f578-cd894af0c0e2"
      },
      "execution_count": null,
      "outputs": [
        {
          "output_type": "stream",
          "name": "stdout",
          "text": [
            "Downloading https://github.com/ultralytics/assets/releases/download/v8.1.0/yolov8n.pt to 'yolov8n.pt'...\n"
          ]
        },
        {
          "output_type": "stream",
          "name": "stderr",
          "text": [
            "100%|██████████| 6.23M/6.23M [00:00<00:00, 70.7MB/s]\n"
          ]
        },
        {
          "output_type": "stream",
          "name": "stdout",
          "text": [
            "Transferred 355/417 items from pretrained weights\n",
            "Transferred 355/417 items from pretrained weights\n",
            "\n",
            "image 1/1 /content/斜視3.png: 480x640 1 eyelid, 1 irys, 1 pupil, 1501.2ms\n",
            "Speed: 16.7ms preprocess, 1501.2ms inference, 114.6ms postprocess per image at shape (1, 3, 480, 640)\n",
            "Results saved to \u001b[1m/content/ultralytics/runs/segment/predict\u001b[0m\n"
          ]
        }
      ]
    },
    {
      "cell_type": "code",
      "source": [
        "import numpy as np\n",
        "\n",
        "eyelid_boxes = []  # eyelidの座標を格納するためのリスト\n",
        "irys_boxes = []    # irysの座標を格納するためのリスト\n",
        "\n",
        "result = results[0]  # 検出結果を取得\n",
        "\n",
        "# 検出されたオブジェクトを一度に処理\n",
        "for box in result.boxes:\n",
        "    class_id = result.names[box.cls[0].item()]  # オブジェクトのクラスIDを取得\n",
        "    cords = box.xyxy[0].tolist()  # バウンディングボックスの座標をリストとして取得\n",
        "    cords = [round(x) for x in cords]  # 座標を四捨五入\n",
        "\n",
        "    # クラスIDに応じて対応するリストに座標を追加\n",
        "    if class_id == 'eyelid':\n",
        "        eyelid_boxes.append(np.array([[cords[0], cords[1]], [cords[2], cords[3]]]))\n",
        "    elif class_id == 'irys':\n",
        "        irys_boxes.append(np.array([[cords[0], cords[1]], [cords[2], cords[3]]]))\n",
        "\n",
        "# 取得したeyelidのバウンディングボックスの座標を表示\n",
        "for i, box in enumerate(eyelid_boxes):\n",
        "    print(f\"Eyelid {i}: Coordinates: \\n{box}\")\n",
        "\n",
        "# 取得したirysのバウンディングボックスの座標を表示\n",
        "for i, box in enumerate(irys_boxes):\n",
        "    print(f\"Irys {i}: Coordinates: \\n{box}\")\n",
        "\n",
        "\n",
        "# prompt: 同様にして、pupil_boxesを作って\n",
        "\n",
        "import numpy as np\n",
        "pupil_boxes = []  # pupilの座標を格納するためのリスト\n",
        "\n",
        "# 検出されたオブジェクトを一度に処理\n",
        "for box in result.boxes:\n",
        "    class_id = result.names[box.cls[0].item()]  # オブジェクトのクラスIDを取得\n",
        "    cords = box.xyxy[0].tolist()  # バウンディングボックスの座標をリストとして取得\n",
        "    cords = [round(x) for x in cords]  # 座標を四捨五入\n",
        "\n",
        "    # クラスIDに応じて対応するリストに座標を追加\n",
        "    if class_id == 'pupil':\n",
        "        pupil_boxes.append(np.array([[cords[0], cords[1]], [cords[2], cords[3]]]))\n",
        "\n",
        "# 取得したpupilのバウンディングボックスの座標を表示\n",
        "for i, box in enumerate(pupil_boxes):\n",
        "    print(f\"Pupil {i}: Coordinates: \\n{box}\")\n",
        "\n",
        "\n",
        "# prompt: eyelid_boxes[0]の二つの座標から重心を出して\n",
        "\n",
        "\n",
        "eyelid_center = np.mean(eyelid_boxes[0], axis=0)\n",
        "# print(\"Eyelid center coordinates:\", eyelid_center)\n",
        "irys_center = np.mean(irys_boxes[0], axis=0)\n",
        "# print(\"Irys center coordinates:\", irys_center)\n",
        "\n",
        "\n",
        "pupil_center = np.mean(pupil_boxes[0], axis=0)\n",
        "print(\"Pupil center coordinates:\", pupil_center)\n",
        "\n",
        "\n",
        "# prompt: pupil_centerからirys_boxesによって構成される長方形の各辺の長さを調べ、絶対値が一番大きい値をdiameterに代入して\n",
        "\n",
        "# irys_boxes[0]の左上の座標を取得\n",
        "irys_top_left = irys_boxes[0][0]\n",
        "\n",
        "# irys_boxes[0]の右下の座標を取得\n",
        "irys_bottom_right = irys_boxes[0][1]\n",
        "\n",
        "# irys_boxes[0]の長方形の幅を計算\n",
        "irys_width = abs(irys_top_left[0] - irys_bottom_right[0])\n",
        "\n",
        "# irys_boxes[0]の長方形の高さを計算\n",
        "irys_height = abs(irys_top_left[1] - irys_bottom_right[1])\n",
        "\n",
        "# pupil_centerからirys_boxes[0]の長方形の左辺までの距離を計算\n",
        "left_distance = abs(pupil_center[0] - irys_top_left[0])\n",
        "\n",
        "# pupil_centerからirys_boxes[0]の長方形の右辺までの距離を計算\n",
        "right_distance = abs(pupil_center[0] - irys_bottom_right[0])\n",
        "\n",
        "# pupil_centerからirys_boxes[0]の長方形の上辺までの距離を計算\n",
        "top_distance = abs(pupil_center[1] - irys_top_left[1])\n",
        "\n",
        "# pupil_centerからirys_boxes[0]の長方形の下辺までの距離を計算\n",
        "bottom_distance = abs(pupil_center[1] - irys_bottom_right[1])\n",
        "\n",
        "# 4辺の長さのうち、絶対値が一番大きい値をdiameterに代入\n",
        "diameter = max(irys_width, irys_height, left_distance, right_distance, top_distance, bottom_distance)\n",
        "\n",
        "print(\"Diameter:\", diameter)\n",
        "\n",
        "\n",
        "\n",
        "\n",
        "\n",
        "#眼球中心からのベクトル\n",
        "eyelid_vec = np.array([eyelid_center[0], eyelid_center[1], diameter])\n",
        "iris_vec = np.array([irys_center[0], irys_center[1], diameter])\n",
        "\n",
        "iris_vec = np.array([irys_center[0], irys_center[1], diameter])\n",
        "eyelid_vec = np.array([eyelid_center[0], eyelid_center[1], diameter])\n",
        "\n",
        "# 内積を求める\n",
        "dot_product = np.dot(iris_vec, eyelid_vec)\n",
        "\n",
        "# ノルムを求める\n",
        "iris_norm = np.linalg.norm(iris_vec)\n",
        "eyelid_norm = np.linalg.norm(eyelid_vec)\n",
        "\n",
        "# コサインを求める\n",
        "cos_theta = dot_product / (iris_norm * eyelid_norm)\n",
        "\n",
        "# ラジアンから度に変換\n",
        "theta = round(np.arccos(cos_theta) * 180 / np.pi, 2)\n",
        "\n",
        "# 結果を出力\n",
        "print(\"斜視角\", theta, \"度です。\")\n",
        "\n",
        "\n",
        "from google.colab.patches import cv2_imshow\n",
        "import cv2\n",
        "\n",
        "# 画像を読み込む\n",
        "img = cv2.imread(img_path)\n",
        "\n",
        "# 矢印の始点と終点を指定\n",
        "p1 = tuple(int(i) for i in eyelid_center)\n",
        "p2 = tuple(int(i) for i in pupil_center)  # irys_centerをそのまま使用\n",
        "\n",
        "# 矢印を描画\n",
        "cv2.arrowedLine(img, p1, p2, (0, 255, 0), 2)\n",
        "\n",
        "# 画像を表示\n",
        "cv2_imshow(img)"
      ],
      "metadata": {
        "colab": {
          "base_uri": "https://localhost:8080/",
          "height": 401
        },
        "id": "RYt3Znf02RMc",
        "outputId": "f5722f67-13e2-40d4-e9c6-ebb49540b53c"
      },
      "execution_count": null,
      "outputs": [
        {
          "output_type": "stream",
          "name": "stdout",
          "text": [
            "Eyelid 0: Coordinates: \n",
            "[[ 47  51]\n",
            " [175 114]]\n",
            "Irys 0: Coordinates: \n",
            "[[ 50  54]\n",
            " [107 111]]\n",
            "Pupil 0: Coordinates: \n",
            "[[67 65]\n",
            " [87 89]]\n",
            "Pupil center coordinates: [         77          77]\n",
            "Diameter: 57\n",
            "斜視角 9.85 度です。\n"
          ]
        },
        {
          "output_type": "display_data",
          "data": {
            "text/plain": [
              "<PIL.Image.Image image mode=RGB size=230x166>"
            ],
            "image/png": "[encoded data removed]"
          },
          "metadata": {}
        }
      ]
    },
    {
      "cell_type": "code",
      "source": [
        "eyelid_boxes"
      ],
      "metadata": {
        "colab": {
          "base_uri": "https://localhost:8080/"
        },
        "id": "k67iS-MaRfqb",
        "outputId": "7867bc09-64e4-41af-a918-20e8c95db3b9"
      },
      "execution_count": null,
      "outputs": [
        {
          "output_type": "execute_result",
          "data": {
            "text/plain": [
              "[array([[406, 325],\n",
              "        [756, 543]])]"
            ]
          },
          "metadata": {},
          "execution_count": 29
        }
      ]
    },
    {
      "cell_type": "code",
      "source": [
        "eyelid_center\n"
      ],
      "metadata": {
        "colab": {
          "base_uri": "https://localhost:8080/"
        },
        "id": "BB_soh5RRqzf",
        "outputId": "04be8b86-351c-4a9d-df94-104bcfc683eb"
      },
      "execution_count": null,
      "outputs": [
        {
          "output_type": "execute_result",
          "data": {
            "text/plain": [
              "array([        581,         434])"
            ]
          },
          "metadata": {},
          "execution_count": 31
        }
      ]
    },
    {
      "cell_type": "code",
      "source": [
        "pupil_boxes\n"
      ],
      "metadata": {
        "colab": {
          "base_uri": "https://localhost:8080/"
        },
        "id": "NwIltC0dRhey",
        "outputId": "e2426197-bc9a-4ac9-c569-69e9c3b5ecf9"
      },
      "execution_count": null,
      "outputs": [
        {
          "output_type": "execute_result",
          "data": {
            "text/plain": [
              "[array([[476, 355],\n",
              "        [590, 479]])]"
            ]
          },
          "metadata": {},
          "execution_count": 30
        }
      ]
    },
    {
      "cell_type": "code",
      "source": [
        "pupil_center"
      ],
      "metadata": {
        "colab": {
          "base_uri": "https://localhost:8080/"
        },
        "id": "SVQi0_Q9Rojf",
        "outputId": "c469e185-6bdc-4597-9cf6-b6b318baccc4"
      },
      "execution_count": null,
      "outputs": [
        {
          "output_type": "execute_result",
          "data": {
            "text/plain": [
              "array([        533,         417])"
            ]
          },
          "metadata": {},
          "execution_count": 34
        }
      ]
    },
    {
      "cell_type": "code",
      "source": [],
      "metadata": {
        "id": "R2M7u1JWRy6m"
      },
      "execution_count": null,
      "outputs": []
    }
  ]
}